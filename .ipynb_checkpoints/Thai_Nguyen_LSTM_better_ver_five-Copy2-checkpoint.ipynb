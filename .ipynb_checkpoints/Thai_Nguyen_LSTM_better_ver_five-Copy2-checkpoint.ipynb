{
 "cells": [
  {
   "cell_type": "code",
   "execution_count": 1,
   "metadata": {},
   "outputs": [],
   "source": [
    "import tensorflow as tf"
   ]
  },
  {
   "cell_type": "code",
   "execution_count": 2,
   "metadata": {},
   "outputs": [
    {
     "data": {
      "text/plain": [
       "0"
      ]
     },
     "execution_count": 2,
     "metadata": {},
     "output_type": "execute_result"
    }
   ],
   "source": [
    "len(tf.config.experimental.list_physical_devices('GPU'))"
   ]
  },
  {
   "cell_type": "code",
   "execution_count": 3,
   "metadata": {
    "id": "LcAqTEOMjYMn"
   },
   "outputs": [],
   "source": [
    "#!pip install tensorflow\n",
    "#!pip install pandas_datareader\n",
    "#!pip install torch"
   ]
  },
  {
   "cell_type": "code",
   "execution_count": 4,
   "metadata": {
    "id": "0HH8gQW8jYMv"
   },
   "outputs": [],
   "source": [
    "# Make sure that you have all these libaries available to run the code successfully\n",
    "from pandas_datareader import data\n",
    "import matplotlib.pyplot as plt\n",
    "import pandas as pd\n",
    "import datetime as dt\n",
    "import urllib.request, json\n",
    "import os\n",
    "import numpy as np\n",
    "import tensorflow as tf # This code has been tested with TensorFlow 1.6\n",
    "from sklearn.preprocessing import MinMaxScaler\n",
    "import pandas as pd\n",
    "import torch\n",
    "from sklearn import preprocessing\n",
    "from sklearn.model_selection import train_test_split\n",
    "import numpy as np\n",
    "from torch import nn\n",
    "from torch import optim\n",
    "from torch.nn import functional as F\n",
    "from torch.optim.lr_scheduler import _LRScheduler\n",
    "from torch.utils.data import TensorDataset, DataLoader\n",
    "import matplotlib.pyplot as plt\n",
    "from multiprocessing import cpu_count\n",
    "from pathlib import Path\n",
    "\n",
    "pd.set_option('display.max_rows', 10000)"
   ]
  },
  {
   "cell_type": "code",
   "execution_count": 5,
   "metadata": {
    "id": "RCjOj0oNjYMy"
   },
   "outputs": [],
   "source": [
    "dataset_train = pd.read_csv('https://raw.githubusercontent.com/minhthai1995/FIT5149/main/train_data_withlabels.csv')\n",
    "dataset_test = pd.read_csv('https://raw.githubusercontent.com/minhthai1995/FIT5149/main/test_data_nolabels.csv')"
   ]
  },
  {
   "cell_type": "code",
   "execution_count": 6,
   "metadata": {
    "colab": {
     "base_uri": "https://localhost:8080/",
     "height": 204
    },
    "id": "DXlKjIpRjYMz",
    "outputId": "7e0bf74e-7e1e-4a56-b78f-9361b93820e6"
   },
   "outputs": [
    {
     "data": {
      "text/html": [
       "<div>\n",
       "<style scoped>\n",
       "    .dataframe tbody tr th:only-of-type {\n",
       "        vertical-align: middle;\n",
       "    }\n",
       "\n",
       "    .dataframe tbody tr th {\n",
       "        vertical-align: top;\n",
       "    }\n",
       "\n",
       "    .dataframe thead th {\n",
       "        text-align: right;\n",
       "    }\n",
       "</style>\n",
       "<table border=\"1\" class=\"dataframe\">\n",
       "  <thead>\n",
       "    <tr style=\"text-align: right;\">\n",
       "      <th></th>\n",
       "      <th>Unnamed: 0</th>\n",
       "      <th>load</th>\n",
       "      <th>ac</th>\n",
       "      <th>ev</th>\n",
       "      <th>oven</th>\n",
       "      <th>wash</th>\n",
       "      <th>dryer</th>\n",
       "      <th>hourofday</th>\n",
       "      <th>dayofweek</th>\n",
       "      <th>dif</th>\n",
       "      <th>absdif</th>\n",
       "      <th>max</th>\n",
       "      <th>var</th>\n",
       "      <th>entropy</th>\n",
       "      <th>nonlinear</th>\n",
       "      <th>hurst</th>\n",
       "    </tr>\n",
       "  </thead>\n",
       "  <tbody>\n",
       "    <tr>\n",
       "      <th>417715</th>\n",
       "      <td>523256</td>\n",
       "      <td>2.543</td>\n",
       "      <td>0</td>\n",
       "      <td>0</td>\n",
       "      <td>0</td>\n",
       "      <td>0</td>\n",
       "      <td>0</td>\n",
       "      <td>21</td>\n",
       "      <td>Tue</td>\n",
       "      <td>-0.003</td>\n",
       "      <td>0.003</td>\n",
       "      <td>0.0</td>\n",
       "      <td>0.0</td>\n",
       "      <td>0.0</td>\n",
       "      <td>0.0</td>\n",
       "      <td>0.0</td>\n",
       "    </tr>\n",
       "    <tr>\n",
       "      <th>417716</th>\n",
       "      <td>523257</td>\n",
       "      <td>2.417</td>\n",
       "      <td>0</td>\n",
       "      <td>0</td>\n",
       "      <td>0</td>\n",
       "      <td>0</td>\n",
       "      <td>0</td>\n",
       "      <td>21</td>\n",
       "      <td>Tue</td>\n",
       "      <td>-0.126</td>\n",
       "      <td>0.126</td>\n",
       "      <td>0.0</td>\n",
       "      <td>0.0</td>\n",
       "      <td>0.0</td>\n",
       "      <td>0.0</td>\n",
       "      <td>0.0</td>\n",
       "    </tr>\n",
       "    <tr>\n",
       "      <th>417717</th>\n",
       "      <td>523258</td>\n",
       "      <td>0.999</td>\n",
       "      <td>0</td>\n",
       "      <td>0</td>\n",
       "      <td>0</td>\n",
       "      <td>0</td>\n",
       "      <td>0</td>\n",
       "      <td>21</td>\n",
       "      <td>Tue</td>\n",
       "      <td>-1.418</td>\n",
       "      <td>1.418</td>\n",
       "      <td>0.0</td>\n",
       "      <td>0.0</td>\n",
       "      <td>0.0</td>\n",
       "      <td>0.0</td>\n",
       "      <td>0.0</td>\n",
       "    </tr>\n",
       "    <tr>\n",
       "      <th>417718</th>\n",
       "      <td>523259</td>\n",
       "      <td>0.966</td>\n",
       "      <td>0</td>\n",
       "      <td>0</td>\n",
       "      <td>0</td>\n",
       "      <td>0</td>\n",
       "      <td>0</td>\n",
       "      <td>21</td>\n",
       "      <td>Tue</td>\n",
       "      <td>-0.033</td>\n",
       "      <td>0.033</td>\n",
       "      <td>0.0</td>\n",
       "      <td>0.0</td>\n",
       "      <td>0.0</td>\n",
       "      <td>0.0</td>\n",
       "      <td>0.0</td>\n",
       "    </tr>\n",
       "    <tr>\n",
       "      <th>417719</th>\n",
       "      <td>523260</td>\n",
       "      <td>0.964</td>\n",
       "      <td>0</td>\n",
       "      <td>0</td>\n",
       "      <td>0</td>\n",
       "      <td>0</td>\n",
       "      <td>0</td>\n",
       "      <td>21</td>\n",
       "      <td>Tue</td>\n",
       "      <td>-0.002</td>\n",
       "      <td>0.002</td>\n",
       "      <td>0.0</td>\n",
       "      <td>0.0</td>\n",
       "      <td>0.0</td>\n",
       "      <td>0.0</td>\n",
       "      <td>0.0</td>\n",
       "    </tr>\n",
       "  </tbody>\n",
       "</table>\n",
       "</div>"
      ],
      "text/plain": [
       "        Unnamed: 0   load  ac  ev  oven  wash  dryer  hourofday dayofweek  \\\n",
       "417715      523256  2.543   0   0     0     0      0         21       Tue   \n",
       "417716      523257  2.417   0   0     0     0      0         21       Tue   \n",
       "417717      523258  0.999   0   0     0     0      0         21       Tue   \n",
       "417718      523259  0.966   0   0     0     0      0         21       Tue   \n",
       "417719      523260  0.964   0   0     0     0      0         21       Tue   \n",
       "\n",
       "          dif  absdif  max  var  entropy  nonlinear  hurst  \n",
       "417715 -0.003   0.003  0.0  0.0      0.0        0.0    0.0  \n",
       "417716 -0.126   0.126  0.0  0.0      0.0        0.0    0.0  \n",
       "417717 -1.418   1.418  0.0  0.0      0.0        0.0    0.0  \n",
       "417718 -0.033   0.033  0.0  0.0      0.0        0.0    0.0  \n",
       "417719 -0.002   0.002  0.0  0.0      0.0        0.0    0.0  "
      ]
     },
     "execution_count": 6,
     "metadata": {},
     "output_type": "execute_result"
    }
   ],
   "source": [
    "dataset_train.tail()"
   ]
  },
  {
   "cell_type": "code",
   "execution_count": 7,
   "metadata": {
    "colab": {
     "base_uri": "https://localhost:8080/",
     "height": 204
    },
    "id": "Vmso9W__jYNC",
    "outputId": "34cd1a83-0b7a-41bb-fb16-ae968ccd938d"
   },
   "outputs": [
    {
     "data": {
      "text/html": [
       "<div>\n",
       "<style scoped>\n",
       "    .dataframe tbody tr th:only-of-type {\n",
       "        vertical-align: middle;\n",
       "    }\n",
       "\n",
       "    .dataframe tbody tr th {\n",
       "        vertical-align: top;\n",
       "    }\n",
       "\n",
       "    .dataframe thead th {\n",
       "        text-align: right;\n",
       "    }\n",
       "</style>\n",
       "<table border=\"1\" class=\"dataframe\">\n",
       "  <thead>\n",
       "    <tr style=\"text-align: right;\">\n",
       "      <th></th>\n",
       "      <th>Unnamed: 0</th>\n",
       "      <th>load</th>\n",
       "      <th>hourofday</th>\n",
       "      <th>dayofweek</th>\n",
       "      <th>dif</th>\n",
       "      <th>absdif</th>\n",
       "      <th>max</th>\n",
       "      <th>var</th>\n",
       "      <th>entropy</th>\n",
       "      <th>nonlinear</th>\n",
       "      <th>hurst</th>\n",
       "    </tr>\n",
       "  </thead>\n",
       "  <tbody>\n",
       "    <tr>\n",
       "      <th>0</th>\n",
       "      <td>1</td>\n",
       "      <td>1.869</td>\n",
       "      <td>0</td>\n",
       "      <td>Mon</td>\n",
       "      <td>0.000</td>\n",
       "      <td>0.000</td>\n",
       "      <td>0.0</td>\n",
       "      <td>0.0</td>\n",
       "      <td>0.0</td>\n",
       "      <td>0.0</td>\n",
       "      <td>0.0</td>\n",
       "    </tr>\n",
       "    <tr>\n",
       "      <th>1</th>\n",
       "      <td>2</td>\n",
       "      <td>1.673</td>\n",
       "      <td>0</td>\n",
       "      <td>Mon</td>\n",
       "      <td>-0.196</td>\n",
       "      <td>0.196</td>\n",
       "      <td>0.0</td>\n",
       "      <td>0.0</td>\n",
       "      <td>0.0</td>\n",
       "      <td>0.0</td>\n",
       "      <td>0.0</td>\n",
       "    </tr>\n",
       "    <tr>\n",
       "      <th>2</th>\n",
       "      <td>3</td>\n",
       "      <td>1.660</td>\n",
       "      <td>0</td>\n",
       "      <td>Mon</td>\n",
       "      <td>-0.013</td>\n",
       "      <td>0.013</td>\n",
       "      <td>0.0</td>\n",
       "      <td>0.0</td>\n",
       "      <td>0.0</td>\n",
       "      <td>0.0</td>\n",
       "      <td>0.0</td>\n",
       "    </tr>\n",
       "    <tr>\n",
       "      <th>3</th>\n",
       "      <td>4</td>\n",
       "      <td>1.772</td>\n",
       "      <td>0</td>\n",
       "      <td>Mon</td>\n",
       "      <td>0.112</td>\n",
       "      <td>0.112</td>\n",
       "      <td>0.0</td>\n",
       "      <td>0.0</td>\n",
       "      <td>0.0</td>\n",
       "      <td>0.0</td>\n",
       "      <td>0.0</td>\n",
       "    </tr>\n",
       "    <tr>\n",
       "      <th>4</th>\n",
       "      <td>5</td>\n",
       "      <td>1.679</td>\n",
       "      <td>0</td>\n",
       "      <td>Mon</td>\n",
       "      <td>-0.093</td>\n",
       "      <td>0.093</td>\n",
       "      <td>0.0</td>\n",
       "      <td>0.0</td>\n",
       "      <td>0.0</td>\n",
       "      <td>0.0</td>\n",
       "      <td>0.0</td>\n",
       "    </tr>\n",
       "  </tbody>\n",
       "</table>\n",
       "</div>"
      ],
      "text/plain": [
       "   Unnamed: 0   load  hourofday dayofweek    dif  absdif  max  var  entropy  \\\n",
       "0           1  1.869          0       Mon  0.000   0.000  0.0  0.0      0.0   \n",
       "1           2  1.673          0       Mon -0.196   0.196  0.0  0.0      0.0   \n",
       "2           3  1.660          0       Mon -0.013   0.013  0.0  0.0      0.0   \n",
       "3           4  1.772          0       Mon  0.112   0.112  0.0  0.0      0.0   \n",
       "4           5  1.679          0       Mon -0.093   0.093  0.0  0.0      0.0   \n",
       "\n",
       "   nonlinear  hurst  \n",
       "0        0.0    0.0  \n",
       "1        0.0    0.0  \n",
       "2        0.0    0.0  \n",
       "3        0.0    0.0  \n",
       "4        0.0    0.0  "
      ]
     },
     "execution_count": 7,
     "metadata": {},
     "output_type": "execute_result"
    }
   ],
   "source": [
    "dataset_test.head()"
   ]
  },
  {
   "cell_type": "code",
   "execution_count": 8,
   "metadata": {
    "id": "le_iXBFKjYNF"
   },
   "outputs": [],
   "source": [
    "dataset_total = pd.concat((dataset_train, dataset_test), axis = 0)"
   ]
  },
  {
   "cell_type": "code",
   "execution_count": 9,
   "metadata": {
    "colab": {
     "base_uri": "https://localhost:8080/"
    },
    "id": "VIkExfOGjYNR",
    "outputId": "80599878-43de-4b93-b956-9cf39c5ee542"
   },
   "outputs": [
    {
     "data": {
      "text/plain": [
       "((417720, 16), (105540, 11), (523260, 16))"
      ]
     },
     "execution_count": 9,
     "metadata": {},
     "output_type": "execute_result"
    }
   ],
   "source": [
    "dataset_train.shape, dataset_test.shape, dataset_total.shape"
   ]
  },
  {
   "cell_type": "code",
   "execution_count": 10,
   "metadata": {
    "colab": {
     "base_uri": "https://localhost:8080/",
     "height": 419
    },
    "id": "Qyw513xhjYNT",
    "outputId": "960fc6bb-1583-4653-eb74-b0cbc673cb68"
   },
   "outputs": [
    {
     "data": {
      "text/html": [
       "<div>\n",
       "<style scoped>\n",
       "    .dataframe tbody tr th:only-of-type {\n",
       "        vertical-align: middle;\n",
       "    }\n",
       "\n",
       "    .dataframe tbody tr th {\n",
       "        vertical-align: top;\n",
       "    }\n",
       "\n",
       "    .dataframe thead th {\n",
       "        text-align: right;\n",
       "    }\n",
       "</style>\n",
       "<table border=\"1\" class=\"dataframe\">\n",
       "  <thead>\n",
       "    <tr style=\"text-align: right;\">\n",
       "      <th></th>\n",
       "      <th>Unnamed: 0</th>\n",
       "      <th>load</th>\n",
       "      <th>ac</th>\n",
       "      <th>ev</th>\n",
       "      <th>oven</th>\n",
       "      <th>wash</th>\n",
       "      <th>dryer</th>\n",
       "      <th>hourofday</th>\n",
       "      <th>dayofweek</th>\n",
       "      <th>dif</th>\n",
       "      <th>absdif</th>\n",
       "      <th>max</th>\n",
       "      <th>var</th>\n",
       "      <th>entropy</th>\n",
       "      <th>nonlinear</th>\n",
       "      <th>hurst</th>\n",
       "    </tr>\n",
       "  </thead>\n",
       "  <tbody>\n",
       "    <tr>\n",
       "      <th>0</th>\n",
       "      <td>105541</td>\n",
       "      <td>2.245</td>\n",
       "      <td>0.0</td>\n",
       "      <td>0.0</td>\n",
       "      <td>0.0</td>\n",
       "      <td>0.0</td>\n",
       "      <td>0.0</td>\n",
       "      <td>0</td>\n",
       "      <td>Sun</td>\n",
       "      <td>0.987</td>\n",
       "      <td>0.987</td>\n",
       "      <td>6.215</td>\n",
       "      <td>3.074549</td>\n",
       "      <td>0.678886</td>\n",
       "      <td>0.052903</td>\n",
       "      <td>0.994071</td>\n",
       "    </tr>\n",
       "    <tr>\n",
       "      <th>1</th>\n",
       "      <td>105542</td>\n",
       "      <td>2.259</td>\n",
       "      <td>0.0</td>\n",
       "      <td>0.0</td>\n",
       "      <td>0.0</td>\n",
       "      <td>0.0</td>\n",
       "      <td>0.0</td>\n",
       "      <td>0</td>\n",
       "      <td>Sun</td>\n",
       "      <td>0.014</td>\n",
       "      <td>0.014</td>\n",
       "      <td>6.215</td>\n",
       "      <td>3.172867</td>\n",
       "      <td>0.667450</td>\n",
       "      <td>0.054829</td>\n",
       "      <td>0.994154</td>\n",
       "    </tr>\n",
       "    <tr>\n",
       "      <th>2</th>\n",
       "      <td>105543</td>\n",
       "      <td>2.269</td>\n",
       "      <td>0.0</td>\n",
       "      <td>0.0</td>\n",
       "      <td>0.0</td>\n",
       "      <td>0.0</td>\n",
       "      <td>0.0</td>\n",
       "      <td>0</td>\n",
       "      <td>Sun</td>\n",
       "      <td>0.010</td>\n",
       "      <td>0.010</td>\n",
       "      <td>6.215</td>\n",
       "      <td>3.270112</td>\n",
       "      <td>0.647777</td>\n",
       "      <td>0.056991</td>\n",
       "      <td>0.994220</td>\n",
       "    </tr>\n",
       "    <tr>\n",
       "      <th>3</th>\n",
       "      <td>105544</td>\n",
       "      <td>2.268</td>\n",
       "      <td>0.0</td>\n",
       "      <td>0.0</td>\n",
       "      <td>0.0</td>\n",
       "      <td>0.0</td>\n",
       "      <td>0.0</td>\n",
       "      <td>0</td>\n",
       "      <td>Sun</td>\n",
       "      <td>-0.001</td>\n",
       "      <td>0.001</td>\n",
       "      <td>6.215</td>\n",
       "      <td>3.303763</td>\n",
       "      <td>0.629227</td>\n",
       "      <td>0.057606</td>\n",
       "      <td>0.994150</td>\n",
       "    </tr>\n",
       "    <tr>\n",
       "      <th>4</th>\n",
       "      <td>105545</td>\n",
       "      <td>2.270</td>\n",
       "      <td>0.0</td>\n",
       "      <td>0.0</td>\n",
       "      <td>0.0</td>\n",
       "      <td>0.0</td>\n",
       "      <td>0.0</td>\n",
       "      <td>0</td>\n",
       "      <td>Sun</td>\n",
       "      <td>0.002</td>\n",
       "      <td>0.002</td>\n",
       "      <td>6.215</td>\n",
       "      <td>3.302744</td>\n",
       "      <td>0.621295</td>\n",
       "      <td>0.082640</td>\n",
       "      <td>0.994041</td>\n",
       "    </tr>\n",
       "    <tr>\n",
       "      <th>...</th>\n",
       "      <td>...</td>\n",
       "      <td>...</td>\n",
       "      <td>...</td>\n",
       "      <td>...</td>\n",
       "      <td>...</td>\n",
       "      <td>...</td>\n",
       "      <td>...</td>\n",
       "      <td>...</td>\n",
       "      <td>...</td>\n",
       "      <td>...</td>\n",
       "      <td>...</td>\n",
       "      <td>...</td>\n",
       "      <td>...</td>\n",
       "      <td>...</td>\n",
       "      <td>...</td>\n",
       "      <td>...</td>\n",
       "    </tr>\n",
       "    <tr>\n",
       "      <th>523255</th>\n",
       "      <td>105536</td>\n",
       "      <td>1.076</td>\n",
       "      <td>NaN</td>\n",
       "      <td>NaN</td>\n",
       "      <td>NaN</td>\n",
       "      <td>NaN</td>\n",
       "      <td>NaN</td>\n",
       "      <td>23</td>\n",
       "      <td>Sat</td>\n",
       "      <td>-0.001</td>\n",
       "      <td>0.001</td>\n",
       "      <td>6.204</td>\n",
       "      <td>2.484129</td>\n",
       "      <td>0.592658</td>\n",
       "      <td>0.042413</td>\n",
       "      <td>0.990185</td>\n",
       "    </tr>\n",
       "    <tr>\n",
       "      <th>523256</th>\n",
       "      <td>105537</td>\n",
       "      <td>1.019</td>\n",
       "      <td>NaN</td>\n",
       "      <td>NaN</td>\n",
       "      <td>NaN</td>\n",
       "      <td>NaN</td>\n",
       "      <td>NaN</td>\n",
       "      <td>23</td>\n",
       "      <td>Sat</td>\n",
       "      <td>-0.057</td>\n",
       "      <td>0.057</td>\n",
       "      <td>6.215</td>\n",
       "      <td>2.614626</td>\n",
       "      <td>0.601761</td>\n",
       "      <td>0.038118</td>\n",
       "      <td>0.990529</td>\n",
       "    </tr>\n",
       "    <tr>\n",
       "      <th>523257</th>\n",
       "      <td>105538</td>\n",
       "      <td>1.014</td>\n",
       "      <td>NaN</td>\n",
       "      <td>NaN</td>\n",
       "      <td>NaN</td>\n",
       "      <td>NaN</td>\n",
       "      <td>NaN</td>\n",
       "      <td>23</td>\n",
       "      <td>Sat</td>\n",
       "      <td>-0.005</td>\n",
       "      <td>0.005</td>\n",
       "      <td>6.215</td>\n",
       "      <td>2.729923</td>\n",
       "      <td>0.629122</td>\n",
       "      <td>0.048229</td>\n",
       "      <td>0.993554</td>\n",
       "    </tr>\n",
       "    <tr>\n",
       "      <th>523258</th>\n",
       "      <td>105539</td>\n",
       "      <td>1.011</td>\n",
       "      <td>NaN</td>\n",
       "      <td>NaN</td>\n",
       "      <td>NaN</td>\n",
       "      <td>NaN</td>\n",
       "      <td>NaN</td>\n",
       "      <td>23</td>\n",
       "      <td>Sat</td>\n",
       "      <td>-0.003</td>\n",
       "      <td>0.003</td>\n",
       "      <td>6.215</td>\n",
       "      <td>2.868153</td>\n",
       "      <td>0.658328</td>\n",
       "      <td>0.046729</td>\n",
       "      <td>0.993813</td>\n",
       "    </tr>\n",
       "    <tr>\n",
       "      <th>523259</th>\n",
       "      <td>105540</td>\n",
       "      <td>1.258</td>\n",
       "      <td>NaN</td>\n",
       "      <td>NaN</td>\n",
       "      <td>NaN</td>\n",
       "      <td>NaN</td>\n",
       "      <td>NaN</td>\n",
       "      <td>23</td>\n",
       "      <td>Sat</td>\n",
       "      <td>0.247</td>\n",
       "      <td>0.247</td>\n",
       "      <td>6.215</td>\n",
       "      <td>2.972294</td>\n",
       "      <td>0.676443</td>\n",
       "      <td>0.049666</td>\n",
       "      <td>0.993965</td>\n",
       "    </tr>\n",
       "  </tbody>\n",
       "</table>\n",
       "<p>523260 rows × 16 columns</p>\n",
       "</div>"
      ],
      "text/plain": [
       "        Unnamed: 0   load   ac   ev  oven  wash  dryer  hourofday dayofweek  \\\n",
       "0           105541  2.245  0.0  0.0   0.0   0.0    0.0          0       Sun   \n",
       "1           105542  2.259  0.0  0.0   0.0   0.0    0.0          0       Sun   \n",
       "2           105543  2.269  0.0  0.0   0.0   0.0    0.0          0       Sun   \n",
       "3           105544  2.268  0.0  0.0   0.0   0.0    0.0          0       Sun   \n",
       "4           105545  2.270  0.0  0.0   0.0   0.0    0.0          0       Sun   \n",
       "...            ...    ...  ...  ...   ...   ...    ...        ...       ...   \n",
       "523255      105536  1.076  NaN  NaN   NaN   NaN    NaN         23       Sat   \n",
       "523256      105537  1.019  NaN  NaN   NaN   NaN    NaN         23       Sat   \n",
       "523257      105538  1.014  NaN  NaN   NaN   NaN    NaN         23       Sat   \n",
       "523258      105539  1.011  NaN  NaN   NaN   NaN    NaN         23       Sat   \n",
       "523259      105540  1.258  NaN  NaN   NaN   NaN    NaN         23       Sat   \n",
       "\n",
       "          dif  absdif    max       var   entropy  nonlinear     hurst  \n",
       "0       0.987   0.987  6.215  3.074549  0.678886   0.052903  0.994071  \n",
       "1       0.014   0.014  6.215  3.172867  0.667450   0.054829  0.994154  \n",
       "2       0.010   0.010  6.215  3.270112  0.647777   0.056991  0.994220  \n",
       "3      -0.001   0.001  6.215  3.303763  0.629227   0.057606  0.994150  \n",
       "4       0.002   0.002  6.215  3.302744  0.621295   0.082640  0.994041  \n",
       "...       ...     ...    ...       ...       ...        ...       ...  \n",
       "523255 -0.001   0.001  6.204  2.484129  0.592658   0.042413  0.990185  \n",
       "523256 -0.057   0.057  6.215  2.614626  0.601761   0.038118  0.990529  \n",
       "523257 -0.005   0.005  6.215  2.729923  0.629122   0.048229  0.993554  \n",
       "523258 -0.003   0.003  6.215  2.868153  0.658328   0.046729  0.993813  \n",
       "523259  0.247   0.247  6.215  2.972294  0.676443   0.049666  0.993965  \n",
       "\n",
       "[523260 rows x 16 columns]"
      ]
     },
     "execution_count": 10,
     "metadata": {},
     "output_type": "execute_result"
    }
   ],
   "source": [
    "dataset_total.reset_index(inplace=True, drop=True) \n",
    "dataset_total"
   ]
  },
  {
   "cell_type": "code",
   "execution_count": 11,
   "metadata": {
    "id": "0f7bEuspjYNV"
   },
   "outputs": [],
   "source": [
    "scale_list = ['absdif', 'dif', 'entropy', 'hurst', 'load', 'max', 'nonlinear', 'var']\n",
    "scaler = preprocessing.MinMaxScaler().fit(dataset_total[scale_list])\n",
    "dataset_total[scale_list] = scaler.transform(dataset_total[scale_list])"
   ]
  },
  {
   "cell_type": "code",
   "execution_count": 12,
   "metadata": {
    "id": "XYjX3f4ljYNa"
   },
   "outputs": [],
   "source": [
    "labelEncoderDay = preprocessing.LabelEncoder().fit(dataset_total['dayofweek'])\n",
    "labelEncoderHour = preprocessing.LabelEncoder().fit(dataset_total['hourofday'])\n",
    "dataset_total['dayofweek'] = labelEncoderDay.transform(dataset_total['dayofweek'])\n",
    "dataset_total['hourofday'] = labelEncoderHour.transform(dataset_total['hourofday'])\n"
   ]
  },
  {
   "cell_type": "code",
   "execution_count": 13,
   "metadata": {
    "id": "0FptlHXIxFrV"
   },
   "outputs": [],
   "source": [
    "label_list = ['ac', 'ev', 'oven', 'wash', 'dryer']\n",
    "dataset_total[label_list] = dataset_total[label_list].fillna(0.0).astype(int)\n"
   ]
  },
  {
   "cell_type": "code",
   "execution_count": 14,
   "metadata": {
    "colab": {
     "base_uri": "https://localhost:8080/",
     "height": 241
    },
    "id": "1Cj3QPEbjYNd",
    "outputId": "0d3fae26-4950-4e18-d346-c81a386cd0a9"
   },
   "outputs": [
    {
     "data": {
      "text/html": [
       "<div>\n",
       "<style scoped>\n",
       "    .dataframe tbody tr th:only-of-type {\n",
       "        vertical-align: middle;\n",
       "    }\n",
       "\n",
       "    .dataframe tbody tr th {\n",
       "        vertical-align: top;\n",
       "    }\n",
       "\n",
       "    .dataframe thead th {\n",
       "        text-align: right;\n",
       "    }\n",
       "</style>\n",
       "<table border=\"1\" class=\"dataframe\">\n",
       "  <thead>\n",
       "    <tr style=\"text-align: right;\">\n",
       "      <th></th>\n",
       "      <th>Unnamed: 0</th>\n",
       "      <th>load</th>\n",
       "      <th>ac</th>\n",
       "      <th>ev</th>\n",
       "      <th>oven</th>\n",
       "      <th>wash</th>\n",
       "      <th>dryer</th>\n",
       "      <th>hourofday</th>\n",
       "      <th>dayofweek</th>\n",
       "      <th>dif</th>\n",
       "      <th>absdif</th>\n",
       "      <th>max</th>\n",
       "      <th>var</th>\n",
       "      <th>entropy</th>\n",
       "      <th>nonlinear</th>\n",
       "      <th>hurst</th>\n",
       "    </tr>\n",
       "  </thead>\n",
       "  <tbody>\n",
       "    <tr>\n",
       "      <th>523255</th>\n",
       "      <td>105536</td>\n",
       "      <td>0.065510</td>\n",
       "      <td>0</td>\n",
       "      <td>0</td>\n",
       "      <td>0</td>\n",
       "      <td>0</td>\n",
       "      <td>0</td>\n",
       "      <td>23</td>\n",
       "      <td>2</td>\n",
       "      <td>0.511194</td>\n",
       "      <td>0.000125</td>\n",
       "      <td>0.509611</td>\n",
       "      <td>0.151982</td>\n",
       "      <td>0.592666</td>\n",
       "      <td>0.000647</td>\n",
       "      <td>0.993362</td>\n",
       "    </tr>\n",
       "    <tr>\n",
       "      <th>523256</th>\n",
       "      <td>105537</td>\n",
       "      <td>0.060711</td>\n",
       "      <td>0</td>\n",
       "      <td>0</td>\n",
       "      <td>0</td>\n",
       "      <td>0</td>\n",
       "      <td>0</td>\n",
       "      <td>23</td>\n",
       "      <td>2</td>\n",
       "      <td>0.507602</td>\n",
       "      <td>0.007152</td>\n",
       "      <td>0.510514</td>\n",
       "      <td>0.159966</td>\n",
       "      <td>0.601769</td>\n",
       "      <td>0.000581</td>\n",
       "      <td>0.993707</td>\n",
       "    </tr>\n",
       "    <tr>\n",
       "      <th>523257</th>\n",
       "      <td>105538</td>\n",
       "      <td>0.060290</td>\n",
       "      <td>0</td>\n",
       "      <td>0</td>\n",
       "      <td>0</td>\n",
       "      <td>0</td>\n",
       "      <td>0</td>\n",
       "      <td>23</td>\n",
       "      <td>2</td>\n",
       "      <td>0.510937</td>\n",
       "      <td>0.000627</td>\n",
       "      <td>0.510514</td>\n",
       "      <td>0.167020</td>\n",
       "      <td>0.629130</td>\n",
       "      <td>0.000735</td>\n",
       "      <td>0.996741</td>\n",
       "    </tr>\n",
       "    <tr>\n",
       "      <th>523258</th>\n",
       "      <td>105539</td>\n",
       "      <td>0.060037</td>\n",
       "      <td>0</td>\n",
       "      <td>0</td>\n",
       "      <td>0</td>\n",
       "      <td>0</td>\n",
       "      <td>0</td>\n",
       "      <td>23</td>\n",
       "      <td>2</td>\n",
       "      <td>0.511065</td>\n",
       "      <td>0.000376</td>\n",
       "      <td>0.510514</td>\n",
       "      <td>0.175477</td>\n",
       "      <td>0.658337</td>\n",
       "      <td>0.000712</td>\n",
       "      <td>0.997001</td>\n",
       "    </tr>\n",
       "    <tr>\n",
       "      <th>523259</th>\n",
       "      <td>105540</td>\n",
       "      <td>0.080835</td>\n",
       "      <td>0</td>\n",
       "      <td>0</td>\n",
       "      <td>0</td>\n",
       "      <td>0</td>\n",
       "      <td>0</td>\n",
       "      <td>23</td>\n",
       "      <td>2</td>\n",
       "      <td>0.527102</td>\n",
       "      <td>0.030991</td>\n",
       "      <td>0.510514</td>\n",
       "      <td>0.181849</td>\n",
       "      <td>0.676451</td>\n",
       "      <td>0.000757</td>\n",
       "      <td>0.997154</td>\n",
       "    </tr>\n",
       "  </tbody>\n",
       "</table>\n",
       "</div>"
      ],
      "text/plain": [
       "        Unnamed: 0      load  ac  ev  oven  wash  dryer  hourofday  dayofweek  \\\n",
       "523255      105536  0.065510   0   0     0     0      0         23          2   \n",
       "523256      105537  0.060711   0   0     0     0      0         23          2   \n",
       "523257      105538  0.060290   0   0     0     0      0         23          2   \n",
       "523258      105539  0.060037   0   0     0     0      0         23          2   \n",
       "523259      105540  0.080835   0   0     0     0      0         23          2   \n",
       "\n",
       "             dif    absdif       max       var   entropy  nonlinear     hurst  \n",
       "523255  0.511194  0.000125  0.509611  0.151982  0.592666   0.000647  0.993362  \n",
       "523256  0.507602  0.007152  0.510514  0.159966  0.601769   0.000581  0.993707  \n",
       "523257  0.510937  0.000627  0.510514  0.167020  0.629130   0.000735  0.996741  \n",
       "523258  0.511065  0.000376  0.510514  0.175477  0.658337   0.000712  0.997001  \n",
       "523259  0.527102  0.030991  0.510514  0.181849  0.676451   0.000757  0.997154  "
      ]
     },
     "execution_count": 14,
     "metadata": {},
     "output_type": "execute_result"
    }
   ],
   "source": [
    "dataset_total.tail()"
   ]
  },
  {
   "cell_type": "code",
   "execution_count": 15,
   "metadata": {
    "id": "A00sup4kjYNf"
   },
   "outputs": [],
   "source": [
    "features_set = dataset_total.loc[:,dataset_total.columns.difference(['ac', 'ev', 'oven', 'wash', 'dryer' ])]\n",
    "features_set.drop('Unnamed: 0', axis = 1, inplace = True)\n",
    "labels_set = dataset_total[['ac', 'ev', 'oven', 'wash', 'dryer']]\n",
    "# labels_set = dataset_total[['ac']]"
   ]
  },
  {
   "cell_type": "code",
   "execution_count": 16,
   "metadata": {
    "colab": {
     "base_uri": "https://localhost:8080/",
     "height": 419
    },
    "id": "lksBdOQgjYNk",
    "outputId": "65f74508-8991-4476-921a-1be2e786ee34"
   },
   "outputs": [
    {
     "data": {
      "text/html": [
       "<div>\n",
       "<style scoped>\n",
       "    .dataframe tbody tr th:only-of-type {\n",
       "        vertical-align: middle;\n",
       "    }\n",
       "\n",
       "    .dataframe tbody tr th {\n",
       "        vertical-align: top;\n",
       "    }\n",
       "\n",
       "    .dataframe thead th {\n",
       "        text-align: right;\n",
       "    }\n",
       "</style>\n",
       "<table border=\"1\" class=\"dataframe\">\n",
       "  <thead>\n",
       "    <tr style=\"text-align: right;\">\n",
       "      <th></th>\n",
       "      <th>absdif</th>\n",
       "      <th>dayofweek</th>\n",
       "      <th>dif</th>\n",
       "      <th>entropy</th>\n",
       "      <th>hourofday</th>\n",
       "      <th>hurst</th>\n",
       "      <th>load</th>\n",
       "      <th>max</th>\n",
       "      <th>nonlinear</th>\n",
       "      <th>var</th>\n",
       "    </tr>\n",
       "  </thead>\n",
       "  <tbody>\n",
       "    <tr>\n",
       "      <th>0</th>\n",
       "      <td>0.123839</td>\n",
       "      <td>3</td>\n",
       "      <td>0.574572</td>\n",
       "      <td>0.678894</td>\n",
       "      <td>0</td>\n",
       "      <td>0.997260</td>\n",
       "      <td>0.163944</td>\n",
       "      <td>0.510514</td>\n",
       "      <td>0.000807</td>\n",
       "      <td>0.188105</td>\n",
       "    </tr>\n",
       "    <tr>\n",
       "      <th>1</th>\n",
       "      <td>0.001757</td>\n",
       "      <td>3</td>\n",
       "      <td>0.512156</td>\n",
       "      <td>0.667459</td>\n",
       "      <td>0</td>\n",
       "      <td>0.997343</td>\n",
       "      <td>0.165123</td>\n",
       "      <td>0.510514</td>\n",
       "      <td>0.000836</td>\n",
       "      <td>0.194120</td>\n",
       "    </tr>\n",
       "    <tr>\n",
       "      <th>2</th>\n",
       "      <td>0.001255</td>\n",
       "      <td>3</td>\n",
       "      <td>0.511899</td>\n",
       "      <td>0.647785</td>\n",
       "      <td>0</td>\n",
       "      <td>0.997409</td>\n",
       "      <td>0.165965</td>\n",
       "      <td>0.510514</td>\n",
       "      <td>0.000869</td>\n",
       "      <td>0.200070</td>\n",
       "    </tr>\n",
       "    <tr>\n",
       "      <th>3</th>\n",
       "      <td>0.000125</td>\n",
       "      <td>3</td>\n",
       "      <td>0.511194</td>\n",
       "      <td>0.629235</td>\n",
       "      <td>0</td>\n",
       "      <td>0.997339</td>\n",
       "      <td>0.165881</td>\n",
       "      <td>0.510514</td>\n",
       "      <td>0.000878</td>\n",
       "      <td>0.202129</td>\n",
       "    </tr>\n",
       "    <tr>\n",
       "      <th>4</th>\n",
       "      <td>0.000251</td>\n",
       "      <td>3</td>\n",
       "      <td>0.511386</td>\n",
       "      <td>0.621303</td>\n",
       "      <td>0</td>\n",
       "      <td>0.997229</td>\n",
       "      <td>0.166049</td>\n",
       "      <td>0.510514</td>\n",
       "      <td>0.001260</td>\n",
       "      <td>0.202066</td>\n",
       "    </tr>\n",
       "    <tr>\n",
       "      <th>...</th>\n",
       "      <td>...</td>\n",
       "      <td>...</td>\n",
       "      <td>...</td>\n",
       "      <td>...</td>\n",
       "      <td>...</td>\n",
       "      <td>...</td>\n",
       "      <td>...</td>\n",
       "      <td>...</td>\n",
       "      <td>...</td>\n",
       "      <td>...</td>\n",
       "    </tr>\n",
       "    <tr>\n",
       "      <th>523255</th>\n",
       "      <td>0.000125</td>\n",
       "      <td>2</td>\n",
       "      <td>0.511194</td>\n",
       "      <td>0.592666</td>\n",
       "      <td>23</td>\n",
       "      <td>0.993362</td>\n",
       "      <td>0.065510</td>\n",
       "      <td>0.509611</td>\n",
       "      <td>0.000647</td>\n",
       "      <td>0.151982</td>\n",
       "    </tr>\n",
       "    <tr>\n",
       "      <th>523256</th>\n",
       "      <td>0.007152</td>\n",
       "      <td>2</td>\n",
       "      <td>0.507602</td>\n",
       "      <td>0.601769</td>\n",
       "      <td>23</td>\n",
       "      <td>0.993707</td>\n",
       "      <td>0.060711</td>\n",
       "      <td>0.510514</td>\n",
       "      <td>0.000581</td>\n",
       "      <td>0.159966</td>\n",
       "    </tr>\n",
       "    <tr>\n",
       "      <th>523257</th>\n",
       "      <td>0.000627</td>\n",
       "      <td>2</td>\n",
       "      <td>0.510937</td>\n",
       "      <td>0.629130</td>\n",
       "      <td>23</td>\n",
       "      <td>0.996741</td>\n",
       "      <td>0.060290</td>\n",
       "      <td>0.510514</td>\n",
       "      <td>0.000735</td>\n",
       "      <td>0.167020</td>\n",
       "    </tr>\n",
       "    <tr>\n",
       "      <th>523258</th>\n",
       "      <td>0.000376</td>\n",
       "      <td>2</td>\n",
       "      <td>0.511065</td>\n",
       "      <td>0.658337</td>\n",
       "      <td>23</td>\n",
       "      <td>0.997001</td>\n",
       "      <td>0.060037</td>\n",
       "      <td>0.510514</td>\n",
       "      <td>0.000712</td>\n",
       "      <td>0.175477</td>\n",
       "    </tr>\n",
       "    <tr>\n",
       "      <th>523259</th>\n",
       "      <td>0.030991</td>\n",
       "      <td>2</td>\n",
       "      <td>0.527102</td>\n",
       "      <td>0.676451</td>\n",
       "      <td>23</td>\n",
       "      <td>0.997154</td>\n",
       "      <td>0.080835</td>\n",
       "      <td>0.510514</td>\n",
       "      <td>0.000757</td>\n",
       "      <td>0.181849</td>\n",
       "    </tr>\n",
       "  </tbody>\n",
       "</table>\n",
       "<p>523260 rows × 10 columns</p>\n",
       "</div>"
      ],
      "text/plain": [
       "          absdif  dayofweek       dif   entropy  hourofday     hurst  \\\n",
       "0       0.123839          3  0.574572  0.678894          0  0.997260   \n",
       "1       0.001757          3  0.512156  0.667459          0  0.997343   \n",
       "2       0.001255          3  0.511899  0.647785          0  0.997409   \n",
       "3       0.000125          3  0.511194  0.629235          0  0.997339   \n",
       "4       0.000251          3  0.511386  0.621303          0  0.997229   \n",
       "...          ...        ...       ...       ...        ...       ...   \n",
       "523255  0.000125          2  0.511194  0.592666         23  0.993362   \n",
       "523256  0.007152          2  0.507602  0.601769         23  0.993707   \n",
       "523257  0.000627          2  0.510937  0.629130         23  0.996741   \n",
       "523258  0.000376          2  0.511065  0.658337         23  0.997001   \n",
       "523259  0.030991          2  0.527102  0.676451         23  0.997154   \n",
       "\n",
       "            load       max  nonlinear       var  \n",
       "0       0.163944  0.510514   0.000807  0.188105  \n",
       "1       0.165123  0.510514   0.000836  0.194120  \n",
       "2       0.165965  0.510514   0.000869  0.200070  \n",
       "3       0.165881  0.510514   0.000878  0.202129  \n",
       "4       0.166049  0.510514   0.001260  0.202066  \n",
       "...          ...       ...        ...       ...  \n",
       "523255  0.065510  0.509611   0.000647  0.151982  \n",
       "523256  0.060711  0.510514   0.000581  0.159966  \n",
       "523257  0.060290  0.510514   0.000735  0.167020  \n",
       "523258  0.060037  0.510514   0.000712  0.175477  \n",
       "523259  0.080835  0.510514   0.000757  0.181849  \n",
       "\n",
       "[523260 rows x 10 columns]"
      ]
     },
     "execution_count": 16,
     "metadata": {},
     "output_type": "execute_result"
    }
   ],
   "source": [
    "features_set"
   ]
  },
  {
   "cell_type": "code",
   "execution_count": 17,
   "metadata": {
    "id": "9M5iBLCq36ns"
   },
   "outputs": [],
   "source": [
    "#Take knowledge from the back 10 mins window, 1 mins each\n",
    "for x in np.arange(1, 10, 1):\n",
    "    features_set['load_before_' + str(x)] = features_set['load'].shift(x)"
   ]
  },
  {
   "cell_type": "code",
   "execution_count": 18,
   "metadata": {
    "id": "C2_nMfYc36wU"
   },
   "outputs": [],
   "source": [
    "features_set = features_set.dropna()"
   ]
  },
  {
   "cell_type": "code",
   "execution_count": 19,
   "metadata": {
    "colab": {
     "base_uri": "https://localhost:8080/",
     "height": 439
    },
    "id": "xOwLlkvA36zO",
    "outputId": "30fb1217-9b1b-4f54-fc00-644ef469cbc1"
   },
   "outputs": [
    {
     "data": {
      "text/html": [
       "<div>\n",
       "<style scoped>\n",
       "    .dataframe tbody tr th:only-of-type {\n",
       "        vertical-align: middle;\n",
       "    }\n",
       "\n",
       "    .dataframe tbody tr th {\n",
       "        vertical-align: top;\n",
       "    }\n",
       "\n",
       "    .dataframe thead th {\n",
       "        text-align: right;\n",
       "    }\n",
       "</style>\n",
       "<table border=\"1\" class=\"dataframe\">\n",
       "  <thead>\n",
       "    <tr style=\"text-align: right;\">\n",
       "      <th></th>\n",
       "      <th>absdif</th>\n",
       "      <th>dayofweek</th>\n",
       "      <th>dif</th>\n",
       "      <th>entropy</th>\n",
       "      <th>hourofday</th>\n",
       "      <th>hurst</th>\n",
       "      <th>load</th>\n",
       "      <th>max</th>\n",
       "      <th>nonlinear</th>\n",
       "      <th>var</th>\n",
       "      <th>load_before_1</th>\n",
       "      <th>load_before_2</th>\n",
       "      <th>load_before_3</th>\n",
       "      <th>load_before_4</th>\n",
       "      <th>load_before_5</th>\n",
       "      <th>load_before_6</th>\n",
       "      <th>load_before_7</th>\n",
       "      <th>load_before_8</th>\n",
       "      <th>load_before_9</th>\n",
       "    </tr>\n",
       "  </thead>\n",
       "  <tbody>\n",
       "    <tr>\n",
       "      <th>9</th>\n",
       "      <td>0.001631</td>\n",
       "      <td>3</td>\n",
       "      <td>0.512092</td>\n",
       "      <td>0.650014</td>\n",
       "      <td>0</td>\n",
       "      <td>0.995492</td>\n",
       "      <td>0.166639</td>\n",
       "      <td>0.510514</td>\n",
       "      <td>0.005589</td>\n",
       "      <td>0.195543</td>\n",
       "      <td>0.165544</td>\n",
       "      <td>0.164449</td>\n",
       "      <td>0.164365</td>\n",
       "      <td>0.165123</td>\n",
       "      <td>0.166049</td>\n",
       "      <td>0.165881</td>\n",
       "      <td>0.165965</td>\n",
       "      <td>0.165123</td>\n",
       "      <td>0.163944</td>\n",
       "    </tr>\n",
       "    <tr>\n",
       "      <th>10</th>\n",
       "      <td>0.003764</td>\n",
       "      <td>3</td>\n",
       "      <td>0.513182</td>\n",
       "      <td>0.638492</td>\n",
       "      <td>0</td>\n",
       "      <td>0.995509</td>\n",
       "      <td>0.169165</td>\n",
       "      <td>0.510514</td>\n",
       "      <td>0.007342</td>\n",
       "      <td>0.195310</td>\n",
       "      <td>0.166639</td>\n",
       "      <td>0.165544</td>\n",
       "      <td>0.164449</td>\n",
       "      <td>0.164365</td>\n",
       "      <td>0.165123</td>\n",
       "      <td>0.166049</td>\n",
       "      <td>0.165881</td>\n",
       "      <td>0.165965</td>\n",
       "      <td>0.165123</td>\n",
       "    </tr>\n",
       "    <tr>\n",
       "      <th>11</th>\n",
       "      <td>0.009661</td>\n",
       "      <td>3</td>\n",
       "      <td>0.516197</td>\n",
       "      <td>0.627796</td>\n",
       "      <td>0</td>\n",
       "      <td>0.995471</td>\n",
       "      <td>0.175648</td>\n",
       "      <td>0.510514</td>\n",
       "      <td>0.009588</td>\n",
       "      <td>0.193990</td>\n",
       "      <td>0.169165</td>\n",
       "      <td>0.166639</td>\n",
       "      <td>0.165544</td>\n",
       "      <td>0.164449</td>\n",
       "      <td>0.164365</td>\n",
       "      <td>0.165123</td>\n",
       "      <td>0.166049</td>\n",
       "      <td>0.165881</td>\n",
       "      <td>0.165965</td>\n",
       "    </tr>\n",
       "    <tr>\n",
       "      <th>12</th>\n",
       "      <td>0.000251</td>\n",
       "      <td>3</td>\n",
       "      <td>0.511130</td>\n",
       "      <td>0.625368</td>\n",
       "      <td>0</td>\n",
       "      <td>0.995359</td>\n",
       "      <td>0.175480</td>\n",
       "      <td>0.510514</td>\n",
       "      <td>0.012250</td>\n",
       "      <td>0.191879</td>\n",
       "      <td>0.175648</td>\n",
       "      <td>0.169165</td>\n",
       "      <td>0.166639</td>\n",
       "      <td>0.165544</td>\n",
       "      <td>0.164449</td>\n",
       "      <td>0.164365</td>\n",
       "      <td>0.165123</td>\n",
       "      <td>0.166049</td>\n",
       "      <td>0.165881</td>\n",
       "    </tr>\n",
       "    <tr>\n",
       "      <th>13</th>\n",
       "      <td>0.007403</td>\n",
       "      <td>3</td>\n",
       "      <td>0.515043</td>\n",
       "      <td>0.633312</td>\n",
       "      <td>0</td>\n",
       "      <td>0.995880</td>\n",
       "      <td>0.180448</td>\n",
       "      <td>0.510514</td>\n",
       "      <td>0.006325</td>\n",
       "      <td>0.189279</td>\n",
       "      <td>0.175480</td>\n",
       "      <td>0.175648</td>\n",
       "      <td>0.169165</td>\n",
       "      <td>0.166639</td>\n",
       "      <td>0.165544</td>\n",
       "      <td>0.164449</td>\n",
       "      <td>0.164365</td>\n",
       "      <td>0.165123</td>\n",
       "      <td>0.166049</td>\n",
       "    </tr>\n",
       "    <tr>\n",
       "      <th>...</th>\n",
       "      <td>...</td>\n",
       "      <td>...</td>\n",
       "      <td>...</td>\n",
       "      <td>...</td>\n",
       "      <td>...</td>\n",
       "      <td>...</td>\n",
       "      <td>...</td>\n",
       "      <td>...</td>\n",
       "      <td>...</td>\n",
       "      <td>...</td>\n",
       "      <td>...</td>\n",
       "      <td>...</td>\n",
       "      <td>...</td>\n",
       "      <td>...</td>\n",
       "      <td>...</td>\n",
       "      <td>...</td>\n",
       "      <td>...</td>\n",
       "      <td>...</td>\n",
       "      <td>...</td>\n",
       "    </tr>\n",
       "    <tr>\n",
       "      <th>523255</th>\n",
       "      <td>0.000125</td>\n",
       "      <td>2</td>\n",
       "      <td>0.511194</td>\n",
       "      <td>0.592666</td>\n",
       "      <td>23</td>\n",
       "      <td>0.993362</td>\n",
       "      <td>0.065510</td>\n",
       "      <td>0.509611</td>\n",
       "      <td>0.000647</td>\n",
       "      <td>0.151982</td>\n",
       "      <td>0.065594</td>\n",
       "      <td>0.065173</td>\n",
       "      <td>0.065005</td>\n",
       "      <td>0.065594</td>\n",
       "      <td>0.064921</td>\n",
       "      <td>0.068542</td>\n",
       "      <td>0.071489</td>\n",
       "      <td>0.068542</td>\n",
       "      <td>0.072331</td>\n",
       "    </tr>\n",
       "    <tr>\n",
       "      <th>523256</th>\n",
       "      <td>0.007152</td>\n",
       "      <td>2</td>\n",
       "      <td>0.507602</td>\n",
       "      <td>0.601769</td>\n",
       "      <td>23</td>\n",
       "      <td>0.993707</td>\n",
       "      <td>0.060711</td>\n",
       "      <td>0.510514</td>\n",
       "      <td>0.000581</td>\n",
       "      <td>0.159966</td>\n",
       "      <td>0.065510</td>\n",
       "      <td>0.065594</td>\n",
       "      <td>0.065173</td>\n",
       "      <td>0.065005</td>\n",
       "      <td>0.065594</td>\n",
       "      <td>0.064921</td>\n",
       "      <td>0.068542</td>\n",
       "      <td>0.071489</td>\n",
       "      <td>0.068542</td>\n",
       "    </tr>\n",
       "    <tr>\n",
       "      <th>523257</th>\n",
       "      <td>0.000627</td>\n",
       "      <td>2</td>\n",
       "      <td>0.510937</td>\n",
       "      <td>0.629130</td>\n",
       "      <td>23</td>\n",
       "      <td>0.996741</td>\n",
       "      <td>0.060290</td>\n",
       "      <td>0.510514</td>\n",
       "      <td>0.000735</td>\n",
       "      <td>0.167020</td>\n",
       "      <td>0.060711</td>\n",
       "      <td>0.065510</td>\n",
       "      <td>0.065594</td>\n",
       "      <td>0.065173</td>\n",
       "      <td>0.065005</td>\n",
       "      <td>0.065594</td>\n",
       "      <td>0.064921</td>\n",
       "      <td>0.068542</td>\n",
       "      <td>0.071489</td>\n",
       "    </tr>\n",
       "    <tr>\n",
       "      <th>523258</th>\n",
       "      <td>0.000376</td>\n",
       "      <td>2</td>\n",
       "      <td>0.511065</td>\n",
       "      <td>0.658337</td>\n",
       "      <td>23</td>\n",
       "      <td>0.997001</td>\n",
       "      <td>0.060037</td>\n",
       "      <td>0.510514</td>\n",
       "      <td>0.000712</td>\n",
       "      <td>0.175477</td>\n",
       "      <td>0.060290</td>\n",
       "      <td>0.060711</td>\n",
       "      <td>0.065510</td>\n",
       "      <td>0.065594</td>\n",
       "      <td>0.065173</td>\n",
       "      <td>0.065005</td>\n",
       "      <td>0.065594</td>\n",
       "      <td>0.064921</td>\n",
       "      <td>0.068542</td>\n",
       "    </tr>\n",
       "    <tr>\n",
       "      <th>523259</th>\n",
       "      <td>0.030991</td>\n",
       "      <td>2</td>\n",
       "      <td>0.527102</td>\n",
       "      <td>0.676451</td>\n",
       "      <td>23</td>\n",
       "      <td>0.997154</td>\n",
       "      <td>0.080835</td>\n",
       "      <td>0.510514</td>\n",
       "      <td>0.000757</td>\n",
       "      <td>0.181849</td>\n",
       "      <td>0.060037</td>\n",
       "      <td>0.060290</td>\n",
       "      <td>0.060711</td>\n",
       "      <td>0.065510</td>\n",
       "      <td>0.065594</td>\n",
       "      <td>0.065173</td>\n",
       "      <td>0.065005</td>\n",
       "      <td>0.065594</td>\n",
       "      <td>0.064921</td>\n",
       "    </tr>\n",
       "  </tbody>\n",
       "</table>\n",
       "<p>523251 rows × 19 columns</p>\n",
       "</div>"
      ],
      "text/plain": [
       "          absdif  dayofweek       dif   entropy  hourofday     hurst  \\\n",
       "9       0.001631          3  0.512092  0.650014          0  0.995492   \n",
       "10      0.003764          3  0.513182  0.638492          0  0.995509   \n",
       "11      0.009661          3  0.516197  0.627796          0  0.995471   \n",
       "12      0.000251          3  0.511130  0.625368          0  0.995359   \n",
       "13      0.007403          3  0.515043  0.633312          0  0.995880   \n",
       "...          ...        ...       ...       ...        ...       ...   \n",
       "523255  0.000125          2  0.511194  0.592666         23  0.993362   \n",
       "523256  0.007152          2  0.507602  0.601769         23  0.993707   \n",
       "523257  0.000627          2  0.510937  0.629130         23  0.996741   \n",
       "523258  0.000376          2  0.511065  0.658337         23  0.997001   \n",
       "523259  0.030991          2  0.527102  0.676451         23  0.997154   \n",
       "\n",
       "            load       max  nonlinear       var  load_before_1  load_before_2  \\\n",
       "9       0.166639  0.510514   0.005589  0.195543       0.165544       0.164449   \n",
       "10      0.169165  0.510514   0.007342  0.195310       0.166639       0.165544   \n",
       "11      0.175648  0.510514   0.009588  0.193990       0.169165       0.166639   \n",
       "12      0.175480  0.510514   0.012250  0.191879       0.175648       0.169165   \n",
       "13      0.180448  0.510514   0.006325  0.189279       0.175480       0.175648   \n",
       "...          ...       ...        ...       ...            ...            ...   \n",
       "523255  0.065510  0.509611   0.000647  0.151982       0.065594       0.065173   \n",
       "523256  0.060711  0.510514   0.000581  0.159966       0.065510       0.065594   \n",
       "523257  0.060290  0.510514   0.000735  0.167020       0.060711       0.065510   \n",
       "523258  0.060037  0.510514   0.000712  0.175477       0.060290       0.060711   \n",
       "523259  0.080835  0.510514   0.000757  0.181849       0.060037       0.060290   \n",
       "\n",
       "        load_before_3  load_before_4  load_before_5  load_before_6  \\\n",
       "9            0.164365       0.165123       0.166049       0.165881   \n",
       "10           0.164449       0.164365       0.165123       0.166049   \n",
       "11           0.165544       0.164449       0.164365       0.165123   \n",
       "12           0.166639       0.165544       0.164449       0.164365   \n",
       "13           0.169165       0.166639       0.165544       0.164449   \n",
       "...               ...            ...            ...            ...   \n",
       "523255       0.065005       0.065594       0.064921       0.068542   \n",
       "523256       0.065173       0.065005       0.065594       0.064921   \n",
       "523257       0.065594       0.065173       0.065005       0.065594   \n",
       "523258       0.065510       0.065594       0.065173       0.065005   \n",
       "523259       0.060711       0.065510       0.065594       0.065173   \n",
       "\n",
       "        load_before_7  load_before_8  load_before_9  \n",
       "9            0.165965       0.165123       0.163944  \n",
       "10           0.165881       0.165965       0.165123  \n",
       "11           0.166049       0.165881       0.165965  \n",
       "12           0.165123       0.166049       0.165881  \n",
       "13           0.164365       0.165123       0.166049  \n",
       "...               ...            ...            ...  \n",
       "523255       0.071489       0.068542       0.072331  \n",
       "523256       0.068542       0.071489       0.068542  \n",
       "523257       0.064921       0.068542       0.071489  \n",
       "523258       0.065594       0.064921       0.068542  \n",
       "523259       0.065005       0.065594       0.064921  \n",
       "\n",
       "[523251 rows x 19 columns]"
      ]
     },
     "execution_count": 19,
     "metadata": {},
     "output_type": "execute_result"
    }
   ],
   "source": [
    "features_set"
   ]
  },
  {
   "cell_type": "code",
   "execution_count": 20,
   "metadata": {
    "id": "ch_ZJlq4362o"
   },
   "outputs": [],
   "source": [
    "labels_set = labels_set.loc[9:,]"
   ]
  },
  {
   "cell_type": "code",
   "execution_count": 21,
   "metadata": {
    "id": "TJbpOzmF364p"
   },
   "outputs": [],
   "source": [
    "labels_set.reset_index(inplace=True, drop=True) \n",
    "features_set.reset_index(inplace=True, drop=True) "
   ]
  },
  {
   "cell_type": "code",
   "execution_count": 22,
   "metadata": {
    "id": "JQuIml035jlf"
   },
   "outputs": [],
   "source": [
    "X_train = features_set.loc[0:(dataset_train.shape[0] - 10),]\n",
    "y_train = labels_set.loc[0:(dataset_train.shape[0] - 10), ]\n",
    "\n",
    "#X_valid = labels_set \n",
    "#y_valid = \n",
    "X_test = features_set.loc[(dataset_train.shape[0] - 10):,]\n",
    "y_test = [] \n",
    "\n",
    "# I want to use a T-days window of input data for predicting target_class\n",
    "# It means I need to prepend (T-1) last train records to the 1st test window\n",
    "T = 30  # my choice of the timesteps window\n",
    "\n",
    "prepend_features = X_train.iloc[-(T-1):]\n",
    "X_test = pd.concat([prepend_features, X_test], axis=0)\n",
    "\n",
    "# Split the training into train and valid set\n",
    "X_train_final, X_valid, y_train_final, y_valid = train_test_split(X_train, y_train, test_size = 0.25, random_state = 42, shuffle=False)\n",
    "\n",
    "prepend_features_valid = X_train_final.loc[-(T-1):]\n",
    "X_valid = pd.concat([prepend_features_valid, X_valid], axis=0)"
   ]
  },
  {
   "cell_type": "code",
   "execution_count": 23,
   "metadata": {
    "colab": {
     "base_uri": "https://localhost:8080/"
    },
    "id": "-qUGcrFS5joa",
    "outputId": "014f9a19-f319-49ab-871d-18e346c39757"
   },
   "outputs": [
    {
     "data": {
      "text/plain": [
       "(313283, 19)"
      ]
     },
     "execution_count": 23,
     "metadata": {},
     "output_type": "execute_result"
    }
   ],
   "source": [
    "X_train_final.shape"
   ]
  },
  {
   "cell_type": "code",
   "execution_count": 24,
   "metadata": {
    "id": "dkeKqEmLjYNp"
   },
   "outputs": [],
   "source": [
    "# X_train = features_set.iloc[0:dataset_train.shape[0],]\n",
    "# y_train = labels_set.iloc[0:dataset_train.shape[0], ]\n",
    "\n",
    "# #X_valid = labels_set \n",
    "# #y_valid = \n",
    "# X_test = features_set.iloc[dataset_train.shape[0]:,]\n",
    "# y_test = [] \n",
    "\n",
    "# # I want to use a T-days window of input data for predicting target_class\n",
    "# # It means I need to prepend (T-1) last train records to the 1st test window\n",
    "# T = 30  # my choice of the timesteps window\n",
    "\n",
    "# prepend_features = X_train.iloc[-(T-1):]\n",
    "# X_test = pd.concat([prepend_features, X_test], axis=0)\n",
    "\n",
    "# # Split the training into train and valid set\n",
    "# X_train_final, X_valid, y_train_final, y_valid = train_test_split(X_train, y_train, test_size = 0.2, random_state = 42,shuffle=False)\n",
    "\n",
    "# prepend_features_valid = X_train_final.iloc[-(T-1):]\n",
    "# X_valid = pd.concat([prepend_features_valid, X_valid], axis=0)"
   ]
  },
  {
   "cell_type": "code",
   "execution_count": 25,
   "metadata": {
    "colab": {
     "base_uri": "https://localhost:8080/"
    },
    "id": "6IZmCj0SQVLc",
    "outputId": "72783643-fbff-4e0b-e702-c36118c9f9cd"
   },
   "outputs": [
    {
     "data": {
      "text/plain": [
       "(313283, 5)"
      ]
     },
     "execution_count": 25,
     "metadata": {},
     "output_type": "execute_result"
    }
   ],
   "source": [
    "y_train_final.shape"
   ]
  },
  {
   "cell_type": "code",
   "execution_count": 26,
   "metadata": {
    "colab": {
     "base_uri": "https://localhost:8080/"
    },
    "id": "wIOiZ55mQVjv",
    "outputId": "0ae37bd6-0f03-4e4a-f382-87d8c184f5df"
   },
   "outputs": [
    {
     "data": {
      "text/plain": [
       "(313283, 5)"
      ]
     },
     "execution_count": 26,
     "metadata": {},
     "output_type": "execute_result"
    }
   ],
   "source": [
    "y_train_final.shape"
   ]
  },
  {
   "cell_type": "code",
   "execution_count": 27,
   "metadata": {
    "id": "Kf7T8uX0jYOD"
   },
   "outputs": [],
   "source": [
    "X_train, y_train = [], []\n",
    "for i in range(X_train_final.shape[0] - (T-1)):\n",
    "    X_train.append(X_train_final.iloc[i:i+T].values)\n",
    "    y_train.append(y_train_final.iloc[i + (T-1)].values)\n",
    "# X_train, y_train = np.array(X_train), np.array(y_train).reshape(-1,1)"
   ]
  },
  {
   "cell_type": "code",
   "execution_count": 28,
   "metadata": {
    "id": "LsrcjQ17jYOH"
   },
   "outputs": [],
   "source": [
    "X_train_LSTM, y_train_LSTM = [] , []\n",
    "X_train_LSTM = np.array(X_train)\n",
    "y_train_LSTM = np.array(y_train)"
   ]
  },
  {
   "cell_type": "code",
   "execution_count": 29,
   "metadata": {
    "colab": {
     "base_uri": "https://localhost:8080/"
    },
    "id": "1QcC_kgXjYOI",
    "outputId": "b5e3d166-7118-4d31-9760-a4854f4f3300"
   },
   "outputs": [
    {
     "data": {
      "text/plain": [
       "(313254, 30, 19)"
      ]
     },
     "execution_count": 29,
     "metadata": {},
     "output_type": "execute_result"
    }
   ],
   "source": [
    "X_train_LSTM.shape"
   ]
  },
  {
   "cell_type": "code",
   "execution_count": 30,
   "metadata": {
    "colab": {
     "base_uri": "https://localhost:8080/"
    },
    "id": "qaVg7_wEjYOh",
    "outputId": "d9c6ab62-9219-420a-ce79-f0d787973dc4"
   },
   "outputs": [
    {
     "data": {
      "text/plain": [
       "(313254, 5)"
      ]
     },
     "execution_count": 30,
     "metadata": {},
     "output_type": "execute_result"
    }
   ],
   "source": [
    "y_train_LSTM.shape"
   ]
  },
  {
   "cell_type": "code",
   "execution_count": 31,
   "metadata": {
    "id": "fhnaCRjjjYOi"
   },
   "outputs": [],
   "source": [
    "X_valid_LSTM, y_valid_LSTM = [], []\n",
    "for i in range(y_valid.shape[0]):\n",
    "    X_valid_LSTM.append(X_valid.iloc[i:i+T].values)\n",
    "    y_valid_LSTM.append(y_valid.iloc[i])\n",
    "X_valid_LSTM, y_valid_LSTM = np.array(X_valid_LSTM), np.array(y_valid_LSTM) "
   ]
  },
  {
   "cell_type": "code",
   "execution_count": 32,
   "metadata": {
    "colab": {
     "base_uri": "https://localhost:8080/"
    },
    "id": "fKO8JtX2jYOj",
    "outputId": "f147f345-fec8-4888-84a9-35c4f8c8e3e0"
   },
   "outputs": [
    {
     "name": "stdout",
     "output_type": "stream",
     "text": [
      "(104428, 30, 19)\n",
      "(104428, 5)\n"
     ]
    }
   ],
   "source": [
    "print(X_valid_LSTM.shape)\n",
    "print(y_valid_LSTM.shape)"
   ]
  },
  {
   "cell_type": "code",
   "execution_count": 33,
   "metadata": {
    "id": "JNAonp3VjYOk"
   },
   "outputs": [],
   "source": [
    "X_test_LSTM = []\n",
    "for i in range(X_test.shape[0] - (T-1)):\n",
    "    X_test_LSTM.append(X_test.iloc[i:i+T].values)"
   ]
  },
  {
   "cell_type": "code",
   "execution_count": 34,
   "metadata": {
    "colab": {
     "base_uri": "https://localhost:8080/"
    },
    "id": "Fsy0H6ZUjYOl",
    "outputId": "24c3d638-1f73-4564-e07e-fa207125edec",
    "scrolled": false
   },
   "outputs": [
    {
     "data": {
      "text/plain": [
       "105541"
      ]
     },
     "execution_count": 34,
     "metadata": {},
     "output_type": "execute_result"
    }
   ],
   "source": [
    "len(X_test_LSTM)"
   ]
  },
  {
   "cell_type": "code",
   "execution_count": 35,
   "metadata": {
    "id": "HPYwX-1tjYOm"
   },
   "outputs": [],
   "source": [
    "X_test_LSTM = np.array(X_test_LSTM)"
   ]
  },
  {
   "cell_type": "code",
   "execution_count": 36,
   "metadata": {
    "colab": {
     "base_uri": "https://localhost:8080/"
    },
    "id": "_x9_brsqjYOn",
    "outputId": "0ff03ea2-9ab0-4ee8-879a-4cb74946aa58"
   },
   "outputs": [
    {
     "data": {
      "text/plain": [
       "(105541, 30, 19)"
      ]
     },
     "execution_count": 36,
     "metadata": {},
     "output_type": "execute_result"
    }
   ],
   "source": [
    "X_test_LSTM.shape"
   ]
  },
  {
   "cell_type": "markdown",
   "metadata": {
    "id": "ske0A4hijYOn"
   },
   "source": [
    "LSTM Model - Batch Training and Predictiction"
   ]
  },
  {
   "cell_type": "code",
   "execution_count": 37,
   "metadata": {
    "id": "JTr_fBlijYOo"
   },
   "outputs": [],
   "source": [
    "import tensorflow as tf\n",
    "# from tensorflow import keras"
   ]
  },
  {
   "cell_type": "code",
   "execution_count": 38,
   "metadata": {
    "id": "wMiuKfzIjYOp"
   },
   "outputs": [],
   "source": [
    "# Import Keras\n",
    "from tensorflow.keras.models import Sequential\n",
    "from tensorflow.keras.layers import Dense, LSTM, BatchNormalization, Dropout\n",
    "#from keras.optimizers import Adam\n",
    "from tensorflow.keras.callbacks import ReduceLROnPlateau, EarlyStopping, ModelCheckpoint\n",
    "from tensorflow.keras.regularizers import l2\n",
    "from time import time"
   ]
  },
  {
   "cell_type": "code",
   "execution_count": 50,
   "metadata": {
    "colab": {
     "base_uri": "https://localhost:8080/"
    },
    "id": "xp69XP3EjYOq",
    "outputId": "9400bb43-e3cc-4acd-e9a9-67862b573f84"
   },
   "outputs": [
    {
     "name": "stdout",
     "output_type": "stream",
     "text": [
      "layers=[8, 8, 8, 5], train_examples=313254, test_examples=105541\n",
      "batch = 313254, timesteps = 30, features = 19, epochs = 200\n",
      "lr = 0.05, lambda = 0.03, dropout = 0.0, recurr_dropout = 0.0\n"
     ]
    }
   ],
   "source": [
    "# Let's make a list of CONSTANTS for modelling:\n",
    "LAYERS = [8, 8, 8, 5]                # number of units in hidden and output layers\n",
    "M_TRAIN = X_train_LSTM.shape[0]           # number of training examples (2D)\n",
    "M_TEST = X_test_LSTM.shape[0]             # number of test examples (2D),full=X_test.shape[0]\n",
    "N = X_train_LSTM.shape[2]                 # number of features\n",
    "BATCH = M_TRAIN                          # batch size\n",
    "EPOCH = 200                           # number of epochs\n",
    "LR = 5e-2                            # learning rate of the gradient descent\n",
    "LAMBD = 3e-2                         # lambda in L2 regularizaion\n",
    "DP = 0.0                             # dropout rate\n",
    "RDP = 0.0                            # recurrent dropout rate\n",
    "print(f'layers={LAYERS}, train_examples={M_TRAIN}, test_examples={M_TEST}')\n",
    "print(f'batch = {BATCH}, timesteps = {T}, features = {N}, epochs = {EPOCH}')\n",
    "print(f'lr = {LR}, lambda = {LAMBD}, dropout = {DP}, recurr_dropout = {RDP}')\n"
   ]
  },
  {
   "cell_type": "code",
   "execution_count": 51,
   "metadata": {
    "id": "V6-I8kgl8Fg0"
   },
   "outputs": [],
   "source": [
    "y_1d = y_train_LSTM.flatten()\n"
   ]
  },
  {
   "cell_type": "code",
   "execution_count": 52,
   "metadata": {
    "colab": {
     "base_uri": "https://localhost:8080/"
    },
    "id": "orn9oL1C00cB",
    "outputId": "931f963c-3fe9-4c07-ff77-515860739139"
   },
   "outputs": [
    {
     "name": "stdout",
     "output_type": "stream",
     "text": [
      "0.08396513362100287\n"
     ]
    },
    {
     "data": {
      "text/plain": [
       "array([-2.47735364])"
      ]
     },
     "execution_count": 52,
     "metadata": {},
     "output_type": "execute_result"
    }
   ],
   "source": [
    "# pos = np.sum(y_1d == 1)\n",
    "# neg = np.sum(y_1d == 0)\n",
    "# print(pos/neg)\n",
    "# total = pos + neg\n",
    "\n",
    "\n",
    "# initial_bias = np.log([pos/neg])\n",
    "# initial_bias"
   ]
  },
  {
   "cell_type": "code",
   "execution_count": 53,
   "metadata": {
    "id": "27ExT_Se1Exd"
   },
   "outputs": [],
   "source": [
    "# output_bias = tf.keras.initializers.Constant(initial_bias)"
   ]
  },
  {
   "cell_type": "code",
   "execution_count": 54,
   "metadata": {},
   "outputs": [],
   "source": [
    "from tensorflow.keras import backend as K\n",
    "\n",
    "def f1(y_true, y_pred):\n",
    "    def recall(y_true, y_pred):\n",
    "        \"\"\"Recall metric.\n",
    "\n",
    "        Only computes a batch-wise average of recall.\n",
    "\n",
    "        Computes the recall, a metric for multi-label classification of\n",
    "        how many relevant items are selected.\n",
    "        \"\"\"\n",
    "        true_positives = K.sum(K.round(K.clip(y_true * y_pred, 0, 1)))\n",
    "        possible_positives = K.sum(K.round(K.clip(y_true, 0, 1)))\n",
    "        recall = true_positives / (possible_positives + K.epsilon())\n",
    "        return recall\n",
    "\n",
    "    def precision(y_true, y_pred):\n",
    "        \"\"\"Precision metric.\n",
    "\n",
    "        Only computes a batch-wise average of precision.\n",
    "\n",
    "        Computes the precision, a metric for multi-label classification of\n",
    "        how many selected items are relevant.\n",
    "        \"\"\"\n",
    "        true_positives = K.sum(K.round(K.clip(y_true * y_pred, 0, 1)))\n",
    "        predicted_positives = K.sum(K.round(K.clip(y_pred, 0, 1)))\n",
    "        precision = true_positives / (predicted_positives + K.epsilon())\n",
    "        return precision\n",
    "    precision = precision(y_true, y_pred)\n",
    "    recall = recall(y_true, y_pred)\n",
    "    return 2*((precision*recall)/(precision+recall+K.epsilon()))"
   ]
  },
  {
   "cell_type": "code",
   "execution_count": null,
   "metadata": {},
   "outputs": [],
   "source": []
  },
  {
   "cell_type": "code",
   "execution_count": 55,
   "metadata": {
    "id": "OxgW2-wPjYOs"
   },
   "outputs": [],
   "source": [
    "# Build the Model\n",
    "model = Sequential()\n",
    "model.add(LSTM(input_shape=(T, N), units=LAYERS[0], return_sequences=True\n",
    "              #  activation='tanh', recurrent_activation='hard_sigmoid',\n",
    "              #  kernel_regularizer=l2(LAMBD), recurrent_regularizer=l2(LAMBD),\n",
    "              #  dropout=DP, recurrent_dropout=RDP,\n",
    "              #  return_sequences=True, return_state=False,\n",
    "              #  stateful=False, unroll=False\n",
    "              ))\n",
    "model.add(BatchNormalization())\n",
    "#model.add(Dropout(0.2))\n",
    "model.add(LSTM(units=LAYERS[1], return_sequences=True\n",
    "              #  activation='tanh', recurrent_activation='hard_sigmoid',\n",
    "              #  kernel_regularizer=l2(LAMBD), recurrent_regularizer=l2(LAMBD),\n",
    "              #  dropout=DP, recurrent_dropout=RDP,\n",
    "              #  return_sequences=True, return_state=False,\n",
    "              #  stateful=False, unroll=False\n",
    "              ))\n",
    "model.add(BatchNormalization())\n",
    "#model.add(Dropout(0.2))\n",
    "model.add(LSTM(units=LAYERS[2],\n",
    "              #  activation='tanh', recurrent_activation='hard_sigmoid',\n",
    "              #  kernel_regularizer=l2(LAMBD), recurrent_regularizer=l2(LAMBD),\n",
    "              #  dropout=DP, recurrent_dropout=RDP,\n",
    "              #  return_sequences=False, return_state=False,\n",
    "              #  stateful=False, unroll=False\n",
    "              ))\n",
    "model.add(BatchNormalization())\n",
    "#model.add(Dropout(0.2))\n",
    "# model.add(Dense(units=LAYERS[3], activation='sigmoid', bias_initializer=output_bias))\n",
    "\n",
    "model.add(Dense(units=LAYERS[3], activation='sigmoid'))"
   ]
  },
  {
   "cell_type": "code",
   "execution_count": null,
   "metadata": {
    "id": "AZydxoiwYEM0"
   },
   "outputs": [],
   "source": []
  },
  {
   "cell_type": "code",
   "execution_count": null,
   "metadata": {
    "id": "ZkqeE7KV0gmI"
   },
   "outputs": [],
   "source": []
  },
  {
   "cell_type": "code",
   "execution_count": 56,
   "metadata": {
    "colab": {
     "base_uri": "https://localhost:8080/"
    },
    "id": "mEcUVjIDXl_9",
    "outputId": "bb4369ec-8f44-4681-fad0-70c4dddc64d8"
   },
   "outputs": [
    {
     "name": "stdout",
     "output_type": "stream",
     "text": [
      "Model: \"sequential_2\"\n",
      "_________________________________________________________________\n",
      "Layer (type)                 Output Shape              Param #   \n",
      "=================================================================\n",
      "lstm_6 (LSTM)                (None, 30, 8)             896       \n",
      "_________________________________________________________________\n",
      "batch_normalization_4 (Batch (None, 30, 8)             32        \n",
      "_________________________________________________________________\n",
      "lstm_7 (LSTM)                (None, 30, 8)             544       \n",
      "_________________________________________________________________\n",
      "batch_normalization_5 (Batch (None, 30, 8)             32        \n",
      "_________________________________________________________________\n",
      "lstm_8 (LSTM)                (None, 8)                 544       \n",
      "_________________________________________________________________\n",
      "dropout_2 (Dropout)          (None, 8)                 0         \n",
      "_________________________________________________________________\n",
      "dense_2 (Dense)              (None, 5)                 45        \n",
      "=================================================================\n",
      "Total params: 2,093\n",
      "Trainable params: 2,061\n",
      "Non-trainable params: 32\n",
      "_________________________________________________________________\n",
      "None\n"
     ]
    }
   ],
   "source": [
    "\n",
    "\n",
    "\n",
    "# class_weight = {0: weight_for_0, 1: weight_for_1}\n",
    "# Compile the model with Adam optimizer\n",
    "model.compile(loss='binary_crossentropy',\n",
    "              metrics=['accuracy', f1],\n",
    "#               metrics=['accuracy', f1],\n",
    "              optimizer= 'adam')\n",
    "print(model.summary())"
   ]
  },
  {
   "cell_type": "code",
   "execution_count": 46,
   "metadata": {
    "id": "S9-pR52ly6bW"
   },
   "outputs": [],
   "source": [
    "# from keras import backend as K\n",
    "# from math import log\n"
   ]
  },
  {
   "cell_type": "code",
   "execution_count": 57,
   "metadata": {
    "colab": {
     "base_uri": "https://localhost:8080/"
    },
    "id": "F7Nd2VhEjYOu",
    "outputId": "a14d35f9-c56d-488a-ae48-848e7871779a",
    "scrolled": true
   },
   "outputs": [
    {
     "name": "stdout",
     "output_type": "stream",
     "text": [
      "Epoch 1/200\n",
      "1/1 [==============================] - 27s 27s/step - loss: 0.2847 - accuracy: 0.1688 - f1: 0.0000e+00 - val_loss: 0.1280 - val_accuracy: 0.0189 - val_f1: 0.0000e+00\n",
      "\n",
      "Epoch 00001: val_f1 improved from -inf to 0.00000, saving model to model.hdf5\n",
      "Epoch 2/200\n",
      "1/1 [==============================] - 14s 14s/step - loss: 0.2823 - accuracy: 0.1845 - f1: 0.0000e+00 - val_loss: 0.1280 - val_accuracy: 0.0206 - val_f1: 0.0000e+00\n",
      "\n",
      "Epoch 00002: val_f1 did not improve from 0.00000\n",
      "Epoch 3/200\n",
      "1/1 [==============================] - 14s 14s/step - loss: 0.2798 - accuracy: 0.2054 - f1: 0.0000e+00 - val_loss: 0.1281 - val_accuracy: 0.0264 - val_f1: 0.0000e+00\n",
      "\n",
      "Epoch 00003: val_f1 did not improve from 0.00000\n",
      "Epoch 4/200\n",
      "1/1 [==============================] - 14s 14s/step - loss: 0.2772 - accuracy: 0.2338 - f1: 0.0000e+00 - val_loss: 0.1282 - val_accuracy: 0.0336 - val_f1: 0.0000e+00\n",
      "\n",
      "Epoch 00004: val_f1 did not improve from 0.00000\n",
      "Epoch 5/200\n",
      "1/1 [==============================] - 14s 14s/step - loss: 0.2745 - accuracy: 0.2673 - f1: 0.0000e+00 - val_loss: 0.1283 - val_accuracy: 0.0441 - val_f1: 0.0000e+00\n",
      "\n",
      "Epoch 00005: val_f1 did not improve from 0.00000\n",
      "Epoch 6/200\n",
      "1/1 [==============================] - 14s 14s/step - loss: 0.2720 - accuracy: 0.3116 - f1: 0.0000e+00 - val_loss: 0.1284 - val_accuracy: 0.0549 - val_f1: 0.0000e+00\n",
      "\n",
      "Epoch 00006: val_f1 did not improve from 0.00000\n",
      "Epoch 7/200\n",
      "1/1 [==============================] - 14s 14s/step - loss: 0.2700 - accuracy: 0.3514 - f1: 0.0000e+00 - val_loss: 0.1285 - val_accuracy: 0.0638 - val_f1: 0.0000e+00\n",
      "\n",
      "Epoch 00007: val_f1 did not improve from 0.00000\n",
      "Epoch 8/200\n",
      "1/1 [==============================] - 14s 14s/step - loss: 0.2685 - accuracy: 0.3783 - f1: 0.0000e+00 - val_loss: 0.1286 - val_accuracy: 0.0708 - val_f1: 0.0000e+00\n",
      "\n",
      "Epoch 00008: val_f1 did not improve from 0.00000\n",
      "Epoch 9/200\n",
      "1/1 [==============================] - 14s 14s/step - loss: 0.2672 - accuracy: 0.4007 - f1: 0.0000e+00 - val_loss: 0.1287 - val_accuracy: 0.1983 - val_f1: 0.0000e+00\n",
      "\n",
      "Epoch 00009: val_f1 did not improve from 0.00000\n",
      "Epoch 10/200\n",
      "1/1 [==============================] - 14s 14s/step - loss: 0.2658 - accuracy: 0.4227 - f1: 0.0000e+00 - val_loss: 0.1289 - val_accuracy: 0.3497 - val_f1: 0.0000e+00\n",
      "\n",
      "Epoch 00010: val_f1 did not improve from 0.00000\n",
      "Epoch 11/200\n",
      "1/1 [==============================] - 14s 14s/step - loss: 0.2645 - accuracy: 0.4435 - f1: 0.0000e+00 - val_loss: 0.1290 - val_accuracy: 0.4160 - val_f1: 0.0000e+00\n",
      "\n",
      "Epoch 00011: val_f1 did not improve from 0.00000\n",
      "Epoch 12/200\n",
      "1/1 [==============================] - 14s 14s/step - loss: 0.2632 - accuracy: 0.4615 - f1: 0.0000e+00 - val_loss: 0.1291 - val_accuracy: 0.4487 - val_f1: 0.0000e+00\n",
      "\n",
      "Epoch 00012: val_f1 did not improve from 0.00000\n",
      "Epoch 13/200\n",
      "1/1 [==============================] - 14s 14s/step - loss: 0.2618 - accuracy: 0.4781 - f1: 0.0000e+00 - val_loss: 0.1293 - val_accuracy: 0.4737 - val_f1: 0.0000e+00\n",
      "\n",
      "Epoch 00013: val_f1 did not improve from 0.00000\n",
      "Epoch 14/200\n",
      "1/1 [==============================] - 14s 14s/step - loss: 0.2605 - accuracy: 0.4956 - f1: 0.0000e+00 - val_loss: 0.1294 - val_accuracy: 0.4909 - val_f1: 0.0000e+00\n",
      "\n",
      "Epoch 00014: val_f1 did not improve from 0.00000\n",
      "Epoch 15/200\n",
      "1/1 [==============================] - 14s 14s/step - loss: 0.2592 - accuracy: 0.5142 - f1: 0.0000e+00 - val_loss: 0.1295 - val_accuracy: 0.5011 - val_f1: 0.0000e+00\n",
      "\n",
      "Epoch 00015: val_f1 did not improve from 0.00000\n",
      "Epoch 16/200\n",
      "1/1 [==============================] - 14s 14s/step - loss: 0.2581 - accuracy: 0.5312 - f1: 0.0000e+00 - val_loss: 0.1297 - val_accuracy: 0.5118 - val_f1: 0.0000e+00\n",
      "\n",
      "Epoch 00016: val_f1 did not improve from 0.00000\n",
      "Epoch 17/200\n",
      "1/1 [==============================] - 14s 14s/step - loss: 0.2568 - accuracy: 0.5492 - f1: 0.0000e+00 - val_loss: 0.1298 - val_accuracy: 0.5228 - val_f1: 0.0000e+00\n",
      "\n",
      "Epoch 00017: val_f1 did not improve from 0.00000\n",
      "Epoch 18/200\n",
      "1/1 [==============================] - 14s 14s/step - loss: 0.2556 - accuracy: 0.5700 - f1: 0.0000e+00 - val_loss: 0.1299 - val_accuracy: 0.5347 - val_f1: 0.0000e+00\n",
      "\n",
      "Epoch 00018: val_f1 did not improve from 0.00000\n",
      "Epoch 19/200\n",
      "1/1 [==============================] - 15s 15s/step - loss: 0.2545 - accuracy: 0.5940 - f1: 0.0000e+00 - val_loss: 0.1301 - val_accuracy: 0.5559 - val_f1: 0.0000e+00\n",
      "\n",
      "Epoch 00019: val_f1 did not improve from 0.00000\n",
      "Epoch 20/200\n",
      "1/1 [==============================] - 15s 15s/step - loss: 0.2533 - accuracy: 0.6183 - f1: 0.0000e+00 - val_loss: 0.1302 - val_accuracy: 0.5776 - val_f1: 0.0000e+00\n",
      "\n",
      "Epoch 00020: val_f1 did not improve from 0.00000\n",
      "Epoch 21/200\n",
      "1/1 [==============================] - 15s 15s/step - loss: 0.2523 - accuracy: 0.6425 - f1: 0.0000e+00 - val_loss: 0.1303 - val_accuracy: 0.5933 - val_f1: 0.0000e+00\n",
      "\n",
      "Epoch 00021: val_f1 did not improve from 0.00000\n",
      "Epoch 22/200\n",
      "1/1 [==============================] - 14s 14s/step - loss: 0.2512 - accuracy: 0.6588 - f1: 0.0000e+00 - val_loss: 0.1304 - val_accuracy: 0.6103 - val_f1: 0.0000e+00\n",
      "\n",
      "Epoch 00022: val_f1 did not improve from 0.00000\n",
      "Epoch 23/200\n",
      "1/1 [==============================] - 14s 14s/step - loss: 0.2503 - accuracy: 0.6740 - f1: 0.0000e+00 - val_loss: 0.1305 - val_accuracy: 0.6292 - val_f1: 0.0000e+00\n",
      "\n",
      "Epoch 00023: val_f1 did not improve from 0.00000\n",
      "Epoch 24/200\n",
      "1/1 [==============================] - 14s 14s/step - loss: 0.2493 - accuracy: 0.6886 - f1: 0.0000e+00 - val_loss: 0.1306 - val_accuracy: 0.6501 - val_f1: 0.0000e+00\n",
      "\n",
      "Epoch 00024: val_f1 did not improve from 0.00000\n",
      "Epoch 25/200\n",
      "1/1 [==============================] - 15s 15s/step - loss: 0.2481 - accuracy: 0.7014 - f1: 0.0000e+00 - val_loss: 0.1307 - val_accuracy: 0.6739 - val_f1: 0.0000e+00\n",
      "\n",
      "Epoch 00025: val_f1 did not improve from 0.00000\n",
      "Epoch 26/200\n",
      "1/1 [==============================] - 14s 14s/step - loss: 0.2472 - accuracy: 0.7134 - f1: 0.0000e+00 - val_loss: 0.1309 - val_accuracy: 0.6890 - val_f1: 0.0000e+00\n",
      "\n",
      "Epoch 00026: val_f1 did not improve from 0.00000\n",
      "Epoch 27/200\n",
      "1/1 [==============================] - 14s 14s/step - loss: 0.2461 - accuracy: 0.7257 - f1: 0.0000e+00 - val_loss: 0.1310 - val_accuracy: 0.6955 - val_f1: 0.0000e+00\n",
      "\n",
      "Epoch 00027: val_f1 did not improve from 0.00000\n",
      "Epoch 28/200\n",
      "1/1 [==============================] - 15s 15s/step - loss: 0.2451 - accuracy: 0.7353 - f1: 0.0000e+00 - val_loss: 0.1311 - val_accuracy: 0.7009 - val_f1: 0.0000e+00\n",
      "\n",
      "Epoch 00028: val_f1 did not improve from 0.00000\n",
      "Epoch 29/200\n",
      "1/1 [==============================] - 14s 14s/step - loss: 0.2442 - accuracy: 0.7464 - f1: 0.0000e+00 - val_loss: 0.1312 - val_accuracy: 0.7071 - val_f1: 0.0000e+00\n",
      "\n",
      "Epoch 00029: val_f1 did not improve from 0.00000\n",
      "Epoch 30/200\n",
      "1/1 [==============================] - 14s 14s/step - loss: 0.2431 - accuracy: 0.7571 - f1: 0.0000e+00 - val_loss: 0.1314 - val_accuracy: 0.7138 - val_f1: 0.0000e+00\n",
      "\n",
      "Epoch 00030: val_f1 did not improve from 0.00000\n",
      "Epoch 31/200\n",
      "1/1 [==============================] - 14s 14s/step - loss: 0.2422 - accuracy: 0.7669 - f1: 0.0000e+00 - val_loss: 0.1315 - val_accuracy: 0.7201 - val_f1: 0.0000e+00\n",
      "\n",
      "Epoch 00031: val_f1 did not improve from 0.00000\n",
      "Epoch 32/200\n",
      "1/1 [==============================] - 14s 14s/step - loss: 0.2413 - accuracy: 0.7757 - f1: 0.0000e+00 - val_loss: 0.1317 - val_accuracy: 0.7269 - val_f1: 0.0000e+00\n",
      "\n",
      "Epoch 00032: val_f1 did not improve from 0.00000\n",
      "Epoch 33/200\n",
      "1/1 [==============================] - 14s 14s/step - loss: 0.2404 - accuracy: 0.7883 - f1: 0.0000e+00 - val_loss: 0.1318 - val_accuracy: 0.7339 - val_f1: 0.0000e+00\n",
      "\n",
      "Epoch 00033: val_f1 did not improve from 0.00000\n",
      "Epoch 34/200\n",
      "1/1 [==============================] - 14s 14s/step - loss: 0.2395 - accuracy: 0.7968 - f1: 0.0000e+00 - val_loss: 0.1320 - val_accuracy: 0.7425 - val_f1: 0.0000e+00\n",
      "\n",
      "Epoch 00034: val_f1 did not improve from 0.00000\n",
      "Epoch 35/200\n",
      "1/1 [==============================] - 14s 14s/step - loss: 0.2386 - accuracy: 0.8062 - f1: 0.0000e+00 - val_loss: 0.1322 - val_accuracy: 0.7524 - val_f1: 0.0000e+00\n",
      "\n",
      "Epoch 00035: val_f1 did not improve from 0.00000\n",
      "Epoch 36/200\n",
      "1/1 [==============================] - 14s 14s/step - loss: 0.2379 - accuracy: 0.8144 - f1: 0.0000e+00 - val_loss: 0.1324 - val_accuracy: 0.7613 - val_f1: 0.0000e+00\n"
     ]
    },
    {
     "name": "stdout",
     "output_type": "stream",
     "text": [
      "\n",
      "Epoch 00036: val_f1 did not improve from 0.00000\n",
      "Epoch 37/200\n",
      "1/1 [==============================] - 14s 14s/step - loss: 0.2370 - accuracy: 0.8212 - f1: 0.0000e+00 - val_loss: 0.1325 - val_accuracy: 0.7686 - val_f1: 0.0000e+00\n",
      "\n",
      "Epoch 00037: val_f1 did not improve from 0.00000\n",
      "Epoch 38/200\n",
      "1/1 [==============================] - 14s 14s/step - loss: 0.2361 - accuracy: 0.8289 - f1: 0.0000e+00 - val_loss: 0.1327 - val_accuracy: 0.7766 - val_f1: 0.0000e+00\n",
      "\n",
      "Epoch 00038: val_f1 did not improve from 0.00000\n",
      "Epoch 39/200\n",
      "1/1 [==============================] - 15s 15s/step - loss: 0.2353 - accuracy: 0.8343 - f1: 0.0000e+00 - val_loss: 0.1329 - val_accuracy: 0.7859 - val_f1: 0.0000e+00\n",
      "\n",
      "Epoch 00039: val_f1 did not improve from 0.00000\n",
      "Epoch 40/200\n",
      "1/1 [==============================] - 14s 14s/step - loss: 0.2345 - accuracy: 0.8395 - f1: 0.0000e+00 - val_loss: 0.1331 - val_accuracy: 0.7980 - val_f1: 0.0000e+00\n",
      "\n",
      "Epoch 00040: val_f1 did not improve from 0.00000\n",
      "Epoch 41/200\n",
      "1/1 [==============================] - 14s 14s/step - loss: 0.2338 - accuracy: 0.8442 - f1: 0.0000e+00 - val_loss: 0.1334 - val_accuracy: 0.8054 - val_f1: 0.0000e+00\n",
      "\n",
      "Epoch 00041: val_f1 did not improve from 0.00000\n",
      "Epoch 42/200\n",
      "1/1 [==============================] - 14s 14s/step - loss: 0.2330 - accuracy: 0.8475 - f1: 0.0000e+00 - val_loss: 0.1336 - val_accuracy: 0.8126 - val_f1: 0.0000e+00\n",
      "\n",
      "Epoch 00042: val_f1 did not improve from 0.00000\n",
      "Epoch 43/200\n",
      "1/1 [==============================] - 14s 14s/step - loss: 0.2323 - accuracy: 0.8514 - f1: 0.0000e+00 - val_loss: 0.1338 - val_accuracy: 0.8189 - val_f1: 0.0000e+00\n",
      "\n",
      "Epoch 00043: val_f1 did not improve from 0.00000\n",
      "Epoch 44/200\n",
      "1/1 [==============================] - 14s 14s/step - loss: 0.2317 - accuracy: 0.8565 - f1: 0.0000e+00 - val_loss: 0.1340 - val_accuracy: 0.8244 - val_f1: 0.0000e+00\n",
      "\n",
      "Epoch 00044: val_f1 did not improve from 0.00000\n",
      "Epoch 45/200\n",
      "1/1 [==============================] - 14s 14s/step - loss: 0.2310 - accuracy: 0.8603 - f1: 0.0000e+00 - val_loss: 0.1342 - val_accuracy: 0.8300 - val_f1: 0.0000e+00\n",
      "\n",
      "Epoch 00045: val_f1 did not improve from 0.00000\n",
      "Epoch 46/200\n",
      "1/1 [==============================] - 14s 14s/step - loss: 0.2301 - accuracy: 0.8641 - f1: 0.0000e+00 - val_loss: 0.1344 - val_accuracy: 0.8351 - val_f1: 0.0000e+00\n",
      "\n",
      "Epoch 00046: val_f1 did not improve from 0.00000\n",
      "Epoch 47/200\n",
      "1/1 [==============================] - 14s 14s/step - loss: 0.2295 - accuracy: 0.8664 - f1: 0.0000e+00 - val_loss: 0.1346 - val_accuracy: 0.8390 - val_f1: 0.0000e+00\n",
      "\n",
      "Epoch 00047: val_f1 did not improve from 0.00000\n",
      "Epoch 48/200\n",
      "1/1 [==============================] - 14s 14s/step - loss: 0.2289 - accuracy: 0.8705 - f1: 0.0000e+00 - val_loss: 0.1348 - val_accuracy: 0.8428 - val_f1: 0.0000e+00\n",
      "\n",
      "Epoch 00048: val_f1 did not improve from 0.00000\n",
      "Epoch 49/200\n",
      "1/1 [==============================] - 14s 14s/step - loss: 0.2282 - accuracy: 0.8727 - f1: 0.0000e+00 - val_loss: 0.1351 - val_accuracy: 0.8463 - val_f1: 0.0000e+00\n",
      "\n",
      "Epoch 00049: val_f1 did not improve from 0.00000\n",
      "Epoch 50/200\n",
      "1/1 [==============================] - 14s 14s/step - loss: 0.2275 - accuracy: 0.8762 - f1: 0.0000e+00 - val_loss: 0.1353 - val_accuracy: 0.8501 - val_f1: 0.0000e+00\n",
      "\n",
      "Epoch 00050: val_f1 did not improve from 0.00000\n",
      "Epoch 51/200\n",
      "1/1 [==============================] - 14s 14s/step - loss: 0.2268 - accuracy: 0.8786 - f1: 0.0000e+00 - val_loss: 0.1356 - val_accuracy: 0.8538 - val_f1: 0.0000e+00\n",
      "\n",
      "Epoch 00051: val_f1 did not improve from 0.00000\n",
      "Epoch 52/200\n",
      "1/1 [==============================] - 14s 14s/step - loss: 0.2263 - accuracy: 0.8817 - f1: 0.0000e+00 - val_loss: 0.1358 - val_accuracy: 0.8581 - val_f1: 0.0000e+00\n",
      "\n",
      "Epoch 00052: val_f1 did not improve from 0.00000\n",
      "Epoch 53/200\n",
      "1/1 [==============================] - 14s 14s/step - loss: 0.2255 - accuracy: 0.8838 - f1: 0.0000e+00 - val_loss: 0.1361 - val_accuracy: 0.8619 - val_f1: 0.0000e+00\n",
      "\n",
      "Epoch 00053: val_f1 did not improve from 0.00000\n",
      "Epoch 54/200\n",
      "1/1 [==============================] - 14s 14s/step - loss: 0.2249 - accuracy: 0.8865 - f1: 0.0000e+00 - val_loss: 0.1364 - val_accuracy: 0.8661 - val_f1: 0.0000e+00\n",
      "\n",
      "Epoch 00054: val_f1 did not improve from 0.00000\n",
      "Epoch 55/200\n",
      "1/1 [==============================] - 15s 15s/step - loss: 0.2242 - accuracy: 0.8887 - f1: 0.0000e+00 - val_loss: 0.1367 - val_accuracy: 0.8709 - val_f1: 0.0000e+00\n",
      "\n",
      "Epoch 00055: val_f1 did not improve from 0.00000\n",
      "Epoch 56/200\n",
      "1/1 [==============================] - 14s 14s/step - loss: 0.2235 - accuracy: 0.8915 - f1: 0.0000e+00 - val_loss: 0.1369 - val_accuracy: 0.8757 - val_f1: 0.0000e+00\n",
      "\n",
      "Epoch 00056: val_f1 did not improve from 0.00000\n",
      "Epoch 57/200\n",
      "1/1 [==============================] - 15s 15s/step - loss: 0.2230 - accuracy: 0.8921 - f1: 0.0000e+00 - val_loss: 0.1372 - val_accuracy: 0.8799 - val_f1: 0.0000e+00\n",
      "\n",
      "Epoch 00057: val_f1 did not improve from 0.00000\n",
      "Epoch 58/200\n",
      "1/1 [==============================] - 15s 15s/step - loss: 0.2224 - accuracy: 0.8941 - f1: 0.0000e+00 - val_loss: 0.1375 - val_accuracy: 0.8832 - val_f1: 0.0000e+00\n",
      "\n",
      "Epoch 00058: val_f1 did not improve from 0.00000\n",
      "Epoch 59/200\n",
      "1/1 [==============================] - 15s 15s/step - loss: 0.2219 - accuracy: 0.8958 - f1: 0.0000e+00 - val_loss: 0.1378 - val_accuracy: 0.8859 - val_f1: 0.0000e+00\n",
      "\n",
      "Epoch 00059: val_f1 did not improve from 0.00000\n",
      "Epoch 60/200\n",
      "1/1 [==============================] - 14s 14s/step - loss: 0.2213 - accuracy: 0.8980 - f1: 0.0000e+00 - val_loss: 0.1381 - val_accuracy: 0.8880 - val_f1: 0.0000e+00\n",
      "\n",
      "Epoch 00060: val_f1 did not improve from 0.00000\n",
      "Epoch 61/200\n",
      "1/1 [==============================] - 14s 14s/step - loss: 0.2208 - accuracy: 0.8990 - f1: 0.0000e+00 - val_loss: 0.1384 - val_accuracy: 0.8897 - val_f1: 0.0000e+00\n",
      "\n",
      "Epoch 00061: val_f1 did not improve from 0.00000\n",
      "Epoch 62/200\n",
      "1/1 [==============================] - 15s 15s/step - loss: 0.2203 - accuracy: 0.9005 - f1: 0.0000e+00 - val_loss: 0.1387 - val_accuracy: 0.8912 - val_f1: 0.0000e+00\n",
      "\n",
      "Epoch 00062: val_f1 did not improve from 0.00000\n",
      "Epoch 63/200\n",
      "1/1 [==============================] - 14s 14s/step - loss: 0.2199 - accuracy: 0.9025 - f1: 0.0000e+00 - val_loss: 0.1390 - val_accuracy: 0.8927 - val_f1: 0.0000e+00\n",
      "\n",
      "Epoch 00063: val_f1 did not improve from 0.00000\n",
      "Epoch 64/200\n",
      "1/1 [==============================] - 15s 15s/step - loss: 0.2193 - accuracy: 0.9038 - f1: 0.0000e+00 - val_loss: 0.1393 - val_accuracy: 0.8939 - val_f1: 0.0000e+00\n",
      "\n",
      "Epoch 00064: val_f1 did not improve from 0.00000\n",
      "Epoch 65/200\n",
      "1/1 [==============================] - 15s 15s/step - loss: 0.2186 - accuracy: 0.9062 - f1: 0.0000e+00 - val_loss: 0.1396 - val_accuracy: 0.8949 - val_f1: 0.0000e+00\n",
      "\n",
      "Epoch 00065: val_f1 did not improve from 0.00000\n",
      "Epoch 66/200\n",
      "1/1 [==============================] - 15s 15s/step - loss: 0.2182 - accuracy: 0.9068 - f1: 0.0000e+00 - val_loss: 0.1398 - val_accuracy: 0.8962 - val_f1: 0.0000e+00\n",
      "\n",
      "Epoch 00066: val_f1 did not improve from 0.00000\n",
      "Epoch 67/200\n",
      "1/1 [==============================] - 14s 14s/step - loss: 0.2177 - accuracy: 0.9081 - f1: 0.0000e+00 - val_loss: 0.1401 - val_accuracy: 0.8974 - val_f1: 0.0000e+00\n",
      "\n",
      "Epoch 00067: val_f1 did not improve from 0.00000\n",
      "Epoch 68/200\n",
      "1/1 [==============================] - 14s 14s/step - loss: 0.2172 - accuracy: 0.9098 - f1: 0.0000e+00 - val_loss: 0.1404 - val_accuracy: 0.8981 - val_f1: 0.0000e+00\n",
      "\n",
      "Epoch 00068: val_f1 did not improve from 0.00000\n",
      "Epoch 69/200\n",
      "1/1 [==============================] - 15s 15s/step - loss: 0.2167 - accuracy: 0.9091 - f1: 0.0000e+00 - val_loss: 0.1407 - val_accuracy: 0.8988 - val_f1: 0.0000e+00\n",
      "\n",
      "Epoch 00069: val_f1 did not improve from 0.00000\n",
      "Epoch 70/200\n",
      "1/1 [==============================] - 15s 15s/step - loss: 0.2162 - accuracy: 0.9113 - f1: 0.0000e+00 - val_loss: 0.1410 - val_accuracy: 0.8995 - val_f1: 0.0000e+00\n",
      "\n",
      "Epoch 00070: val_f1 did not improve from 0.00000\n",
      "Epoch 71/200\n",
      "1/1 [==============================] - 14s 14s/step - loss: 0.2157 - accuracy: 0.9123 - f1: 0.0000e+00 - val_loss: 0.1413 - val_accuracy: 0.9000 - val_f1: 0.0000e+00\n",
      "\n",
      "Epoch 00071: val_f1 did not improve from 0.00000\n",
      "Epoch 72/200\n",
      "1/1 [==============================] - 15s 15s/step - loss: 0.2153 - accuracy: 0.9130 - f1: 0.0000e+00 - val_loss: 0.1416 - val_accuracy: 0.9005 - val_f1: 0.0000e+00\n"
     ]
    },
    {
     "name": "stdout",
     "output_type": "stream",
     "text": [
      "\n",
      "Epoch 00072: val_f1 did not improve from 0.00000\n",
      "Epoch 73/200\n",
      "1/1 [==============================] - 14s 14s/step - loss: 0.2148 - accuracy: 0.9148 - f1: 0.0000e+00 - val_loss: 0.1419 - val_accuracy: 0.9008 - val_f1: 0.0000e+00\n",
      "\n",
      "Epoch 00073: val_f1 did not improve from 0.00000\n",
      "Epoch 74/200\n",
      "1/1 [==============================] - 14s 14s/step - loss: 0.2145 - accuracy: 0.9149 - f1: 0.0000e+00 - val_loss: 0.1422 - val_accuracy: 0.9007 - val_f1: 0.0000e+00\n",
      "\n",
      "Epoch 00074: val_f1 did not improve from 0.00000\n",
      "Epoch 75/200\n",
      "1/1 [==============================] - 14s 14s/step - loss: 0.2141 - accuracy: 0.9162 - f1: 0.0000e+00 - val_loss: 0.1425 - val_accuracy: 0.9006 - val_f1: 0.0000e+00\n",
      "\n",
      "Epoch 00075: val_f1 did not improve from 0.00000\n",
      "Epoch 76/200\n",
      "1/1 [==============================] - 14s 14s/step - loss: 0.2135 - accuracy: 0.9170 - f1: 0.0000e+00 - val_loss: 0.1429 - val_accuracy: 0.9012 - val_f1: 0.0000e+00\n",
      "\n",
      "Epoch 00076: val_f1 did not improve from 0.00000\n",
      "Epoch 77/200\n",
      "1/1 [==============================] - 14s 14s/step - loss: 0.2131 - accuracy: 0.9174 - f1: 0.0000e+00 - val_loss: 0.1432 - val_accuracy: 0.9017 - val_f1: 0.0000e+00\n",
      "\n",
      "Epoch 00077: val_f1 did not improve from 0.00000\n",
      "Epoch 78/200\n",
      "1/1 [==============================] - 14s 14s/step - loss: 0.2125 - accuracy: 0.9191 - f1: 0.0000e+00 - val_loss: 0.1435 - val_accuracy: 0.9029 - val_f1: 0.0000e+00\n",
      "\n",
      "Epoch 00078: val_f1 did not improve from 0.00000\n",
      "Epoch 79/200\n",
      "1/1 [==============================] - 14s 14s/step - loss: 0.2123 - accuracy: 0.9195 - f1: 0.0000e+00 - val_loss: 0.1438 - val_accuracy: 0.9041 - val_f1: 0.0000e+00\n",
      "\n",
      "Epoch 00079: val_f1 did not improve from 0.00000\n",
      "Epoch 80/200\n",
      "1/1 [==============================] - 14s 14s/step - loss: 0.2117 - accuracy: 0.9208 - f1: 0.0000e+00 - val_loss: 0.1442 - val_accuracy: 0.9054 - val_f1: 0.0000e+00\n",
      "\n",
      "Epoch 00080: val_f1 did not improve from 0.00000\n",
      "Epoch 81/200\n",
      "1/1 [==============================] - 14s 14s/step - loss: 0.2114 - accuracy: 0.9216 - f1: 0.0000e+00 - val_loss: 0.1445 - val_accuracy: 0.9065 - val_f1: 0.0000e+00\n",
      "\n",
      "Epoch 00081: val_f1 did not improve from 0.00000\n",
      "Epoch 82/200\n",
      "1/1 [==============================] - 14s 14s/step - loss: 0.2111 - accuracy: 0.9229 - f1: 0.0000e+00 - val_loss: 0.1448 - val_accuracy: 0.9077 - val_f1: 0.0000e+00\n",
      "\n",
      "Epoch 00082: val_f1 did not improve from 0.00000\n",
      "Epoch 83/200\n",
      "1/1 [==============================] - 20s 20s/step - loss: 0.2106 - accuracy: 0.9242 - f1: 0.0000e+00 - val_loss: 0.1451 - val_accuracy: 0.9086 - val_f1: 0.0000e+00\n",
      "\n",
      "Epoch 00083: val_f1 did not improve from 0.00000\n",
      "Epoch 84/200\n",
      "1/1 [==============================] - 24s 24s/step - loss: 0.2102 - accuracy: 0.9244 - f1: 0.0000e+00 - val_loss: 0.1454 - val_accuracy: 0.9093 - val_f1: 0.0000e+00\n",
      "\n",
      "Epoch 00084: val_f1 did not improve from 0.00000\n",
      "Epoch 85/200\n",
      "1/1 [==============================] - 30s 30s/step - loss: 0.2099 - accuracy: 0.9253 - f1: 0.0000e+00 - val_loss: 0.1457 - val_accuracy: 0.9100 - val_f1: 0.0000e+00\n",
      "\n",
      "Epoch 00085: val_f1 did not improve from 0.00000\n",
      "Epoch 86/200\n",
      "1/1 [==============================] - 26s 26s/step - loss: 0.2095 - accuracy: 0.9264 - f1: 0.0000e+00 - val_loss: 0.1459 - val_accuracy: 0.9102 - val_f1: 0.0000e+00\n",
      "\n",
      "Epoch 00086: val_f1 did not improve from 0.00000\n",
      "Epoch 87/200\n",
      "1/1 [==============================] - 25s 25s/step - loss: 0.2092 - accuracy: 0.9272 - f1: 0.0000e+00 - val_loss: 0.1462 - val_accuracy: 0.9105 - val_f1: 0.0000e+00\n",
      "\n",
      "Epoch 00087: val_f1 did not improve from 0.00000\n",
      "Epoch 88/200\n",
      "1/1 [==============================] - 25s 25s/step - loss: 0.2088 - accuracy: 0.9278 - f1: 0.0000e+00 - val_loss: 0.1464 - val_accuracy: 0.9108 - val_f1: 0.0000e+00\n",
      "\n",
      "Epoch 00088: val_f1 did not improve from 0.00000\n",
      "Epoch 89/200\n",
      "1/1 [==============================] - 25s 25s/step - loss: 0.2082 - accuracy: 0.9286 - f1: 0.0000e+00 - val_loss: 0.1467 - val_accuracy: 0.9110 - val_f1: 0.0000e+00\n",
      "\n",
      "Epoch 00089: val_f1 did not improve from 0.00000\n",
      "Epoch 90/200\n",
      "1/1 [==============================] - 25s 25s/step - loss: 0.2081 - accuracy: 0.9288 - f1: 0.0000e+00 - val_loss: 0.1469 - val_accuracy: 0.9111 - val_f1: 0.0000e+00\n",
      "\n",
      "Epoch 00090: val_f1 did not improve from 0.00000\n",
      "Epoch 91/200\n",
      "1/1 [==============================] - 23s 23s/step - loss: 0.2076 - accuracy: 0.9295 - f1: 0.0000e+00 - val_loss: 0.1471 - val_accuracy: 0.9113 - val_f1: 0.0000e+00\n",
      "\n",
      "Epoch 00091: val_f1 did not improve from 0.00000\n",
      "Epoch 92/200\n",
      "1/1 [==============================] - 25s 25s/step - loss: 0.2075 - accuracy: 0.9294 - f1: 0.0000e+00 - val_loss: 0.1473 - val_accuracy: 0.9114 - val_f1: 0.0000e+00\n",
      "\n",
      "Epoch 00092: val_f1 did not improve from 0.00000\n",
      "Epoch 93/200\n",
      "1/1 [==============================] - 25s 25s/step - loss: 0.2069 - accuracy: 0.9301 - f1: 1.6485e-05 - val_loss: 0.1475 - val_accuracy: 0.9115 - val_f1: 0.0000e+00\n",
      "\n",
      "Epoch 00093: val_f1 did not improve from 0.00000\n",
      "Epoch 94/200\n",
      "1/1 [==============================] - 24s 24s/step - loss: 0.2065 - accuracy: 0.9302 - f1: 3.2969e-05 - val_loss: 0.1477 - val_accuracy: 0.9117 - val_f1: 0.0000e+00\n",
      "\n",
      "Epoch 00094: val_f1 did not improve from 0.00000\n",
      "Epoch 95/200\n",
      "1/1 [==============================] - 26s 26s/step - loss: 0.2062 - accuracy: 0.9301 - f1: 6.5935e-05 - val_loss: 0.1479 - val_accuracy: 0.9118 - val_f1: 0.0000e+00\n",
      "\n",
      "Epoch 00095: val_f1 did not improve from 0.00000\n",
      "Epoch 96/200\n",
      "1/1 [==============================] - 25s 25s/step - loss: 0.2058 - accuracy: 0.9306 - f1: 3.7906e-04 - val_loss: 0.1480 - val_accuracy: 0.9119 - val_f1: 0.0000e+00\n",
      "\n",
      "Epoch 00096: val_f1 did not improve from 0.00000\n",
      "Epoch 97/200\n",
      "1/1 [==============================] - 24s 24s/step - loss: 0.2054 - accuracy: 0.9305 - f1: 0.0014 - val_loss: 0.1482 - val_accuracy: 0.9119 - val_f1: 0.0000e+00\n",
      "\n",
      "Epoch 00097: val_f1 did not improve from 0.00000\n",
      "Epoch 98/200\n",
      "1/1 [==============================] - 25s 25s/step - loss: 0.2050 - accuracy: 0.9308 - f1: 0.0051 - val_loss: 0.1484 - val_accuracy: 0.9121 - val_f1: 0.0000e+00\n",
      "\n",
      "Epoch 00098: val_f1 did not improve from 0.00000\n",
      "Epoch 99/200\n",
      "1/1 [==============================] - 24s 24s/step - loss: 0.2047 - accuracy: 0.9308 - f1: 0.0120 - val_loss: 0.1485 - val_accuracy: 0.9122 - val_f1: 0.0000e+00\n",
      "\n",
      "Epoch 00099: val_f1 did not improve from 0.00000\n",
      "Epoch 100/200\n",
      "1/1 [==============================] - 25s 25s/step - loss: 0.2043 - accuracy: 0.9315 - f1: 0.0223 - val_loss: 0.1487 - val_accuracy: 0.9123 - val_f1: 0.0000e+00\n",
      "\n",
      "Epoch 00100: val_f1 did not improve from 0.00000\n",
      "Epoch 101/200\n",
      "1/1 [==============================] - 25s 25s/step - loss: 0.2039 - accuracy: 0.9320 - f1: 0.0402 - val_loss: 0.1488 - val_accuracy: 0.9124 - val_f1: 0.0000e+00\n",
      "\n",
      "Epoch 00101: val_f1 did not improve from 0.00000\n",
      "Epoch 102/200\n",
      "1/1 [==============================] - 25s 25s/step - loss: 0.2035 - accuracy: 0.9321 - f1: 0.0548 - val_loss: 0.1490 - val_accuracy: 0.9124 - val_f1: 0.0000e+00\n",
      "\n",
      "Epoch 00102: val_f1 did not improve from 0.00000\n",
      "Epoch 103/200\n",
      "1/1 [==============================] - 25s 25s/step - loss: 0.2032 - accuracy: 0.9325 - f1: 0.0723 - val_loss: 0.1491 - val_accuracy: 0.9125 - val_f1: 0.0000e+00\n",
      "\n",
      "Epoch 00103: val_f1 did not improve from 0.00000\n",
      "Epoch 104/200\n",
      "1/1 [==============================] - 26s 26s/step - loss: 0.2028 - accuracy: 0.9331 - f1: 0.0808 - val_loss: 0.1493 - val_accuracy: 0.9125 - val_f1: 0.0000e+00\n",
      "\n",
      "Epoch 00104: val_f1 did not improve from 0.00000\n",
      "Epoch 105/200\n",
      "1/1 [==============================] - 24s 24s/step - loss: 0.2022 - accuracy: 0.9334 - f1: 0.0886 - val_loss: 0.1495 - val_accuracy: 0.9125 - val_f1: 0.0000e+00\n",
      "\n",
      "Epoch 00105: val_f1 did not improve from 0.00000\n",
      "Epoch 106/200\n",
      "1/1 [==============================] - 28s 28s/step - loss: 0.2018 - accuracy: 0.9338 - f1: 0.0961 - val_loss: 0.1496 - val_accuracy: 0.9125 - val_f1: 0.0000e+00\n",
      "\n",
      "Epoch 00106: val_f1 did not improve from 0.00000\n",
      "Epoch 107/200\n",
      "1/1 [==============================] - 27s 27s/step - loss: 0.2014 - accuracy: 0.9345 - f1: 0.1018 - val_loss: 0.1498 - val_accuracy: 0.9125 - val_f1: 0.0000e+00\n",
      "\n",
      "Epoch 00107: val_f1 did not improve from 0.00000\n",
      "Epoch 108/200\n",
      "1/1 [==============================] - 27s 27s/step - loss: 0.2012 - accuracy: 0.9349 - f1: 0.1052 - val_loss: 0.1500 - val_accuracy: 0.9125 - val_f1: 0.0000e+00\n"
     ]
    },
    {
     "name": "stdout",
     "output_type": "stream",
     "text": [
      "\n",
      "Epoch 00108: val_f1 did not improve from 0.00000\n",
      "Epoch 109/200\n",
      "1/1 [==============================] - 27s 27s/step - loss: 0.2007 - accuracy: 0.9346 - f1: 0.1091 - val_loss: 0.1502 - val_accuracy: 0.9125 - val_f1: 0.0000e+00\n",
      "\n",
      "Epoch 00109: val_f1 did not improve from 0.00000\n",
      "Epoch 110/200\n",
      "1/1 [==============================] - 24s 24s/step - loss: 0.2002 - accuracy: 0.9351 - f1: 0.1137 - val_loss: 0.1504 - val_accuracy: 0.9125 - val_f1: 0.0000e+00\n",
      "\n",
      "Epoch 00110: val_f1 did not improve from 0.00000\n",
      "Epoch 111/200\n",
      "1/1 [==============================] - 24s 24s/step - loss: 0.1998 - accuracy: 0.9349 - f1: 0.1150 - val_loss: 0.1506 - val_accuracy: 0.9125 - val_f1: 0.0000e+00\n",
      "\n",
      "Epoch 00111: val_f1 did not improve from 0.00000\n",
      "Epoch 112/200\n",
      "1/1 [==============================] - 25s 25s/step - loss: 0.1993 - accuracy: 0.9354 - f1: 0.1214 - val_loss: 0.1509 - val_accuracy: 0.9125 - val_f1: 0.0000e+00\n",
      "\n",
      "Epoch 00112: val_f1 did not improve from 0.00000\n",
      "Epoch 113/200\n",
      "1/1 [==============================] - 24s 24s/step - loss: 0.1988 - accuracy: 0.9360 - f1: 0.1270 - val_loss: 0.1511 - val_accuracy: 0.9125 - val_f1: 0.0000e+00\n",
      "\n",
      "Epoch 00113: val_f1 did not improve from 0.00000\n",
      "Epoch 114/200\n",
      "1/1 [==============================] - 28s 28s/step - loss: 0.1985 - accuracy: 0.9360 - f1: 0.1323 - val_loss: 0.1514 - val_accuracy: 0.9125 - val_f1: 0.0000e+00\n",
      "\n",
      "Epoch 00114: val_f1 did not improve from 0.00000\n",
      "Epoch 115/200\n",
      "1/1 [==============================] - 27s 27s/step - loss: 0.1981 - accuracy: 0.9364 - f1: 0.1375 - val_loss: 0.1518 - val_accuracy: 0.9125 - val_f1: 0.0000e+00\n",
      "\n",
      "Epoch 00115: val_f1 did not improve from 0.00000\n",
      "Epoch 116/200\n",
      "1/1 [==============================] - 25s 25s/step - loss: 0.1975 - accuracy: 0.9369 - f1: 0.1426 - val_loss: 0.1521 - val_accuracy: 0.9125 - val_f1: 0.0000e+00\n",
      "\n",
      "Epoch 00116: val_f1 did not improve from 0.00000\n",
      "Epoch 117/200\n",
      "1/1 [==============================] - 25s 25s/step - loss: 0.1969 - accuracy: 0.9375 - f1: 0.1501 - val_loss: 0.1525 - val_accuracy: 0.9125 - val_f1: 0.0000e+00\n",
      "\n",
      "Epoch 00117: val_f1 did not improve from 0.00000\n",
      "Epoch 118/200\n",
      "1/1 [==============================] - 25s 25s/step - loss: 0.1966 - accuracy: 0.9376 - f1: 0.1528 - val_loss: 0.1529 - val_accuracy: 0.9125 - val_f1: 0.0000e+00\n",
      "\n",
      "Epoch 00118: val_f1 did not improve from 0.00000\n",
      "Epoch 119/200\n",
      "1/1 [==============================] - 25s 25s/step - loss: 0.1963 - accuracy: 0.9378 - f1: 0.1575 - val_loss: 0.1533 - val_accuracy: 0.9125 - val_f1: 0.0000e+00\n",
      "\n",
      "Epoch 00119: val_f1 did not improve from 0.00000\n",
      "Epoch 120/200\n",
      "1/1 [==============================] - 27s 27s/step - loss: 0.1958 - accuracy: 0.9378 - f1: 0.1577 - val_loss: 0.1537 - val_accuracy: 0.9125 - val_f1: 0.0000e+00\n",
      "\n",
      "Epoch 00120: val_f1 did not improve from 0.00000\n",
      "Epoch 121/200\n",
      "1/1 [==============================] - 25s 25s/step - loss: 0.1953 - accuracy: 0.9378 - f1: 0.1626 - val_loss: 0.1542 - val_accuracy: 0.9125 - val_f1: 0.0000e+00\n",
      "\n",
      "Epoch 00121: val_f1 did not improve from 0.00000\n",
      "Epoch 122/200\n",
      "1/1 [==============================] - 24s 24s/step - loss: 0.1948 - accuracy: 0.9379 - f1: 0.1643 - val_loss: 0.1545 - val_accuracy: 0.9125 - val_f1: 0.0000e+00\n",
      "\n",
      "Epoch 00122: val_f1 did not improve from 0.00000\n",
      "Epoch 123/200\n",
      "1/1 [==============================] - 24s 24s/step - loss: 0.1943 - accuracy: 0.9380 - f1: 0.1691 - val_loss: 0.1549 - val_accuracy: 0.9125 - val_f1: 0.0000e+00\n",
      "\n",
      "Epoch 00123: val_f1 did not improve from 0.00000\n",
      "Epoch 124/200\n",
      "1/1 [==============================] - 24s 24s/step - loss: 0.1939 - accuracy: 0.9382 - f1: 0.1710 - val_loss: 0.1553 - val_accuracy: 0.9125 - val_f1: 0.0000e+00\n",
      "\n",
      "Epoch 00124: val_f1 did not improve from 0.00000\n",
      "Epoch 125/200\n",
      "1/1 [==============================] - 24s 24s/step - loss: 0.1936 - accuracy: 0.9384 - f1: 0.1719 - val_loss: 0.1556 - val_accuracy: 0.9125 - val_f1: 0.0000e+00\n",
      "\n",
      "Epoch 00125: val_f1 did not improve from 0.00000\n",
      "Epoch 126/200\n",
      "1/1 [==============================] - 24s 24s/step - loss: 0.1931 - accuracy: 0.9384 - f1: 0.1756 - val_loss: 0.1558 - val_accuracy: 0.9125 - val_f1: 0.0000e+00\n",
      "\n",
      "Epoch 00126: val_f1 did not improve from 0.00000\n",
      "Epoch 127/200\n",
      "1/1 [==============================] - 24s 24s/step - loss: 0.1928 - accuracy: 0.9382 - f1: 0.1768 - val_loss: 0.1561 - val_accuracy: 0.9125 - val_f1: 0.0000e+00\n",
      "\n",
      "Epoch 00127: val_f1 did not improve from 0.00000\n",
      "Epoch 128/200\n",
      "1/1 [==============================] - 24s 24s/step - loss: 0.1922 - accuracy: 0.9375 - f1: 0.1798 - val_loss: 0.1563 - val_accuracy: 0.9125 - val_f1: 0.0000e+00\n",
      "\n",
      "Epoch 00128: val_f1 did not improve from 0.00000\n",
      "Epoch 129/200\n",
      "1/1 [==============================] - 24s 24s/step - loss: 0.1919 - accuracy: 0.9373 - f1: 0.1816 - val_loss: 0.1566 - val_accuracy: 0.9125 - val_f1: 0.0000e+00\n",
      "\n",
      "Epoch 00129: val_f1 did not improve from 0.00000\n",
      "Epoch 130/200\n",
      "1/1 [==============================] - 24s 24s/step - loss: 0.1914 - accuracy: 0.9374 - f1: 0.1839 - val_loss: 0.1568 - val_accuracy: 0.9125 - val_f1: 0.0000e+00\n",
      "\n",
      "Epoch 00130: val_f1 did not improve from 0.00000\n",
      "Epoch 131/200\n",
      "1/1 [==============================] - 24s 24s/step - loss: 0.1911 - accuracy: 0.9371 - f1: 0.1867 - val_loss: 0.1570 - val_accuracy: 0.9125 - val_f1: 0.0000e+00\n",
      "\n",
      "Epoch 00131: val_f1 did not improve from 0.00000\n",
      "Epoch 132/200\n",
      "1/1 [==============================] - 25s 25s/step - loss: 0.1905 - accuracy: 0.9374 - f1: 0.1914 - val_loss: 0.1572 - val_accuracy: 0.9125 - val_f1: 0.0000e+00\n",
      "\n",
      "Epoch 00132: val_f1 did not improve from 0.00000\n",
      "Epoch 133/200\n",
      "1/1 [==============================] - 23s 23s/step - loss: 0.1901 - accuracy: 0.9372 - f1: 0.1978 - val_loss: 0.1574 - val_accuracy: 0.9125 - val_f1: 0.0000e+00\n",
      "\n",
      "Epoch 00133: val_f1 did not improve from 0.00000\n",
      "Epoch 134/200\n",
      "1/1 [==============================] - 24s 24s/step - loss: 0.1895 - accuracy: 0.9375 - f1: 0.2020 - val_loss: 0.1576 - val_accuracy: 0.9125 - val_f1: 0.0000e+00\n",
      "\n",
      "Epoch 00134: val_f1 did not improve from 0.00000\n",
      "Epoch 135/200\n",
      "1/1 [==============================] - 24s 24s/step - loss: 0.1892 - accuracy: 0.9375 - f1: 0.2076 - val_loss: 0.1577 - val_accuracy: 0.9125 - val_f1: 0.0000e+00\n",
      "\n",
      "Epoch 00135: val_f1 did not improve from 0.00000\n",
      "Epoch 136/200\n",
      "1/1 [==============================] - 24s 24s/step - loss: 0.1887 - accuracy: 0.9373 - f1: 0.2113 - val_loss: 0.1578 - val_accuracy: 0.9125 - val_f1: 0.0000e+00\n",
      "\n",
      "Epoch 00136: val_f1 did not improve from 0.00000\n",
      "Epoch 137/200\n",
      "1/1 [==============================] - 24s 24s/step - loss: 0.1883 - accuracy: 0.9370 - f1: 0.2161 - val_loss: 0.1579 - val_accuracy: 0.9125 - val_f1: 0.0000e+00\n",
      "\n",
      "Epoch 00137: val_f1 did not improve from 0.00000\n",
      "Epoch 138/200\n",
      "1/1 [==============================] - 26s 26s/step - loss: 0.1878 - accuracy: 0.9369 - f1: 0.2206 - val_loss: 0.1581 - val_accuracy: 0.9125 - val_f1: 0.0000e+00\n",
      "\n",
      "Epoch 00138: val_f1 did not improve from 0.00000\n",
      "Epoch 139/200\n",
      "1/1 [==============================] - 24s 24s/step - loss: 0.1874 - accuracy: 0.9363 - f1: 0.2260 - val_loss: 0.1582 - val_accuracy: 0.9125 - val_f1: 0.0000e+00\n",
      "\n",
      "Epoch 00139: val_f1 did not improve from 0.00000\n",
      "Epoch 140/200\n",
      "1/1 [==============================] - 25s 25s/step - loss: 0.1869 - accuracy: 0.9356 - f1: 0.2284 - val_loss: 0.1583 - val_accuracy: 0.9125 - val_f1: 0.0000e+00\n",
      "\n",
      "Epoch 00140: val_f1 did not improve from 0.00000\n",
      "Epoch 141/200\n",
      "1/1 [==============================] - 24s 24s/step - loss: 0.1864 - accuracy: 0.9348 - f1: 0.2337 - val_loss: 0.1584 - val_accuracy: 0.9125 - val_f1: 0.0000e+00\n",
      "\n",
      "Epoch 00141: val_f1 did not improve from 0.00000\n",
      "Epoch 142/200\n",
      "1/1 [==============================] - 24s 24s/step - loss: 0.1861 - accuracy: 0.9343 - f1: 0.2340 - val_loss: 0.1586 - val_accuracy: 0.9125 - val_f1: 0.0000e+00\n",
      "\n",
      "Epoch 00142: val_f1 did not improve from 0.00000\n",
      "Epoch 143/200\n",
      "1/1 [==============================] - 24s 24s/step - loss: 0.1855 - accuracy: 0.9336 - f1: 0.2399 - val_loss: 0.1587 - val_accuracy: 0.9125 - val_f1: 0.0000e+00\n",
      "\n",
      "Epoch 00143: val_f1 did not improve from 0.00000\n",
      "Epoch 144/200\n",
      "1/1 [==============================] - 26s 26s/step - loss: 0.1851 - accuracy: 0.9329 - f1: 0.2421 - val_loss: 0.1588 - val_accuracy: 0.9125 - val_f1: 0.0000e+00\n",
      "\n",
      "Epoch 00144: val_f1 did not improve from 0.00000\n",
      "Epoch 145/200\n"
     ]
    },
    {
     "name": "stdout",
     "output_type": "stream",
     "text": [
      "1/1 [==============================] - 24s 24s/step - loss: 0.1847 - accuracy: 0.9318 - f1: 0.2453 - val_loss: 0.1589 - val_accuracy: 0.9125 - val_f1: 0.0000e+00\n",
      "\n",
      "Epoch 00145: val_f1 did not improve from 0.00000\n",
      "Epoch 146/200\n",
      "1/1 [==============================] - 24s 24s/step - loss: 0.1844 - accuracy: 0.9310 - f1: 0.2473 - val_loss: 0.1590 - val_accuracy: 0.9125 - val_f1: 0.0000e+00\n",
      "\n",
      "Epoch 00146: val_f1 did not improve from 0.00000\n",
      "Epoch 147/200\n",
      "1/1 [==============================] - 24s 24s/step - loss: 0.1837 - accuracy: 0.9306 - f1: 0.2522 - val_loss: 0.1591 - val_accuracy: 0.9125 - val_f1: 0.0000e+00\n",
      "\n",
      "Epoch 00147: val_f1 did not improve from 0.00000\n",
      "Epoch 148/200\n",
      "1/1 [==============================] - 25s 25s/step - loss: 0.1833 - accuracy: 0.9305 - f1: 0.2556 - val_loss: 0.1592 - val_accuracy: 0.9125 - val_f1: 0.0000e+00\n",
      "\n",
      "Epoch 00148: val_f1 did not improve from 0.00000\n",
      "Epoch 149/200\n",
      "1/1 [==============================] - 26s 26s/step - loss: 0.1829 - accuracy: 0.9290 - f1: 0.2605 - val_loss: 0.1592 - val_accuracy: 0.9125 - val_f1: 0.0000e+00\n",
      "\n",
      "Epoch 00149: val_f1 did not improve from 0.00000\n",
      "Epoch 150/200\n",
      "1/1 [==============================] - 27s 27s/step - loss: 0.1822 - accuracy: 0.9283 - f1: 0.2655 - val_loss: 0.1591 - val_accuracy: 0.9125 - val_f1: 0.0000e+00\n",
      "\n",
      "Epoch 00150: val_f1 did not improve from 0.00000\n",
      "Epoch 151/200\n",
      "1/1 [==============================] - 26s 26s/step - loss: 0.1819 - accuracy: 0.9266 - f1: 0.2677 - val_loss: 0.1591 - val_accuracy: 0.9125 - val_f1: 0.0000e+00\n",
      "\n",
      "Epoch 00151: val_f1 did not improve from 0.00000\n",
      "Epoch 152/200\n",
      "1/1 [==============================] - 25s 25s/step - loss: 0.1813 - accuracy: 0.9258 - f1: 0.2736 - val_loss: 0.1590 - val_accuracy: 0.9125 - val_f1: 0.0000e+00\n",
      "\n",
      "Epoch 00152: val_f1 did not improve from 0.00000\n",
      "Epoch 153/200\n",
      "1/1 [==============================] - 25s 25s/step - loss: 0.1808 - accuracy: 0.9244 - f1: 0.2827 - val_loss: 0.1590 - val_accuracy: 0.9125 - val_f1: 0.0000e+00\n",
      "\n",
      "Epoch 00153: val_f1 did not improve from 0.00000\n",
      "Epoch 154/200\n",
      "1/1 [==============================] - 24s 24s/step - loss: 0.1803 - accuracy: 0.9238 - f1: 0.2891 - val_loss: 0.1589 - val_accuracy: 0.9125 - val_f1: 0.0000e+00\n",
      "\n",
      "Epoch 00154: val_f1 did not improve from 0.00000\n",
      "Epoch 155/200\n",
      "1/1 [==============================] - 25s 25s/step - loss: 0.1799 - accuracy: 0.9222 - f1: 0.2936 - val_loss: 0.1587 - val_accuracy: 0.9125 - val_f1: 0.0000e+00\n",
      "\n",
      "Epoch 00155: val_f1 did not improve from 0.00000\n",
      "Epoch 156/200\n",
      "1/1 [==============================] - 25s 25s/step - loss: 0.1793 - accuracy: 0.9209 - f1: 0.3027 - val_loss: 0.1586 - val_accuracy: 0.9125 - val_f1: 0.0000e+00\n",
      "\n",
      "Epoch 00156: val_f1 did not improve from 0.00000\n",
      "Epoch 157/200\n",
      "1/1 [==============================] - 27s 27s/step - loss: 0.1788 - accuracy: 0.9199 - f1: 0.3124 - val_loss: 0.1584 - val_accuracy: 0.9125 - val_f1: 0.0000e+00\n",
      "\n",
      "Epoch 00157: val_f1 did not improve from 0.00000\n",
      "Epoch 158/200\n",
      "1/1 [==============================] - 25s 25s/step - loss: 0.1781 - accuracy: 0.9188 - f1: 0.3214 - val_loss: 0.1582 - val_accuracy: 0.9125 - val_f1: 0.0000e+00\n",
      "\n",
      "Epoch 00158: val_f1 did not improve from 0.00000\n",
      "Epoch 159/200\n",
      "1/1 [==============================] - 25s 25s/step - loss: 0.1777 - accuracy: 0.9166 - f1: 0.3270 - val_loss: 0.1579 - val_accuracy: 0.9125 - val_f1: 0.0000e+00\n",
      "\n",
      "Epoch 00159: val_f1 did not improve from 0.00000\n",
      "Epoch 160/200\n",
      "1/1 [==============================] - 25s 25s/step - loss: 0.1771 - accuracy: 0.9154 - f1: 0.3345 - val_loss: 0.1576 - val_accuracy: 0.9125 - val_f1: 0.0000e+00\n",
      "\n",
      "Epoch 00160: val_f1 did not improve from 0.00000\n",
      "Epoch 161/200\n",
      "1/1 [==============================] - 25s 25s/step - loss: 0.1767 - accuracy: 0.9135 - f1: 0.3379 - val_loss: 0.1574 - val_accuracy: 0.9125 - val_f1: 0.0000e+00\n",
      "\n",
      "Epoch 00161: val_f1 did not improve from 0.00000\n",
      "Epoch 162/200\n",
      "1/1 [==============================] - 25s 25s/step - loss: 0.1760 - accuracy: 0.9117 - f1: 0.3455 - val_loss: 0.1572 - val_accuracy: 0.9125 - val_f1: 0.0000e+00\n",
      "\n",
      "Epoch 00162: val_f1 did not improve from 0.00000\n",
      "Epoch 163/200\n",
      "1/1 [==============================] - 26s 26s/step - loss: 0.1755 - accuracy: 0.9105 - f1: 0.3523 - val_loss: 0.1569 - val_accuracy: 0.9125 - val_f1: 0.0000e+00\n",
      "\n",
      "Epoch 00163: val_f1 did not improve from 0.00000\n",
      "Epoch 164/200\n",
      "1/1 [==============================] - 27s 27s/step - loss: 0.1748 - accuracy: 0.9096 - f1: 0.3576 - val_loss: 0.1567 - val_accuracy: 0.9125 - val_f1: 0.0000e+00\n",
      "\n",
      "Epoch 00164: val_f1 did not improve from 0.00000\n",
      "Epoch 165/200\n",
      "1/1 [==============================] - 24s 24s/step - loss: 0.1744 - accuracy: 0.9075 - f1: 0.3650 - val_loss: 0.1566 - val_accuracy: 0.9125 - val_f1: 0.0000e+00\n",
      "\n",
      "Epoch 00165: val_f1 did not improve from 0.00000\n",
      "Epoch 166/200\n",
      "1/1 [==============================] - 24s 24s/step - loss: 0.1738 - accuracy: 0.9068 - f1: 0.3723 - val_loss: 0.1566 - val_accuracy: 0.9125 - val_f1: 0.0000e+00\n",
      "\n",
      "Epoch 00166: val_f1 did not improve from 0.00000\n",
      "Epoch 167/200\n",
      "1/1 [==============================] - 25s 25s/step - loss: 0.1731 - accuracy: 0.9063 - f1: 0.3782 - val_loss: 0.1566 - val_accuracy: 0.9125 - val_f1: 0.0000e+00\n",
      "\n",
      "Epoch 00167: val_f1 did not improve from 0.00000\n",
      "Epoch 168/200\n",
      "1/1 [==============================] - 25s 25s/step - loss: 0.1726 - accuracy: 0.9040 - f1: 0.3842 - val_loss: 0.1567 - val_accuracy: 0.9125 - val_f1: 0.0000e+00\n",
      "\n",
      "Epoch 00168: val_f1 did not improve from 0.00000\n",
      "Epoch 169/200\n",
      "1/1 [==============================] - 26s 26s/step - loss: 0.1720 - accuracy: 0.9036 - f1: 0.3942 - val_loss: 0.1569 - val_accuracy: 0.9125 - val_f1: 0.0000e+00\n",
      "\n",
      "Epoch 00169: val_f1 did not improve from 0.00000\n",
      "Epoch 170/200\n",
      "1/1 [==============================] - 25s 25s/step - loss: 0.1714 - accuracy: 0.9021 - f1: 0.4041 - val_loss: 0.1571 - val_accuracy: 0.9125 - val_f1: 0.0000e+00\n",
      "\n",
      "Epoch 00170: val_f1 did not improve from 0.00000\n",
      "Epoch 171/200\n",
      "1/1 [==============================] - 26s 26s/step - loss: 0.1708 - accuracy: 0.9005 - f1: 0.4146 - val_loss: 0.1573 - val_accuracy: 0.9125 - val_f1: 0.0000e+00\n",
      "\n",
      "Epoch 00171: val_f1 did not improve from 0.00000\n",
      "Epoch 172/200\n",
      "1/1 [==============================] - 27s 27s/step - loss: 0.1701 - accuracy: 0.8984 - f1: 0.4231 - val_loss: 0.1575 - val_accuracy: 0.9125 - val_f1: 0.0000e+00\n",
      "\n",
      "Epoch 00172: val_f1 did not improve from 0.00000\n",
      "Epoch 173/200\n",
      "1/1 [==============================] - 28s 28s/step - loss: 0.1696 - accuracy: 0.8979 - f1: 0.4301 - val_loss: 0.1577 - val_accuracy: 0.9125 - val_f1: 0.0000e+00\n",
      "\n",
      "Epoch 00173: val_f1 did not improve from 0.00000\n",
      "Epoch 174/200\n",
      "1/1 [==============================] - 32s 32s/step - loss: 0.1689 - accuracy: 0.8969 - f1: 0.4417 - val_loss: 0.1578 - val_accuracy: 0.9125 - val_f1: 0.0000e+00\n",
      "\n",
      "Epoch 00174: val_f1 did not improve from 0.00000\n",
      "Epoch 175/200\n",
      "1/1 [==============================] - 28s 28s/step - loss: 0.1684 - accuracy: 0.8951 - f1: 0.4478 - val_loss: 0.1579 - val_accuracy: 0.9125 - val_f1: 0.0000e+00\n",
      "\n",
      "Epoch 00175: val_f1 did not improve from 0.00000\n",
      "Epoch 176/200\n",
      "1/1 [==============================] - 29s 29s/step - loss: 0.1678 - accuracy: 0.8948 - f1: 0.4591 - val_loss: 0.1579 - val_accuracy: 0.9125 - val_f1: 0.0000e+00\n",
      "\n",
      "Epoch 00176: val_f1 did not improve from 0.00000\n",
      "Epoch 177/200\n",
      "1/1 [==============================] - 27s 27s/step - loss: 0.1673 - accuracy: 0.8916 - f1: 0.4634 - val_loss: 0.1580 - val_accuracy: 0.9125 - val_f1: 0.0000e+00\n",
      "\n",
      "Epoch 00177: val_f1 did not improve from 0.00000\n",
      "Epoch 178/200\n",
      "1/1 [==============================] - 26s 26s/step - loss: 0.1666 - accuracy: 0.8916 - f1: 0.4727 - val_loss: 0.1580 - val_accuracy: 0.9125 - val_f1: 0.0000e+00\n",
      "\n",
      "Epoch 00178: val_f1 did not improve from 0.00000\n",
      "Epoch 179/200\n",
      "1/1 [==============================] - 25s 25s/step - loss: 0.1660 - accuracy: 0.8885 - f1: 0.4805 - val_loss: 0.1579 - val_accuracy: 0.9125 - val_f1: 0.0000e+00\n",
      "\n",
      "Epoch 00179: val_f1 did not improve from 0.00000\n",
      "Epoch 180/200\n",
      "1/1 [==============================] - 25s 25s/step - loss: 0.1653 - accuracy: 0.8865 - f1: 0.4870 - val_loss: 0.1580 - val_accuracy: 0.9125 - val_f1: 0.0000e+00\n",
      "\n",
      "Epoch 00180: val_f1 did not improve from 0.00000\n",
      "Epoch 181/200\n",
      "1/1 [==============================] - 28s 28s/step - loss: 0.1647 - accuracy: 0.8862 - f1: 0.4946 - val_loss: 0.1580 - val_accuracy: 0.9125 - val_f1: 0.0000e+00\n",
      "\n",
      "Epoch 00181: val_f1 did not improve from 0.00000\n",
      "Epoch 182/200\n",
      "1/1 [==============================] - 19s 19s/step - loss: 0.1641 - accuracy: 0.8833 - f1: 0.5033 - val_loss: 0.1579 - val_accuracy: 0.9125 - val_f1: 0.0000e+00\n",
      "\n",
      "Epoch 00182: val_f1 did not improve from 0.00000\n",
      "Epoch 183/200\n",
      "1/1 [==============================] - 15s 15s/step - loss: 0.1636 - accuracy: 0.8798 - f1: 0.5088 - val_loss: 0.1580 - val_accuracy: 0.9125 - val_f1: 0.0000e+00\n",
      "\n",
      "Epoch 00183: val_f1 did not improve from 0.00000\n",
      "Epoch 184/200\n",
      "1/1 [==============================] - 15s 15s/step - loss: 0.1632 - accuracy: 0.8796 - f1: 0.5173 - val_loss: 0.1580 - val_accuracy: 0.9125 - val_f1: 0.0000e+00\n",
      "\n",
      "Epoch 00184: val_f1 did not improve from 0.00000\n",
      "Epoch 185/200\n",
      "1/1 [==============================] - 15s 15s/step - loss: 0.1626 - accuracy: 0.8759 - f1: 0.5238 - val_loss: 0.1580 - val_accuracy: 0.9125 - val_f1: 0.0000e+00\n",
      "\n",
      "Epoch 00185: val_f1 did not improve from 0.00000\n",
      "Epoch 186/200\n",
      "1/1 [==============================] - 15s 15s/step - loss: 0.1620 - accuracy: 0.8742 - f1: 0.5288 - val_loss: 0.1581 - val_accuracy: 0.9125 - val_f1: 0.0000e+00\n",
      "\n",
      "Epoch 00186: val_f1 did not improve from 0.00000\n",
      "Epoch 187/200\n",
      "1/1 [==============================] - 15s 15s/step - loss: 0.1615 - accuracy: 0.8731 - f1: 0.5364 - val_loss: 0.1581 - val_accuracy: 0.9125 - val_f1: 0.0000e+00\n",
      "\n",
      "Epoch 00187: val_f1 did not improve from 0.00000\n",
      "Epoch 188/200\n",
      "1/1 [==============================] - 15s 15s/step - loss: 0.1609 - accuracy: 0.8703 - f1: 0.5430 - val_loss: 0.1582 - val_accuracy: 0.9125 - val_f1: 0.0000e+00\n",
      "\n",
      "Epoch 00188: val_f1 did not improve from 0.00000\n",
      "Epoch 189/200\n",
      "1/1 [==============================] - 15s 15s/step - loss: 0.1602 - accuracy: 0.8679 - f1: 0.5498 - val_loss: 0.1584 - val_accuracy: 0.9125 - val_f1: 0.0000e+00\n",
      "\n",
      "Epoch 00189: val_f1 did not improve from 0.00000\n",
      "Epoch 190/200\n",
      "1/1 [==============================] - 15s 15s/step - loss: 0.1598 - accuracy: 0.8670 - f1: 0.5542 - val_loss: 0.1583 - val_accuracy: 0.9125 - val_f1: 0.0000e+00\n",
      "\n",
      "Epoch 00190: val_f1 did not improve from 0.00000\n",
      "Epoch 191/200\n",
      "1/1 [==============================] - 15s 15s/step - loss: 0.1592 - accuracy: 0.8621 - f1: 0.5568 - val_loss: 0.1586 - val_accuracy: 0.9125 - val_f1: 0.0000e+00\n",
      "\n",
      "Epoch 00191: val_f1 did not improve from 0.00000\n",
      "Epoch 192/200\n",
      "1/1 [==============================] - 14s 14s/step - loss: 0.1587 - accuracy: 0.8631 - f1: 0.5644 - val_loss: 0.1586 - val_accuracy: 0.9125 - val_f1: 0.0000e+00\n",
      "\n",
      "Epoch 00192: val_f1 did not improve from 0.00000\n",
      "Epoch 193/200\n",
      "1/1 [==============================] - 14s 14s/step - loss: 0.1582 - accuracy: 0.8599 - f1: 0.5694 - val_loss: 0.1587 - val_accuracy: 0.9125 - val_f1: 0.0000e+00\n",
      "\n",
      "Epoch 00193: val_f1 did not improve from 0.00000\n",
      "Epoch 194/200\n",
      "1/1 [==============================] - 14s 14s/step - loss: 0.1577 - accuracy: 0.8571 - f1: 0.5724 - val_loss: 0.1590 - val_accuracy: 0.9125 - val_f1: 0.0000e+00\n",
      "\n",
      "Epoch 00194: val_f1 did not improve from 0.00000\n",
      "Epoch 195/200\n",
      "1/1 [==============================] - 14s 14s/step - loss: 0.1569 - accuracy: 0.8578 - f1: 0.5811 - val_loss: 0.1592 - val_accuracy: 0.9125 - val_f1: 0.0000e+00\n",
      "\n",
      "Epoch 00195: val_f1 did not improve from 0.00000\n",
      "Epoch 196/200\n",
      "1/1 [==============================] - 14s 14s/step - loss: 0.1566 - accuracy: 0.8548 - f1: 0.5824 - val_loss: 0.1593 - val_accuracy: 0.9125 - val_f1: 0.0000e+00\n",
      "\n",
      "Epoch 00196: val_f1 did not improve from 0.00000\n",
      "Epoch 197/200\n",
      "1/1 [==============================] - 15s 15s/step - loss: 0.1561 - accuracy: 0.8533 - f1: 0.5860 - val_loss: 0.1597 - val_accuracy: 0.9125 - val_f1: 0.0000e+00\n",
      "\n",
      "Epoch 00197: val_f1 did not improve from 0.00000\n",
      "Epoch 198/200\n",
      "1/1 [==============================] - 15s 15s/step - loss: 0.1554 - accuracy: 0.8528 - f1: 0.5942 - val_loss: 0.1599 - val_accuracy: 0.9125 - val_f1: 0.0000e+00\n",
      "\n",
      "Epoch 00198: val_f1 did not improve from 0.00000\n",
      "Epoch 199/200\n",
      "1/1 [==============================] - 15s 15s/step - loss: 0.1549 - accuracy: 0.8520 - f1: 0.5978 - val_loss: 0.1603 - val_accuracy: 0.9125 - val_f1: 0.0000e+00\n",
      "\n",
      "Epoch 00199: val_f1 did not improve from 0.00000\n",
      "Epoch 200/200\n",
      "1/1 [==============================] - 18s 18s/step - loss: 0.1543 - accuracy: 0.8499 - f1: 0.6032 - val_loss: 0.1607 - val_accuracy: 0.9125 - val_f1: 0.0000e+00\n",
      "\n",
      "Epoch 00200: val_f1 did not improve from 0.00000\n",
      "-----------------------------------------------------------------\n",
      "Training was completed in 3961.25 secs\n",
      "-----------------------------------------------------------------\n"
     ]
    }
   ],
   "source": [
    "# # Define a learning rate decay method:\n",
    "# lr_decay = ReduceLROnPlateau(monitor='val_loss', \n",
    "#                              patience=50, verbose=1, \n",
    "#                              factor=0.5, min_lr=1e-8)\n",
    "# # Define Early Stopping:\n",
    "# early_stop = EarlyStopping(monitor='val_f1', min_delta=0.01, \n",
    "#                            patience=50, verbose=1, mode='auto',\n",
    "#                            baseline=0, restore_best_weights=True)\n",
    "# check_point = ModelCheckpoint('model.hdf5', monitor=\"val_f1\", mode=\"max\",\n",
    "#                               verbose=True, save_best_only=True)\n",
    "early_stop = EarlyStopping(monitor=\"val_loss\", mode=\"min\", patience= 50,verbose=True)\n",
    "# Train the model. \n",
    "# The dataset is small for NN - let's use test_data for validation\n",
    "start = time()\n",
    "classifier = model.fit(X_train_LSTM, y_train_LSTM,\n",
    "                    epochs=EPOCH,\n",
    "                    batch_size=BATCH,\n",
    "                    validation_split=0.0,\n",
    "                    validation_data=(X_valid_LSTM, y_valid_LSTM),\n",
    "                    shuffle=False,\n",
    "                    callbacks=[early_stop])\n",
    "print('-'*65)\n",
    "print(f'Training was completed in {time() - start:.2f} secs')\n",
    "print('-'*65)\n"
   ]
  },
  {
   "cell_type": "code",
   "execution_count": null,
   "metadata": {
    "colab": {
     "base_uri": "https://localhost:8080/"
    },
    "id": "a83KwP65jYOx",
    "outputId": "0e67c417-ba68-48c4-afa0-05b3bc9e9fc3"
   },
   "outputs": [],
   "source": [
    "# Evaluate the model:\n",
    "train_loss, train_acc = model.evaluate(X_train_LSTM, y_train_LSTM,\n",
    "                                       batch_size=M_TRAIN, verbose=0)\n",
    "# test_loss, test_acc = model.evaluate(X_test_LSTM, y_test_LSTM,\n",
    "#                                      batch_size=M_TEST, verbose=0)\n",
    "# print('-'*65)\n",
    "print(f'train accuracy = {round(train_acc * 100, 4)}%')\n",
    "# print(f'test accuracy = {round(test_acc * 100, 4)}%')\n",
    "# print(f'test error = {round((1 - test_acc) * M_TEST)} out of {M_TEST} examples')"
   ]
  },
  {
   "cell_type": "code",
   "execution_count": null,
   "metadata": {
    "id": "ovyuRgyguzVJ"
   },
   "outputs": [],
   "source": [
    "from sklearn.metrics import classification_report\n",
    "from sklearn.metrics import f1_score"
   ]
  },
  {
   "cell_type": "code",
   "execution_count": 1,
   "metadata": {
    "colab": {
     "base_uri": "https://localhost:8080/"
    },
    "id": "5TC_H8xEjYOy",
    "outputId": "20e3534f-e5ff-4c60-9af7-954541ec86b0",
    "scrolled": true
   },
   "outputs": [
    {
     "ename": "NameError",
     "evalue": "name 'model' is not defined",
     "output_type": "error",
     "traceback": [
      "\u001b[1;31m---------------------------------------------------------------------------\u001b[0m",
      "\u001b[1;31mNameError\u001b[0m                                 Traceback (most recent call last)",
      "\u001b[1;32m<ipython-input-1-ddf9ca9b8ecd>\u001b[0m in \u001b[0;36m<module>\u001b[1;34m\u001b[0m\n\u001b[1;32m----> 1\u001b[1;33m \u001b[0myhat\u001b[0m \u001b[1;33m=\u001b[0m \u001b[0mmodel\u001b[0m\u001b[1;33m.\u001b[0m\u001b[0mpredict\u001b[0m\u001b[1;33m(\u001b[0m\u001b[0mX_train_LSTM\u001b[0m\u001b[1;33m,\u001b[0m \u001b[0mbatch_size\u001b[0m \u001b[1;33m=\u001b[0m \u001b[0mM_TRAIN\u001b[0m\u001b[1;33m,\u001b[0m \u001b[0mverbose\u001b[0m \u001b[1;33m=\u001b[0m \u001b[1;36m1\u001b[0m\u001b[1;33m)\u001b[0m\u001b[1;33m\u001b[0m\u001b[1;33m\u001b[0m\u001b[0m\n\u001b[0m",
      "\u001b[1;31mNameError\u001b[0m: name 'model' is not defined"
     ]
    }
   ],
   "source": [
    "yhat = model.predict(X_train_LSTM, batch_size = M_TRAIN, verbose = 1)\n"
   ]
  },
  {
   "cell_type": "code",
   "execution_count": null,
   "metadata": {
    "colab": {
     "base_uri": "https://localhost:8080/"
    },
    "id": "C6yhQMJqjYO1",
    "outputId": "b6d3d236-cc73-4a8f-bd7b-35719ea30673"
   },
   "outputs": [],
   "source": [
    "yhat"
   ]
  },
  {
   "cell_type": "code",
   "execution_count": null,
   "metadata": {
    "id": "zTobGwtmv_oy"
   },
   "outputs": [],
   "source": []
  },
  {
   "cell_type": "code",
   "execution_count": null,
   "metadata": {
    "colab": {
     "base_uri": "https://localhost:8080/"
    },
    "id": "R2ZD8hL0vKD0",
    "outputId": "01a00b75-948a-4147-d756-b5ef5df6e2c3"
   },
   "outputs": [],
   "source": [
    "type(yhat)"
   ]
  },
  {
   "cell_type": "code",
   "execution_count": null,
   "metadata": {
    "id": "S9A5kKe8SxM3"
   },
   "outputs": [],
   "source": [
    "y_valid_1d = y_valid_LSTM.flatten()\n"
   ]
  },
  {
   "cell_type": "code",
   "execution_count": null,
   "metadata": {},
   "outputs": [],
   "source": [
    "y_1d = y_train_LSTM.flatten()\n"
   ]
  },
  {
   "cell_type": "code",
   "execution_count": null,
   "metadata": {
    "colab": {
     "base_uri": "https://localhost:8080/"
    },
    "id": "yjJlJJWfuFBr",
    "outputId": "37a1541a-80d2-4109-8438-ef5eb3ad9d63"
   },
   "outputs": [],
   "source": [
    "sum = 0\n",
    "for i in range(0, len(yhat)):\n",
    "    if yhat[i] == y_1d[i] and yhat[i] == 1:\n",
    "        sum = sum + 1\n",
    "sum\n",
    "  "
   ]
  },
  {
   "cell_type": "code",
   "execution_count": null,
   "metadata": {
    "colab": {
     "base_uri": "https://localhost:8080/"
    },
    "id": "AsmohXP587uM",
    "outputId": "95140a4f-bcbd-4f80-d2d8-f6e524364696"
   },
   "outputs": [],
   "source": [
    "sum = 0\n",
    "for i in yhat:\n",
    "    if i == 1:\n",
    "        sum = sum + 1\n",
    "sum\n",
    "  "
   ]
  },
  {
   "cell_type": "code",
   "execution_count": null,
   "metadata": {},
   "outputs": [],
   "source": [
    "sum = 0\n",
    "for i in y_valid_1d:\n",
    "    if i == 1:\n",
    "        sum = sum + 1\n",
    "sum\n",
    "  "
   ]
  },
  {
   "cell_type": "code",
   "execution_count": null,
   "metadata": {
    "colab": {
     "base_uri": "https://localhost:8080/"
    },
    "id": "tLLfXvPy86sd",
    "outputId": "9212c178-28e9-4caa-b6f7-e684db04b4e0"
   },
   "outputs": [],
   "source": [
    "sum = 0\n",
    "for i in y_1d:\n",
    "    if i == 1:\n",
    "        sum = sum + 1\n",
    "sum\n",
    "  "
   ]
  },
  {
   "cell_type": "code",
   "execution_count": null,
   "metadata": {
    "id": "hMx-H-FOjYPG"
   },
   "outputs": [],
   "source": [
    "print(f1_score(y_1d, yhat, average='weighted'))"
   ]
  },
  {
   "cell_type": "code",
   "execution_count": null,
   "metadata": {
    "colab": {
     "base_uri": "https://localhost:8080/"
    },
    "id": "pB3ve6fujYPH",
    "outputId": "d0a8f3a6-ff79-4511-eace-e7c1cbb6145f"
   },
   "outputs": [],
   "source": [
    "print(classification_report(y_1d, yhat))\n"
   ]
  },
  {
   "cell_type": "markdown",
   "metadata": {
    "id": "94R_mkarvbPp"
   },
   "source": []
  },
  {
   "cell_type": "code",
   "execution_count": null,
   "metadata": {
    "id": "Yve0Q-DkjYPJ"
   },
   "outputs": [],
   "source": []
  },
  {
   "cell_type": "code",
   "execution_count": null,
   "metadata": {
    "id": "HD_mkdecjYPS"
   },
   "outputs": [],
   "source": []
  },
  {
   "cell_type": "code",
   "execution_count": null,
   "metadata": {
    "id": "5mQoDiXYjYPT"
   },
   "outputs": [],
   "source": []
  },
  {
   "cell_type": "code",
   "execution_count": null,
   "metadata": {
    "colab": {
     "base_uri": "https://localhost:8080/",
     "height": 163
    },
    "id": "XdbNEUGDjYPU",
    "outputId": "79eebc18-d855-429e-adf4-5c396d286b16"
   },
   "outputs": [],
   "source": [
    "x_train.head()"
   ]
  },
  {
   "cell_type": "code",
   "execution_count": null,
   "metadata": {
    "id": "fYjGSTg-jYPU"
   },
   "outputs": [],
   "source": [
    "y_train.head()"
   ]
  },
  {
   "cell_type": "code",
   "execution_count": null,
   "metadata": {
    "id": "BdTskVNijYPV"
   },
   "outputs": [],
   "source": [
    "y_train['transformed'] = y_train.apply(lambda x: ''.join(x.astype(str)),axis = 1)"
   ]
  },
  {
   "cell_type": "code",
   "execution_count": null,
   "metadata": {
    "id": "fDKsRCkujYPV"
   },
   "outputs": [],
   "source": [
    "le_y = preprocessing.LabelEncoder()\n",
    "y_train['encoded'] = le_y.fit_transform(y_train['transformed'])"
   ]
  },
  {
   "cell_type": "code",
   "execution_count": null,
   "metadata": {
    "id": "1sY4JsLpjYPX"
   },
   "outputs": [],
   "source": [
    "y_train.head()"
   ]
  },
  {
   "cell_type": "code",
   "execution_count": null,
   "metadata": {
    "id": "A7bpjREzjYPY"
   },
   "outputs": [],
   "source": [
    "le = preprocessing.LabelEncoder()\n",
    "le.fit(x_train['dayofweek'])\n",
    "le.classes_"
   ]
  },
  {
   "cell_type": "code",
   "execution_count": null,
   "metadata": {
    "id": "qeExXXRdjYPZ"
   },
   "outputs": [],
   "source": [
    "scale_list = ['absdif', 'dif', 'entropy', 'hurst', 'load', 'max', 'nonlinear', 'var']\n",
    "scaler = preprocessing.StandardScaler().fit(x_train[scale_list])\n"
   ]
  },
  {
   "cell_type": "code",
   "execution_count": null,
   "metadata": {
    "id": "XzXKfIJAjYPZ"
   },
   "outputs": [],
   "source": [
    "x_train.head()"
   ]
  },
  {
   "cell_type": "code",
   "execution_count": null,
   "metadata": {
    "id": "ul0SZtNGjYPa"
   },
   "outputs": [],
   "source": [
    "x_train['dayofweek'] = le.transform(x_train['dayofweek'])\n",
    "x_train[scale_list] = scaler.transform(x_train[scale_list])"
   ]
  },
  {
   "cell_type": "code",
   "execution_count": null,
   "metadata": {
    "id": "muldN2kjjYPb"
   },
   "outputs": [],
   "source": [
    "x_train.head()"
   ]
  },
  {
   "cell_type": "code",
   "execution_count": null,
   "metadata": {
    "id": "5tifRenVjYPd"
   },
   "outputs": [],
   "source": [
    "x_train.describe()"
   ]
  },
  {
   "cell_type": "code",
   "execution_count": null,
   "metadata": {
    "id": "CfJrlyDWjYPe"
   },
   "outputs": [],
   "source": [
    "plt.style.use('fivethirtyeight')\n",
    "x_train.plot(subplots=True,\n",
    "        layout=(6, 3),\n",
    "        figsize=(22,22),\n",
    "        fontsize=10, \n",
    "        linewidth=2,\n",
    "        sharex=False,\n",
    "        title='Visualization of the original Time Series')\n",
    "plt.show()"
   ]
  },
  {
   "cell_type": "markdown",
   "metadata": {
    "id": "FamrP5vVjYPf"
   },
   "source": [
    "The raw data contain stochastic time series. Predicting/ making classification based on stochastic variable values may force the model to learn the 'persistence' mode (i.e. yhat(t+1) = y(t)), resulting in little predictive power. Defining the model to predict (make classification from) the difference in values between the time steps rather than value itself, is a stronger test of its predictive power."
   ]
  },
  {
   "cell_type": "code",
   "execution_count": null,
   "metadata": {
    "id": "F-KaxalPjYPg"
   },
   "outputs": [],
   "source": [
    "x_train = x_train.copy().pct_change(1)\n",
    "x_train.head()\n"
   ]
  },
  {
   "cell_type": "code",
   "execution_count": null,
   "metadata": {
    "id": "hZAjBpImjYPh"
   },
   "outputs": [],
   "source": [
    "x_train.fillna(method='bfill', inplace=True)\n",
    "x_train.head()\n"
   ]
  },
  {
   "cell_type": "code",
   "execution_count": null,
   "metadata": {
    "id": "vXPw4thTjYPi"
   },
   "outputs": [],
   "source": [
    "x_train.tail()\n"
   ]
  },
  {
   "cell_type": "code",
   "execution_count": null,
   "metadata": {
    "id": "Lb_1mS4njYPi"
   },
   "outputs": [],
   "source": [
    "X_train_final, X_valid, y_train_final, y_valid = train_test_split(x_train, y_train, test_size = 0.4, random_state = 42,shuffle=False)\n"
   ]
  },
  {
   "cell_type": "code",
   "execution_count": null,
   "metadata": {
    "id": "fAMhXLdUjYPj"
   },
   "outputs": [],
   "source": [
    "# I want to use a T-mins window of input data for predicting target_class\n",
    "# It means I need to prepend (T-1) last train records to the 1st test window\n",
    "T = 30  # my choice of the timesteps window\n",
    "\n",
    "prepend_features = X_train_final.iloc[-(T-1):]\n",
    "X_valid = pd.concat([prepend_features, X_valid], axis=0)"
   ]
  },
  {
   "cell_type": "code",
   "execution_count": null,
   "metadata": {
    "id": "M_b7aBTHjYPk"
   },
   "outputs": [],
   "source": [
    "X_valid.head()"
   ]
  },
  {
   "cell_type": "code",
   "execution_count": null,
   "metadata": {
    "id": "zRznP8zvjYPl"
   },
   "outputs": [],
   "source": [
    "X_train_final.head()"
   ]
  },
  {
   "cell_type": "code",
   "execution_count": null,
   "metadata": {
    "id": "kGhSwmK0jYPm"
   },
   "outputs": [],
   "source": [
    "X_train_final.tail()"
   ]
  },
  {
   "cell_type": "code",
   "execution_count": null,
   "metadata": {
    "id": "k8VmfvsjjYPm"
   },
   "outputs": [],
   "source": [
    "X_valid.head()"
   ]
  },
  {
   "cell_type": "code",
   "execution_count": null,
   "metadata": {
    "id": "TYqC1BlYjYP0"
   },
   "outputs": [],
   "source": [
    "X_train_final.shape, X_valid.shape, y_train_final.shape, y_valid.shape"
   ]
  },
  {
   "cell_type": "markdown",
   "metadata": {
    "id": "ERVMnvftjYP1"
   },
   "source": [
    "Input data for the Keras LSTM layer has 3 dimensions: (M, T, N), where\n",
    "\n",
    "- M - number of examples (2D: sequences of timesteps x features),\n",
    "- T - sequence length (timesteps) and\n",
    "- N - number of features (input_dim)"
   ]
  },
  {
   "cell_type": "code",
   "execution_count": null,
   "metadata": {
    "id": "RrZGvPY0jYP2"
   },
   "outputs": [],
   "source": [
    "X_train_final.shape[0]"
   ]
  },
  {
   "cell_type": "code",
   "execution_count": null,
   "metadata": {
    "id": "D1TdjIp6jYP2"
   },
   "outputs": [],
   "source": [
    "# Create sequences of T timesteps\n",
    "X_train_LSTM, y_train_LSTM = [], []\n",
    "for i in range(y_train_final.shape[0] - (T-1)):\n",
    "    X_train_LSTM.append(X_train_final.iloc[i:i+T].values)\n",
    "    y_train_LSTM.append(y_train_final.iloc[i + (T-1)])\n",
    "# X_train_LSTM, y_train_LSTM = np.array(X_train_LSTM), np.array(y_train_LSTM).reshape(-1,1)\n",
    "# print(f'Train data dimensions: {X_train_LSTM.shape}, {y_train_LSTM.shape}')\n",
    "\n",
    "# X_valid, y_test = [], []\n",
    "# for i in range(test_labels.shape[0]):\n",
    "#     X_test.append(scaled_test_features.iloc[i:i+T].values)\n",
    "#     y_test.append(test_labels.iloc[i])\n",
    "# X_test, y_test = np.array(X_test), np.array(y_test).reshape(-1,1)  \n",
    "\n",
    "# print(f'Test data dimensions: {X_test.shape}, {y_test.shape}')"
   ]
  },
  {
   "cell_type": "code",
   "execution_count": null,
   "metadata": {
    "id": "4Csrbo2CjYP3"
   },
   "outputs": [],
   "source": [
    "X_train_LSTM\n",
    "X_train_LSTM"
   ]
  },
  {
   "cell_type": "code",
   "execution_count": null,
   "metadata": {
    "id": "CeInIx2BjYP4"
   },
   "outputs": [],
   "source": []
  },
  {
   "cell_type": "code",
   "execution_count": null,
   "metadata": {
    "id": "3wmFsha9jYP4"
   },
   "outputs": [],
   "source": []
  },
  {
   "cell_type": "code",
   "execution_count": null,
   "metadata": {
    "id": "sniJu7zfjYP5"
   },
   "outputs": [],
   "source": []
  },
  {
   "cell_type": "code",
   "execution_count": null,
   "metadata": {
    "id": "_xKMWTn2jYP5"
   },
   "outputs": [],
   "source": [
    "\n",
    "\n",
    "# Split train and validation data\n",
    "train_features = x_train.loc['2012-01-02':'2016-12-31']\n",
    "train_labels = df.loc['2012-01-02':'2016-12-31', 'target_class']\n",
    "\n",
    "test_features = df_transform.loc['2017-01-02':'2018-06-19']\n",
    "test_labels = df.loc['2017-01-02':'2018-06-19', 'target_class']\n",
    "\n",
    "# I want to use a T-days window of input data for predicting target_class\n",
    "# It means I need to prepend (T-1) last train records to the 1st test window\n",
    "T = 45  # my choice of the timesteps window\n",
    "\n",
    "prepend_features = train_features.iloc[-(T-1):]\n",
    "test_features = pd.concat([prepend_features, test_features], axis=0)\n",
    "\n",
    "train_features.shape, train_labels.shape, test_features.shape, test_labels.shape"
   ]
  }
 ],
 "metadata": {
  "accelerator": "GPU",
  "colab": {
   "collapsed_sections": [],
   "name": "Bản sao của Bản sao của Thai Nguyen LSTM.ipynb",
   "provenance": []
  },
  "kernelspec": {
   "display_name": "Python 3",
   "language": "python",
   "name": "python3"
  },
  "language_info": {
   "codemirror_mode": {
    "name": "ipython",
    "version": 3
   },
   "file_extension": ".py",
   "mimetype": "text/x-python",
   "name": "python",
   "nbconvert_exporter": "python",
   "pygments_lexer": "ipython3",
   "version": "3.8.5"
  }
 },
 "nbformat": 4,
 "nbformat_minor": 1
}
