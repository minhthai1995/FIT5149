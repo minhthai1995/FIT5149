{
 "cells": [
  {
   "cell_type": "code",
   "execution_count": 1,
   "metadata": {
    "id": "LcAqTEOMjYMn"
   },
   "outputs": [],
   "source": [
    "#!pip install tensorflow\n",
    "#!pip install pandas_datareader\n",
    "#!pip install torch"
   ]
  },
  {
   "cell_type": "code",
   "execution_count": 2,
   "metadata": {
    "id": "0HH8gQW8jYMv"
   },
   "outputs": [],
   "source": [
    "# Make sure that you have all these libaries available to run the code successfully\n",
    "from pandas_datareader import data\n",
    "import matplotlib.pyplot as plt\n",
    "import pandas as pd\n",
    "import datetime as dt\n",
    "import urllib.request, json\n",
    "import os\n",
    "import numpy as np\n",
    "import tensorflow as tf # This code has been tested with TensorFlow 1.6\n",
    "from sklearn.preprocessing import MinMaxScaler\n",
    "import pandas as pd\n",
    "import torch\n",
    "from sklearn import preprocessing\n",
    "from sklearn.model_selection import train_test_split\n",
    "import numpy as np\n",
    "from torch import nn\n",
    "from torch import optim\n",
    "from torch.nn import functional as F\n",
    "from torch.optim.lr_scheduler import _LRScheduler\n",
    "from torch.utils.data import TensorDataset, DataLoader\n",
    "import matplotlib.pyplot as plt\n",
    "from multiprocessing import cpu_count\n",
    "from pathlib import Path\n",
    "\n",
    "pd.set_option('display.max_rows', 10000)"
   ]
  },
  {
   "cell_type": "code",
   "execution_count": 3,
   "metadata": {
    "id": "RCjOj0oNjYMy"
   },
   "outputs": [],
   "source": [
    "dataset_train = pd.read_csv('./train_data_withlabels.csv')\n",
    "dataset_test = pd.read_csv('./test_data_nolabels.csv')"
   ]
  },
  {
   "cell_type": "code",
   "execution_count": 4,
   "metadata": {
    "id": "DXlKjIpRjYMz",
    "outputId": "692f3dc2-d464-4250-8e81-ed2b352bd0a9"
   },
   "outputs": [
    {
     "data": {
      "text/html": [
       "<div>\n",
       "<style scoped>\n",
       "    .dataframe tbody tr th:only-of-type {\n",
       "        vertical-align: middle;\n",
       "    }\n",
       "\n",
       "    .dataframe tbody tr th {\n",
       "        vertical-align: top;\n",
       "    }\n",
       "\n",
       "    .dataframe thead th {\n",
       "        text-align: right;\n",
       "    }\n",
       "</style>\n",
       "<table border=\"1\" class=\"dataframe\">\n",
       "  <thead>\n",
       "    <tr style=\"text-align: right;\">\n",
       "      <th></th>\n",
       "      <th>Unnamed: 0</th>\n",
       "      <th>load</th>\n",
       "      <th>ac</th>\n",
       "      <th>ev</th>\n",
       "      <th>oven</th>\n",
       "      <th>wash</th>\n",
       "      <th>dryer</th>\n",
       "      <th>hourofday</th>\n",
       "      <th>dayofweek</th>\n",
       "      <th>dif</th>\n",
       "      <th>absdif</th>\n",
       "      <th>max</th>\n",
       "      <th>var</th>\n",
       "      <th>entropy</th>\n",
       "      <th>nonlinear</th>\n",
       "      <th>hurst</th>\n",
       "    </tr>\n",
       "  </thead>\n",
       "  <tbody>\n",
       "    <tr>\n",
       "      <th>417715</th>\n",
       "      <td>523256</td>\n",
       "      <td>2.543</td>\n",
       "      <td>0</td>\n",
       "      <td>0</td>\n",
       "      <td>0</td>\n",
       "      <td>0</td>\n",
       "      <td>0</td>\n",
       "      <td>21</td>\n",
       "      <td>Tue</td>\n",
       "      <td>-0.003</td>\n",
       "      <td>0.003</td>\n",
       "      <td>0.0</td>\n",
       "      <td>0.0</td>\n",
       "      <td>0.0</td>\n",
       "      <td>0.0</td>\n",
       "      <td>0.0</td>\n",
       "    </tr>\n",
       "    <tr>\n",
       "      <th>417716</th>\n",
       "      <td>523257</td>\n",
       "      <td>2.417</td>\n",
       "      <td>0</td>\n",
       "      <td>0</td>\n",
       "      <td>0</td>\n",
       "      <td>0</td>\n",
       "      <td>0</td>\n",
       "      <td>21</td>\n",
       "      <td>Tue</td>\n",
       "      <td>-0.126</td>\n",
       "      <td>0.126</td>\n",
       "      <td>0.0</td>\n",
       "      <td>0.0</td>\n",
       "      <td>0.0</td>\n",
       "      <td>0.0</td>\n",
       "      <td>0.0</td>\n",
       "    </tr>\n",
       "    <tr>\n",
       "      <th>417717</th>\n",
       "      <td>523258</td>\n",
       "      <td>0.999</td>\n",
       "      <td>0</td>\n",
       "      <td>0</td>\n",
       "      <td>0</td>\n",
       "      <td>0</td>\n",
       "      <td>0</td>\n",
       "      <td>21</td>\n",
       "      <td>Tue</td>\n",
       "      <td>-1.418</td>\n",
       "      <td>1.418</td>\n",
       "      <td>0.0</td>\n",
       "      <td>0.0</td>\n",
       "      <td>0.0</td>\n",
       "      <td>0.0</td>\n",
       "      <td>0.0</td>\n",
       "    </tr>\n",
       "    <tr>\n",
       "      <th>417718</th>\n",
       "      <td>523259</td>\n",
       "      <td>0.966</td>\n",
       "      <td>0</td>\n",
       "      <td>0</td>\n",
       "      <td>0</td>\n",
       "      <td>0</td>\n",
       "      <td>0</td>\n",
       "      <td>21</td>\n",
       "      <td>Tue</td>\n",
       "      <td>-0.033</td>\n",
       "      <td>0.033</td>\n",
       "      <td>0.0</td>\n",
       "      <td>0.0</td>\n",
       "      <td>0.0</td>\n",
       "      <td>0.0</td>\n",
       "      <td>0.0</td>\n",
       "    </tr>\n",
       "    <tr>\n",
       "      <th>417719</th>\n",
       "      <td>523260</td>\n",
       "      <td>0.964</td>\n",
       "      <td>0</td>\n",
       "      <td>0</td>\n",
       "      <td>0</td>\n",
       "      <td>0</td>\n",
       "      <td>0</td>\n",
       "      <td>21</td>\n",
       "      <td>Tue</td>\n",
       "      <td>-0.002</td>\n",
       "      <td>0.002</td>\n",
       "      <td>0.0</td>\n",
       "      <td>0.0</td>\n",
       "      <td>0.0</td>\n",
       "      <td>0.0</td>\n",
       "      <td>0.0</td>\n",
       "    </tr>\n",
       "  </tbody>\n",
       "</table>\n",
       "</div>"
      ],
      "text/plain": [
       "        Unnamed: 0   load  ac  ev  oven  wash  dryer  hourofday dayofweek  \\\n",
       "417715      523256  2.543   0   0     0     0      0         21       Tue   \n",
       "417716      523257  2.417   0   0     0     0      0         21       Tue   \n",
       "417717      523258  0.999   0   0     0     0      0         21       Tue   \n",
       "417718      523259  0.966   0   0     0     0      0         21       Tue   \n",
       "417719      523260  0.964   0   0     0     0      0         21       Tue   \n",
       "\n",
       "          dif  absdif  max  var  entropy  nonlinear  hurst  \n",
       "417715 -0.003   0.003  0.0  0.0      0.0        0.0    0.0  \n",
       "417716 -0.126   0.126  0.0  0.0      0.0        0.0    0.0  \n",
       "417717 -1.418   1.418  0.0  0.0      0.0        0.0    0.0  \n",
       "417718 -0.033   0.033  0.0  0.0      0.0        0.0    0.0  \n",
       "417719 -0.002   0.002  0.0  0.0      0.0        0.0    0.0  "
      ]
     },
     "execution_count": 4,
     "metadata": {},
     "output_type": "execute_result"
    }
   ],
   "source": [
    "dataset_train.tail()"
   ]
  },
  {
   "cell_type": "code",
   "execution_count": 5,
   "metadata": {
    "id": "Vmso9W__jYNC",
    "outputId": "f5a0e7ef-bf27-4057-9163-4cfc3fc53c81"
   },
   "outputs": [
    {
     "data": {
      "text/html": [
       "<div>\n",
       "<style scoped>\n",
       "    .dataframe tbody tr th:only-of-type {\n",
       "        vertical-align: middle;\n",
       "    }\n",
       "\n",
       "    .dataframe tbody tr th {\n",
       "        vertical-align: top;\n",
       "    }\n",
       "\n",
       "    .dataframe thead th {\n",
       "        text-align: right;\n",
       "    }\n",
       "</style>\n",
       "<table border=\"1\" class=\"dataframe\">\n",
       "  <thead>\n",
       "    <tr style=\"text-align: right;\">\n",
       "      <th></th>\n",
       "      <th>Unnamed: 0</th>\n",
       "      <th>load</th>\n",
       "      <th>hourofday</th>\n",
       "      <th>dayofweek</th>\n",
       "      <th>dif</th>\n",
       "      <th>absdif</th>\n",
       "      <th>max</th>\n",
       "      <th>var</th>\n",
       "      <th>entropy</th>\n",
       "      <th>nonlinear</th>\n",
       "      <th>hurst</th>\n",
       "    </tr>\n",
       "  </thead>\n",
       "  <tbody>\n",
       "    <tr>\n",
       "      <th>0</th>\n",
       "      <td>1</td>\n",
       "      <td>1.869</td>\n",
       "      <td>0</td>\n",
       "      <td>Mon</td>\n",
       "      <td>0.000</td>\n",
       "      <td>0.000</td>\n",
       "      <td>0.0</td>\n",
       "      <td>0.0</td>\n",
       "      <td>0.0</td>\n",
       "      <td>0.0</td>\n",
       "      <td>0.0</td>\n",
       "    </tr>\n",
       "    <tr>\n",
       "      <th>1</th>\n",
       "      <td>2</td>\n",
       "      <td>1.673</td>\n",
       "      <td>0</td>\n",
       "      <td>Mon</td>\n",
       "      <td>-0.196</td>\n",
       "      <td>0.196</td>\n",
       "      <td>0.0</td>\n",
       "      <td>0.0</td>\n",
       "      <td>0.0</td>\n",
       "      <td>0.0</td>\n",
       "      <td>0.0</td>\n",
       "    </tr>\n",
       "    <tr>\n",
       "      <th>2</th>\n",
       "      <td>3</td>\n",
       "      <td>1.660</td>\n",
       "      <td>0</td>\n",
       "      <td>Mon</td>\n",
       "      <td>-0.013</td>\n",
       "      <td>0.013</td>\n",
       "      <td>0.0</td>\n",
       "      <td>0.0</td>\n",
       "      <td>0.0</td>\n",
       "      <td>0.0</td>\n",
       "      <td>0.0</td>\n",
       "    </tr>\n",
       "    <tr>\n",
       "      <th>3</th>\n",
       "      <td>4</td>\n",
       "      <td>1.772</td>\n",
       "      <td>0</td>\n",
       "      <td>Mon</td>\n",
       "      <td>0.112</td>\n",
       "      <td>0.112</td>\n",
       "      <td>0.0</td>\n",
       "      <td>0.0</td>\n",
       "      <td>0.0</td>\n",
       "      <td>0.0</td>\n",
       "      <td>0.0</td>\n",
       "    </tr>\n",
       "    <tr>\n",
       "      <th>4</th>\n",
       "      <td>5</td>\n",
       "      <td>1.679</td>\n",
       "      <td>0</td>\n",
       "      <td>Mon</td>\n",
       "      <td>-0.093</td>\n",
       "      <td>0.093</td>\n",
       "      <td>0.0</td>\n",
       "      <td>0.0</td>\n",
       "      <td>0.0</td>\n",
       "      <td>0.0</td>\n",
       "      <td>0.0</td>\n",
       "    </tr>\n",
       "  </tbody>\n",
       "</table>\n",
       "</div>"
      ],
      "text/plain": [
       "   Unnamed: 0   load  hourofday dayofweek    dif  absdif  max  var  entropy  \\\n",
       "0           1  1.869          0       Mon  0.000   0.000  0.0  0.0      0.0   \n",
       "1           2  1.673          0       Mon -0.196   0.196  0.0  0.0      0.0   \n",
       "2           3  1.660          0       Mon -0.013   0.013  0.0  0.0      0.0   \n",
       "3           4  1.772          0       Mon  0.112   0.112  0.0  0.0      0.0   \n",
       "4           5  1.679          0       Mon -0.093   0.093  0.0  0.0      0.0   \n",
       "\n",
       "   nonlinear  hurst  \n",
       "0        0.0    0.0  \n",
       "1        0.0    0.0  \n",
       "2        0.0    0.0  \n",
       "3        0.0    0.0  \n",
       "4        0.0    0.0  "
      ]
     },
     "execution_count": 5,
     "metadata": {},
     "output_type": "execute_result"
    }
   ],
   "source": [
    "dataset_test.head()"
   ]
  },
  {
   "cell_type": "code",
   "execution_count": 6,
   "metadata": {
    "id": "le_iXBFKjYNF"
   },
   "outputs": [],
   "source": [
    "dataset_total = pd.concat((dataset_train, dataset_test), axis = 0)"
   ]
  },
  {
   "cell_type": "code",
   "execution_count": 7,
   "metadata": {
    "id": "VIkExfOGjYNR",
    "outputId": "ac3fec19-8416-4742-c56c-f7791fc4084c"
   },
   "outputs": [
    {
     "data": {
      "text/plain": [
       "((417720, 16), (105540, 11), (523260, 16))"
      ]
     },
     "execution_count": 7,
     "metadata": {},
     "output_type": "execute_result"
    }
   ],
   "source": [
    "dataset_train.shape, dataset_test.shape, dataset_total.shape"
   ]
  },
  {
   "cell_type": "code",
   "execution_count": 8,
   "metadata": {
    "id": "Qyw513xhjYNT",
    "outputId": "5ecb897c-31c9-4215-bc09-9cb399be8998"
   },
   "outputs": [
    {
     "data": {
      "text/html": [
       "<div>\n",
       "<style scoped>\n",
       "    .dataframe tbody tr th:only-of-type {\n",
       "        vertical-align: middle;\n",
       "    }\n",
       "\n",
       "    .dataframe tbody tr th {\n",
       "        vertical-align: top;\n",
       "    }\n",
       "\n",
       "    .dataframe thead th {\n",
       "        text-align: right;\n",
       "    }\n",
       "</style>\n",
       "<table border=\"1\" class=\"dataframe\">\n",
       "  <thead>\n",
       "    <tr style=\"text-align: right;\">\n",
       "      <th></th>\n",
       "      <th>Unnamed: 0</th>\n",
       "      <th>load</th>\n",
       "      <th>ac</th>\n",
       "      <th>ev</th>\n",
       "      <th>oven</th>\n",
       "      <th>wash</th>\n",
       "      <th>dryer</th>\n",
       "      <th>hourofday</th>\n",
       "      <th>dayofweek</th>\n",
       "      <th>dif</th>\n",
       "      <th>absdif</th>\n",
       "      <th>max</th>\n",
       "      <th>var</th>\n",
       "      <th>entropy</th>\n",
       "      <th>nonlinear</th>\n",
       "      <th>hurst</th>\n",
       "    </tr>\n",
       "  </thead>\n",
       "  <tbody>\n",
       "    <tr>\n",
       "      <th>0</th>\n",
       "      <td>105541</td>\n",
       "      <td>2.245</td>\n",
       "      <td>0.0</td>\n",
       "      <td>0.0</td>\n",
       "      <td>0.0</td>\n",
       "      <td>0.0</td>\n",
       "      <td>0.0</td>\n",
       "      <td>0</td>\n",
       "      <td>Sun</td>\n",
       "      <td>0.987</td>\n",
       "      <td>0.987</td>\n",
       "      <td>6.215</td>\n",
       "      <td>3.074549</td>\n",
       "      <td>0.678886</td>\n",
       "      <td>0.052903</td>\n",
       "      <td>0.994071</td>\n",
       "    </tr>\n",
       "    <tr>\n",
       "      <th>1</th>\n",
       "      <td>105542</td>\n",
       "      <td>2.259</td>\n",
       "      <td>0.0</td>\n",
       "      <td>0.0</td>\n",
       "      <td>0.0</td>\n",
       "      <td>0.0</td>\n",
       "      <td>0.0</td>\n",
       "      <td>0</td>\n",
       "      <td>Sun</td>\n",
       "      <td>0.014</td>\n",
       "      <td>0.014</td>\n",
       "      <td>6.215</td>\n",
       "      <td>3.172867</td>\n",
       "      <td>0.667450</td>\n",
       "      <td>0.054829</td>\n",
       "      <td>0.994154</td>\n",
       "    </tr>\n",
       "    <tr>\n",
       "      <th>2</th>\n",
       "      <td>105543</td>\n",
       "      <td>2.269</td>\n",
       "      <td>0.0</td>\n",
       "      <td>0.0</td>\n",
       "      <td>0.0</td>\n",
       "      <td>0.0</td>\n",
       "      <td>0.0</td>\n",
       "      <td>0</td>\n",
       "      <td>Sun</td>\n",
       "      <td>0.010</td>\n",
       "      <td>0.010</td>\n",
       "      <td>6.215</td>\n",
       "      <td>3.270112</td>\n",
       "      <td>0.647777</td>\n",
       "      <td>0.056991</td>\n",
       "      <td>0.994220</td>\n",
       "    </tr>\n",
       "    <tr>\n",
       "      <th>3</th>\n",
       "      <td>105544</td>\n",
       "      <td>2.268</td>\n",
       "      <td>0.0</td>\n",
       "      <td>0.0</td>\n",
       "      <td>0.0</td>\n",
       "      <td>0.0</td>\n",
       "      <td>0.0</td>\n",
       "      <td>0</td>\n",
       "      <td>Sun</td>\n",
       "      <td>-0.001</td>\n",
       "      <td>0.001</td>\n",
       "      <td>6.215</td>\n",
       "      <td>3.303763</td>\n",
       "      <td>0.629227</td>\n",
       "      <td>0.057606</td>\n",
       "      <td>0.994150</td>\n",
       "    </tr>\n",
       "    <tr>\n",
       "      <th>4</th>\n",
       "      <td>105545</td>\n",
       "      <td>2.270</td>\n",
       "      <td>0.0</td>\n",
       "      <td>0.0</td>\n",
       "      <td>0.0</td>\n",
       "      <td>0.0</td>\n",
       "      <td>0.0</td>\n",
       "      <td>0</td>\n",
       "      <td>Sun</td>\n",
       "      <td>0.002</td>\n",
       "      <td>0.002</td>\n",
       "      <td>6.215</td>\n",
       "      <td>3.302744</td>\n",
       "      <td>0.621295</td>\n",
       "      <td>0.082640</td>\n",
       "      <td>0.994041</td>\n",
       "    </tr>\n",
       "    <tr>\n",
       "      <th>...</th>\n",
       "      <td>...</td>\n",
       "      <td>...</td>\n",
       "      <td>...</td>\n",
       "      <td>...</td>\n",
       "      <td>...</td>\n",
       "      <td>...</td>\n",
       "      <td>...</td>\n",
       "      <td>...</td>\n",
       "      <td>...</td>\n",
       "      <td>...</td>\n",
       "      <td>...</td>\n",
       "      <td>...</td>\n",
       "      <td>...</td>\n",
       "      <td>...</td>\n",
       "      <td>...</td>\n",
       "      <td>...</td>\n",
       "    </tr>\n",
       "    <tr>\n",
       "      <th>523255</th>\n",
       "      <td>105536</td>\n",
       "      <td>1.076</td>\n",
       "      <td>NaN</td>\n",
       "      <td>NaN</td>\n",
       "      <td>NaN</td>\n",
       "      <td>NaN</td>\n",
       "      <td>NaN</td>\n",
       "      <td>23</td>\n",
       "      <td>Sat</td>\n",
       "      <td>-0.001</td>\n",
       "      <td>0.001</td>\n",
       "      <td>6.204</td>\n",
       "      <td>2.484129</td>\n",
       "      <td>0.592658</td>\n",
       "      <td>0.042413</td>\n",
       "      <td>0.990185</td>\n",
       "    </tr>\n",
       "    <tr>\n",
       "      <th>523256</th>\n",
       "      <td>105537</td>\n",
       "      <td>1.019</td>\n",
       "      <td>NaN</td>\n",
       "      <td>NaN</td>\n",
       "      <td>NaN</td>\n",
       "      <td>NaN</td>\n",
       "      <td>NaN</td>\n",
       "      <td>23</td>\n",
       "      <td>Sat</td>\n",
       "      <td>-0.057</td>\n",
       "      <td>0.057</td>\n",
       "      <td>6.215</td>\n",
       "      <td>2.614626</td>\n",
       "      <td>0.601761</td>\n",
       "      <td>0.038118</td>\n",
       "      <td>0.990529</td>\n",
       "    </tr>\n",
       "    <tr>\n",
       "      <th>523257</th>\n",
       "      <td>105538</td>\n",
       "      <td>1.014</td>\n",
       "      <td>NaN</td>\n",
       "      <td>NaN</td>\n",
       "      <td>NaN</td>\n",
       "      <td>NaN</td>\n",
       "      <td>NaN</td>\n",
       "      <td>23</td>\n",
       "      <td>Sat</td>\n",
       "      <td>-0.005</td>\n",
       "      <td>0.005</td>\n",
       "      <td>6.215</td>\n",
       "      <td>2.729923</td>\n",
       "      <td>0.629122</td>\n",
       "      <td>0.048229</td>\n",
       "      <td>0.993554</td>\n",
       "    </tr>\n",
       "    <tr>\n",
       "      <th>523258</th>\n",
       "      <td>105539</td>\n",
       "      <td>1.011</td>\n",
       "      <td>NaN</td>\n",
       "      <td>NaN</td>\n",
       "      <td>NaN</td>\n",
       "      <td>NaN</td>\n",
       "      <td>NaN</td>\n",
       "      <td>23</td>\n",
       "      <td>Sat</td>\n",
       "      <td>-0.003</td>\n",
       "      <td>0.003</td>\n",
       "      <td>6.215</td>\n",
       "      <td>2.868153</td>\n",
       "      <td>0.658328</td>\n",
       "      <td>0.046729</td>\n",
       "      <td>0.993813</td>\n",
       "    </tr>\n",
       "    <tr>\n",
       "      <th>523259</th>\n",
       "      <td>105540</td>\n",
       "      <td>1.258</td>\n",
       "      <td>NaN</td>\n",
       "      <td>NaN</td>\n",
       "      <td>NaN</td>\n",
       "      <td>NaN</td>\n",
       "      <td>NaN</td>\n",
       "      <td>23</td>\n",
       "      <td>Sat</td>\n",
       "      <td>0.247</td>\n",
       "      <td>0.247</td>\n",
       "      <td>6.215</td>\n",
       "      <td>2.972294</td>\n",
       "      <td>0.676443</td>\n",
       "      <td>0.049666</td>\n",
       "      <td>0.993965</td>\n",
       "    </tr>\n",
       "  </tbody>\n",
       "</table>\n",
       "<p>523260 rows × 16 columns</p>\n",
       "</div>"
      ],
      "text/plain": [
       "        Unnamed: 0   load   ac   ev  oven  wash  dryer  hourofday dayofweek  \\\n",
       "0           105541  2.245  0.0  0.0   0.0   0.0    0.0          0       Sun   \n",
       "1           105542  2.259  0.0  0.0   0.0   0.0    0.0          0       Sun   \n",
       "2           105543  2.269  0.0  0.0   0.0   0.0    0.0          0       Sun   \n",
       "3           105544  2.268  0.0  0.0   0.0   0.0    0.0          0       Sun   \n",
       "4           105545  2.270  0.0  0.0   0.0   0.0    0.0          0       Sun   \n",
       "...            ...    ...  ...  ...   ...   ...    ...        ...       ...   \n",
       "523255      105536  1.076  NaN  NaN   NaN   NaN    NaN         23       Sat   \n",
       "523256      105537  1.019  NaN  NaN   NaN   NaN    NaN         23       Sat   \n",
       "523257      105538  1.014  NaN  NaN   NaN   NaN    NaN         23       Sat   \n",
       "523258      105539  1.011  NaN  NaN   NaN   NaN    NaN         23       Sat   \n",
       "523259      105540  1.258  NaN  NaN   NaN   NaN    NaN         23       Sat   \n",
       "\n",
       "          dif  absdif    max       var   entropy  nonlinear     hurst  \n",
       "0       0.987   0.987  6.215  3.074549  0.678886   0.052903  0.994071  \n",
       "1       0.014   0.014  6.215  3.172867  0.667450   0.054829  0.994154  \n",
       "2       0.010   0.010  6.215  3.270112  0.647777   0.056991  0.994220  \n",
       "3      -0.001   0.001  6.215  3.303763  0.629227   0.057606  0.994150  \n",
       "4       0.002   0.002  6.215  3.302744  0.621295   0.082640  0.994041  \n",
       "...       ...     ...    ...       ...       ...        ...       ...  \n",
       "523255 -0.001   0.001  6.204  2.484129  0.592658   0.042413  0.990185  \n",
       "523256 -0.057   0.057  6.215  2.614626  0.601761   0.038118  0.990529  \n",
       "523257 -0.005   0.005  6.215  2.729923  0.629122   0.048229  0.993554  \n",
       "523258 -0.003   0.003  6.215  2.868153  0.658328   0.046729  0.993813  \n",
       "523259  0.247   0.247  6.215  2.972294  0.676443   0.049666  0.993965  \n",
       "\n",
       "[523260 rows x 16 columns]"
      ]
     },
     "execution_count": 8,
     "metadata": {},
     "output_type": "execute_result"
    }
   ],
   "source": [
    "dataset_total.reset_index(inplace=True, drop=True) \n",
    "dataset_total"
   ]
  },
  {
   "cell_type": "code",
   "execution_count": 9,
   "metadata": {
    "id": "0f7bEuspjYNV"
   },
   "outputs": [],
   "source": [
    "scale_list = ['absdif', 'dif', 'entropy', 'hurst', 'load', 'max', 'nonlinear', 'var']\n",
    "scaler = preprocessing.StandardScaler().fit(dataset_total[scale_list])\n",
    "dataset_total[scale_list] = scaler.transform(dataset_total[scale_list])"
   ]
  },
  {
   "cell_type": "code",
   "execution_count": 10,
   "metadata": {
    "id": "XYjX3f4ljYNa"
   },
   "outputs": [],
   "source": [
    "labelEncoderDay = preprocessing.LabelEncoder().fit(dataset_total['dayofweek'])\n",
    "labelEncoderHour = preprocessing.LabelEncoder().fit(dataset_total['hourofday'])\n"
   ]
  },
  {
   "cell_type": "code",
   "execution_count": 11,
   "metadata": {
    "id": "aLLH6Xh0jYNc"
   },
   "outputs": [],
   "source": [
    "dataset_total['dayofweek'] = labelEncoderDay.transform(dataset_total['dayofweek'])\n",
    "dataset_total['hourofday'] = labelEncoderHour.transform(dataset_total['hourofday'])\n"
   ]
  },
  {
   "cell_type": "code",
   "execution_count": 12,
   "metadata": {
    "id": "1Cj3QPEbjYNd",
    "outputId": "1b0923ec-061d-43ed-95f9-4931a057e397"
   },
   "outputs": [
    {
     "data": {
      "text/html": [
       "<div>\n",
       "<style scoped>\n",
       "    .dataframe tbody tr th:only-of-type {\n",
       "        vertical-align: middle;\n",
       "    }\n",
       "\n",
       "    .dataframe tbody tr th {\n",
       "        vertical-align: top;\n",
       "    }\n",
       "\n",
       "    .dataframe thead th {\n",
       "        text-align: right;\n",
       "    }\n",
       "</style>\n",
       "<table border=\"1\" class=\"dataframe\">\n",
       "  <thead>\n",
       "    <tr style=\"text-align: right;\">\n",
       "      <th></th>\n",
       "      <th>Unnamed: 0</th>\n",
       "      <th>load</th>\n",
       "      <th>ac</th>\n",
       "      <th>ev</th>\n",
       "      <th>oven</th>\n",
       "      <th>wash</th>\n",
       "      <th>dryer</th>\n",
       "      <th>hourofday</th>\n",
       "      <th>dayofweek</th>\n",
       "      <th>dif</th>\n",
       "      <th>absdif</th>\n",
       "      <th>max</th>\n",
       "      <th>var</th>\n",
       "      <th>entropy</th>\n",
       "      <th>nonlinear</th>\n",
       "      <th>hurst</th>\n",
       "    </tr>\n",
       "  </thead>\n",
       "  <tbody>\n",
       "    <tr>\n",
       "      <th>523255</th>\n",
       "      <td>105536</td>\n",
       "      <td>-0.568705</td>\n",
       "      <td>NaN</td>\n",
       "      <td>NaN</td>\n",
       "      <td>NaN</td>\n",
       "      <td>NaN</td>\n",
       "      <td>NaN</td>\n",
       "      <td>23</td>\n",
       "      <td>2</td>\n",
       "      <td>-0.001967</td>\n",
       "      <td>-0.305789</td>\n",
       "      <td>1.128450</td>\n",
       "      <td>0.463783</td>\n",
       "      <td>-1.231697</td>\n",
       "      <td>-0.542558</td>\n",
       "      <td>0.273642</td>\n",
       "    </tr>\n",
       "    <tr>\n",
       "      <th>523256</th>\n",
       "      <td>105537</td>\n",
       "      <td>-0.600627</td>\n",
       "      <td>NaN</td>\n",
       "      <td>NaN</td>\n",
       "      <td>NaN</td>\n",
       "      <td>NaN</td>\n",
       "      <td>NaN</td>\n",
       "      <td>23</td>\n",
       "      <td>2</td>\n",
       "      <td>-0.112283</td>\n",
       "      <td>-0.190364</td>\n",
       "      <td>1.133623</td>\n",
       "      <td>0.538331</td>\n",
       "      <td>-1.136728</td>\n",
       "      <td>-0.544178</td>\n",
       "      <td>0.278828</td>\n",
       "    </tr>\n",
       "    <tr>\n",
       "      <th>523257</th>\n",
       "      <td>105538</td>\n",
       "      <td>-0.603427</td>\n",
       "      <td>NaN</td>\n",
       "      <td>NaN</td>\n",
       "      <td>NaN</td>\n",
       "      <td>NaN</td>\n",
       "      <td>NaN</td>\n",
       "      <td>23</td>\n",
       "      <td>2</td>\n",
       "      <td>-0.009846</td>\n",
       "      <td>-0.297544</td>\n",
       "      <td>1.133623</td>\n",
       "      <td>0.604194</td>\n",
       "      <td>-0.851267</td>\n",
       "      <td>-0.540364</td>\n",
       "      <td>0.324411</td>\n",
       "    </tr>\n",
       "    <tr>\n",
       "      <th>523258</th>\n",
       "      <td>105539</td>\n",
       "      <td>-0.605107</td>\n",
       "      <td>NaN</td>\n",
       "      <td>NaN</td>\n",
       "      <td>NaN</td>\n",
       "      <td>NaN</td>\n",
       "      <td>NaN</td>\n",
       "      <td>23</td>\n",
       "      <td>2</td>\n",
       "      <td>-0.005906</td>\n",
       "      <td>-0.301667</td>\n",
       "      <td>1.133623</td>\n",
       "      <td>0.683159</td>\n",
       "      <td>-0.546566</td>\n",
       "      <td>-0.540930</td>\n",
       "      <td>0.328325</td>\n",
       "    </tr>\n",
       "    <tr>\n",
       "      <th>523259</th>\n",
       "      <td>105540</td>\n",
       "      <td>-0.466781</td>\n",
       "      <td>NaN</td>\n",
       "      <td>NaN</td>\n",
       "      <td>NaN</td>\n",
       "      <td>NaN</td>\n",
       "      <td>NaN</td>\n",
       "      <td>23</td>\n",
       "      <td>2</td>\n",
       "      <td>0.486576</td>\n",
       "      <td>0.201258</td>\n",
       "      <td>1.133623</td>\n",
       "      <td>0.742650</td>\n",
       "      <td>-0.357577</td>\n",
       "      <td>-0.539822</td>\n",
       "      <td>0.330617</td>\n",
       "    </tr>\n",
       "  </tbody>\n",
       "</table>\n",
       "</div>"
      ],
      "text/plain": [
       "        Unnamed: 0      load  ac  ev  oven  wash  dryer  hourofday  dayofweek  \\\n",
       "523255      105536 -0.568705 NaN NaN   NaN   NaN    NaN         23          2   \n",
       "523256      105537 -0.600627 NaN NaN   NaN   NaN    NaN         23          2   \n",
       "523257      105538 -0.603427 NaN NaN   NaN   NaN    NaN         23          2   \n",
       "523258      105539 -0.605107 NaN NaN   NaN   NaN    NaN         23          2   \n",
       "523259      105540 -0.466781 NaN NaN   NaN   NaN    NaN         23          2   \n",
       "\n",
       "             dif    absdif       max       var   entropy  nonlinear     hurst  \n",
       "523255 -0.001967 -0.305789  1.128450  0.463783 -1.231697  -0.542558  0.273642  \n",
       "523256 -0.112283 -0.190364  1.133623  0.538331 -1.136728  -0.544178  0.278828  \n",
       "523257 -0.009846 -0.297544  1.133623  0.604194 -0.851267  -0.540364  0.324411  \n",
       "523258 -0.005906 -0.301667  1.133623  0.683159 -0.546566  -0.540930  0.328325  \n",
       "523259  0.486576  0.201258  1.133623  0.742650 -0.357577  -0.539822  0.330617  "
      ]
     },
     "execution_count": 12,
     "metadata": {},
     "output_type": "execute_result"
    }
   ],
   "source": [
    "dataset_total.tail()"
   ]
  },
  {
   "cell_type": "code",
   "execution_count": 13,
   "metadata": {
    "id": "A00sup4kjYNf"
   },
   "outputs": [],
   "source": [
    "features_set = dataset_total.loc[:,dataset_total.columns.difference(['ac', 'ev', 'oven', 'wash', 'dryer'])]\n",
    "features_set.drop('Unnamed: 0', axis = 1, inplace = True)\n",
    "# labels_set = dataset_total[['ac', 'ev', 'oven', 'wash', 'dryer']]\n",
    "labels_set = dataset_total[['ac']]"
   ]
  },
  {
   "cell_type": "code",
   "execution_count": 14,
   "metadata": {
    "id": "lksBdOQgjYNk",
    "outputId": "41fcf5b3-4f6a-4c05-f2d4-db5d4fb72950"
   },
   "outputs": [
    {
     "data": {
      "text/html": [
       "<div>\n",
       "<style scoped>\n",
       "    .dataframe tbody tr th:only-of-type {\n",
       "        vertical-align: middle;\n",
       "    }\n",
       "\n",
       "    .dataframe tbody tr th {\n",
       "        vertical-align: top;\n",
       "    }\n",
       "\n",
       "    .dataframe thead th {\n",
       "        text-align: right;\n",
       "    }\n",
       "</style>\n",
       "<table border=\"1\" class=\"dataframe\">\n",
       "  <thead>\n",
       "    <tr style=\"text-align: right;\">\n",
       "      <th></th>\n",
       "      <th>absdif</th>\n",
       "      <th>dayofweek</th>\n",
       "      <th>dif</th>\n",
       "      <th>entropy</th>\n",
       "      <th>hourofday</th>\n",
       "      <th>hurst</th>\n",
       "      <th>load</th>\n",
       "      <th>max</th>\n",
       "      <th>nonlinear</th>\n",
       "      <th>var</th>\n",
       "    </tr>\n",
       "  </thead>\n",
       "  <tbody>\n",
       "    <tr>\n",
       "      <th>0</th>\n",
       "      <td>1.726519</td>\n",
       "      <td>3</td>\n",
       "      <td>1.944324</td>\n",
       "      <td>-0.332090</td>\n",
       "      <td>0</td>\n",
       "      <td>0.332217</td>\n",
       "      <td>0.085962</td>\n",
       "      <td>1.133623</td>\n",
       "      <td>-0.538601</td>\n",
       "      <td>0.801063</td>\n",
       "    </tr>\n",
       "    <tr>\n",
       "      <th>1</th>\n",
       "      <td>-0.278994</td>\n",
       "      <td>3</td>\n",
       "      <td>0.027582</td>\n",
       "      <td>-0.451396</td>\n",
       "      <td>0</td>\n",
       "      <td>0.333461</td>\n",
       "      <td>0.093802</td>\n",
       "      <td>1.133623</td>\n",
       "      <td>-0.537874</td>\n",
       "      <td>0.857228</td>\n",
       "    </tr>\n",
       "    <tr>\n",
       "      <th>2</th>\n",
       "      <td>-0.287238</td>\n",
       "      <td>3</td>\n",
       "      <td>0.019703</td>\n",
       "      <td>-0.656646</td>\n",
       "      <td>0</td>\n",
       "      <td>0.334456</td>\n",
       "      <td>0.099402</td>\n",
       "      <td>1.133623</td>\n",
       "      <td>-0.537059</td>\n",
       "      <td>0.912780</td>\n",
       "    </tr>\n",
       "    <tr>\n",
       "      <th>3</th>\n",
       "      <td>-0.305789</td>\n",
       "      <td>3</td>\n",
       "      <td>-0.001967</td>\n",
       "      <td>-0.850176</td>\n",
       "      <td>0</td>\n",
       "      <td>0.333396</td>\n",
       "      <td>0.098842</td>\n",
       "      <td>1.133623</td>\n",
       "      <td>-0.536827</td>\n",
       "      <td>0.932003</td>\n",
       "    </tr>\n",
       "    <tr>\n",
       "      <th>4</th>\n",
       "      <td>-0.303728</td>\n",
       "      <td>3</td>\n",
       "      <td>0.003943</td>\n",
       "      <td>-0.932929</td>\n",
       "      <td>0</td>\n",
       "      <td>0.331751</td>\n",
       "      <td>0.099962</td>\n",
       "      <td>1.133623</td>\n",
       "      <td>-0.527384</td>\n",
       "      <td>0.931420</td>\n",
       "    </tr>\n",
       "    <tr>\n",
       "      <th>...</th>\n",
       "      <td>...</td>\n",
       "      <td>...</td>\n",
       "      <td>...</td>\n",
       "      <td>...</td>\n",
       "      <td>...</td>\n",
       "      <td>...</td>\n",
       "      <td>...</td>\n",
       "      <td>...</td>\n",
       "      <td>...</td>\n",
       "      <td>...</td>\n",
       "    </tr>\n",
       "    <tr>\n",
       "      <th>523255</th>\n",
       "      <td>-0.305789</td>\n",
       "      <td>2</td>\n",
       "      <td>-0.001967</td>\n",
       "      <td>-1.231697</td>\n",
       "      <td>23</td>\n",
       "      <td>0.273642</td>\n",
       "      <td>-0.568705</td>\n",
       "      <td>1.128450</td>\n",
       "      <td>-0.542558</td>\n",
       "      <td>0.463783</td>\n",
       "    </tr>\n",
       "    <tr>\n",
       "      <th>523256</th>\n",
       "      <td>-0.190364</td>\n",
       "      <td>2</td>\n",
       "      <td>-0.112283</td>\n",
       "      <td>-1.136728</td>\n",
       "      <td>23</td>\n",
       "      <td>0.278828</td>\n",
       "      <td>-0.600627</td>\n",
       "      <td>1.133623</td>\n",
       "      <td>-0.544178</td>\n",
       "      <td>0.538331</td>\n",
       "    </tr>\n",
       "    <tr>\n",
       "      <th>523257</th>\n",
       "      <td>-0.297544</td>\n",
       "      <td>2</td>\n",
       "      <td>-0.009846</td>\n",
       "      <td>-0.851267</td>\n",
       "      <td>23</td>\n",
       "      <td>0.324411</td>\n",
       "      <td>-0.603427</td>\n",
       "      <td>1.133623</td>\n",
       "      <td>-0.540364</td>\n",
       "      <td>0.604194</td>\n",
       "    </tr>\n",
       "    <tr>\n",
       "      <th>523258</th>\n",
       "      <td>-0.301667</td>\n",
       "      <td>2</td>\n",
       "      <td>-0.005906</td>\n",
       "      <td>-0.546566</td>\n",
       "      <td>23</td>\n",
       "      <td>0.328325</td>\n",
       "      <td>-0.605107</td>\n",
       "      <td>1.133623</td>\n",
       "      <td>-0.540930</td>\n",
       "      <td>0.683159</td>\n",
       "    </tr>\n",
       "    <tr>\n",
       "      <th>523259</th>\n",
       "      <td>0.201258</td>\n",
       "      <td>2</td>\n",
       "      <td>0.486576</td>\n",
       "      <td>-0.357577</td>\n",
       "      <td>23</td>\n",
       "      <td>0.330617</td>\n",
       "      <td>-0.466781</td>\n",
       "      <td>1.133623</td>\n",
       "      <td>-0.539822</td>\n",
       "      <td>0.742650</td>\n",
       "    </tr>\n",
       "  </tbody>\n",
       "</table>\n",
       "<p>523260 rows × 10 columns</p>\n",
       "</div>"
      ],
      "text/plain": [
       "          absdif  dayofweek       dif   entropy  hourofday     hurst  \\\n",
       "0       1.726519          3  1.944324 -0.332090          0  0.332217   \n",
       "1      -0.278994          3  0.027582 -0.451396          0  0.333461   \n",
       "2      -0.287238          3  0.019703 -0.656646          0  0.334456   \n",
       "3      -0.305789          3 -0.001967 -0.850176          0  0.333396   \n",
       "4      -0.303728          3  0.003943 -0.932929          0  0.331751   \n",
       "...          ...        ...       ...       ...        ...       ...   \n",
       "523255 -0.305789          2 -0.001967 -1.231697         23  0.273642   \n",
       "523256 -0.190364          2 -0.112283 -1.136728         23  0.278828   \n",
       "523257 -0.297544          2 -0.009846 -0.851267         23  0.324411   \n",
       "523258 -0.301667          2 -0.005906 -0.546566         23  0.328325   \n",
       "523259  0.201258          2  0.486576 -0.357577         23  0.330617   \n",
       "\n",
       "            load       max  nonlinear       var  \n",
       "0       0.085962  1.133623  -0.538601  0.801063  \n",
       "1       0.093802  1.133623  -0.537874  0.857228  \n",
       "2       0.099402  1.133623  -0.537059  0.912780  \n",
       "3       0.098842  1.133623  -0.536827  0.932003  \n",
       "4       0.099962  1.133623  -0.527384  0.931420  \n",
       "...          ...       ...        ...       ...  \n",
       "523255 -0.568705  1.128450  -0.542558  0.463783  \n",
       "523256 -0.600627  1.133623  -0.544178  0.538331  \n",
       "523257 -0.603427  1.133623  -0.540364  0.604194  \n",
       "523258 -0.605107  1.133623  -0.540930  0.683159  \n",
       "523259 -0.466781  1.133623  -0.539822  0.742650  \n",
       "\n",
       "[523260 rows x 10 columns]"
      ]
     },
     "execution_count": 14,
     "metadata": {},
     "output_type": "execute_result"
    }
   ],
   "source": [
    "features_set"
   ]
  },
  {
   "cell_type": "code",
   "execution_count": 15,
   "metadata": {
    "id": "VaU3YFn7jYNm",
    "outputId": "8e9d3977-e1f5-47bb-8290-05d001c4c36e",
    "scrolled": false
   },
   "outputs": [
    {
     "data": {
      "text/html": [
       "<div>\n",
       "<style scoped>\n",
       "    .dataframe tbody tr th:only-of-type {\n",
       "        vertical-align: middle;\n",
       "    }\n",
       "\n",
       "    .dataframe tbody tr th {\n",
       "        vertical-align: top;\n",
       "    }\n",
       "\n",
       "    .dataframe thead th {\n",
       "        text-align: right;\n",
       "    }\n",
       "</style>\n",
       "<table border=\"1\" class=\"dataframe\">\n",
       "  <thead>\n",
       "    <tr style=\"text-align: right;\">\n",
       "      <th></th>\n",
       "      <th>ac</th>\n",
       "    </tr>\n",
       "  </thead>\n",
       "  <tbody>\n",
       "    <tr>\n",
       "      <th>0</th>\n",
       "      <td>0.0</td>\n",
       "    </tr>\n",
       "    <tr>\n",
       "      <th>1</th>\n",
       "      <td>0.0</td>\n",
       "    </tr>\n",
       "    <tr>\n",
       "      <th>2</th>\n",
       "      <td>0.0</td>\n",
       "    </tr>\n",
       "    <tr>\n",
       "      <th>3</th>\n",
       "      <td>0.0</td>\n",
       "    </tr>\n",
       "    <tr>\n",
       "      <th>4</th>\n",
       "      <td>0.0</td>\n",
       "    </tr>\n",
       "    <tr>\n",
       "      <th>...</th>\n",
       "      <td>...</td>\n",
       "    </tr>\n",
       "    <tr>\n",
       "      <th>523255</th>\n",
       "      <td>NaN</td>\n",
       "    </tr>\n",
       "    <tr>\n",
       "      <th>523256</th>\n",
       "      <td>NaN</td>\n",
       "    </tr>\n",
       "    <tr>\n",
       "      <th>523257</th>\n",
       "      <td>NaN</td>\n",
       "    </tr>\n",
       "    <tr>\n",
       "      <th>523258</th>\n",
       "      <td>NaN</td>\n",
       "    </tr>\n",
       "    <tr>\n",
       "      <th>523259</th>\n",
       "      <td>NaN</td>\n",
       "    </tr>\n",
       "  </tbody>\n",
       "</table>\n",
       "<p>523260 rows × 1 columns</p>\n",
       "</div>"
      ],
      "text/plain": [
       "         ac\n",
       "0       0.0\n",
       "1       0.0\n",
       "2       0.0\n",
       "3       0.0\n",
       "4       0.0\n",
       "...     ...\n",
       "523255  NaN\n",
       "523256  NaN\n",
       "523257  NaN\n",
       "523258  NaN\n",
       "523259  NaN\n",
       "\n",
       "[523260 rows x 1 columns]"
      ]
     },
     "execution_count": 15,
     "metadata": {},
     "output_type": "execute_result"
    }
   ],
   "source": [
    "labels_set"
   ]
  },
  {
   "cell_type": "code",
   "execution_count": 16,
   "metadata": {
    "id": "dkeKqEmLjYNp"
   },
   "outputs": [
    {
     "ename": "NameError",
     "evalue": "name 'prepend_features_valid' is not defined",
     "output_type": "error",
     "traceback": [
      "\u001b[1;31m---------------------------------------------------------------------------\u001b[0m",
      "\u001b[1;31mNameError\u001b[0m                                 Traceback (most recent call last)",
      "\u001b[1;32m<ipython-input-16-c194303446ec>\u001b[0m in \u001b[0;36m<module>\u001b[1;34m\u001b[0m\n\u001b[0;32m     18\u001b[0m \u001b[1;33m\u001b[0m\u001b[0m\n\u001b[0;32m     19\u001b[0m \u001b[1;31m#prepend_features_valid = X_train_final.iloc[-(T-1):]\u001b[0m\u001b[1;33m\u001b[0m\u001b[1;33m\u001b[0m\u001b[1;33m\u001b[0m\u001b[0m\n\u001b[1;32m---> 20\u001b[1;33m \u001b[0mX_valid\u001b[0m \u001b[1;33m=\u001b[0m \u001b[0mpd\u001b[0m\u001b[1;33m.\u001b[0m\u001b[0mconcat\u001b[0m\u001b[1;33m(\u001b[0m\u001b[1;33m[\u001b[0m\u001b[0mprepend_features_valid\u001b[0m\u001b[1;33m,\u001b[0m \u001b[0mX_valid\u001b[0m\u001b[1;33m]\u001b[0m\u001b[1;33m,\u001b[0m \u001b[0maxis\u001b[0m\u001b[1;33m=\u001b[0m\u001b[1;36m0\u001b[0m\u001b[1;33m)\u001b[0m\u001b[1;33m\u001b[0m\u001b[1;33m\u001b[0m\u001b[0m\n\u001b[0m",
      "\u001b[1;31mNameError\u001b[0m: name 'prepend_features_valid' is not defined"
     ]
    }
   ],
   "source": [
    "X_train = features_set.iloc[0:dataset_train.shape[0],]\n",
    "y_train = labels_set.iloc[0:dataset_train.shape[0], ]\n",
    "\n",
    "#X_valid = labels_set \n",
    "#y_valid = \n",
    "X_test = features_set.iloc[dataset_train.shape[0]:,]\n",
    "y_test = [] \n",
    "\n",
    "# I want to use a T-days window of input data for predicting target_class\n",
    "# It means I need to prepend (T-1) last train records to the 1st test window\n",
    "T = 30  # my choice of the timesteps window\n",
    "\n",
    "prepend_features = X_train.iloc[-(T-1):]\n",
    "X_test = pd.concat([prepend_features, X_test], axis=0)\n",
    "\n",
    "# Split the training into train and valid set\n",
    "X_train_final, X_valid, y_train_final, y_valid = train_test_split(X_train, y_train, test_size = 0.2, random_state = 42,shuffle=False)\n",
    "\n",
    "prepend_features_valid = X_train_final.iloc[-(T-1):]\n",
    "X_valid = pd.concat([prepend_features_valid, X_valid], axis=0)"
   ]
  },
  {
   "cell_type": "code",
   "execution_count": null,
   "metadata": {
    "id": "flwfengrjYN0",
    "outputId": "e6be8f7f-849c-4ae7-ea57-03e93f29f555"
   },
   "outputs": [],
   "source": [
    "X_train_final.shape"
   ]
  },
  {
   "cell_type": "code",
   "execution_count": null,
   "metadata": {
    "id": "_ga6qjOwjYN1",
    "outputId": "5a2aba1a-0a08-4a92-c849-c0702f3dbc91"
   },
   "outputs": [],
   "source": [
    "y_train_final.shape"
   ]
  },
  {
   "cell_type": "code",
   "execution_count": null,
   "metadata": {
    "id": "OGdHBk0AjYN3",
    "outputId": "f92f12ab-27ed-4b51-ba4f-f538aeb07887"
   },
   "outputs": [],
   "source": [
    "plt.style.use('fivethirtyeight')\n",
    "X_train_final.plot(subplots=True,\n",
    "        layout=(6, 3),\n",
    "        figsize=(22,22),\n",
    "        fontsize=10, \n",
    "        linewidth=2,\n",
    "        sharex=False,\n",
    "        title='Visualization of the original Time Series')\n",
    "plt.show()"
   ]
  },
  {
   "cell_type": "code",
   "execution_count": null,
   "metadata": {
    "id": "f7SY_Ck4jYN9",
    "outputId": "b88b958f-075b-4952-8dec-ef541715ec77"
   },
   "outputs": [],
   "source": [
    "X_train_final.shape"
   ]
  },
  {
   "cell_type": "code",
   "execution_count": null,
   "metadata": {
    "id": "Kf7T8uX0jYOD"
   },
   "outputs": [],
   "source": [
    "X_train, y_train = [], []\n",
    "for i in range(X_train_final.shape[0] - (T-1)):\n",
    "    X_train.append(X_train_final.iloc[i:i+T].values)\n",
    "    y_train.append(y_train_final.iloc[i + (T-1)].values)\n",
    "# X_train, y_train = np.array(X_train), np.array(y_train).reshape(-1,1)"
   ]
  },
  {
   "cell_type": "code",
   "execution_count": null,
   "metadata": {
    "id": "LsrcjQ17jYOH"
   },
   "outputs": [],
   "source": [
    "X_train_LSTM, y_train_LSTM = [] , []\n",
    "X_train_LSTM = np.array(X_train)\n",
    "y_train_LSTM = np.array(y_train)"
   ]
  },
  {
   "cell_type": "code",
   "execution_count": null,
   "metadata": {
    "id": "1QcC_kgXjYOI",
    "outputId": "ca4ef956-d643-475d-ecbe-c3d7c7e6e594"
   },
   "outputs": [],
   "source": [
    "X_train_LSTM.shape"
   ]
  },
  {
   "cell_type": "code",
   "execution_count": null,
   "metadata": {
    "id": "qaVg7_wEjYOh",
    "outputId": "5e0e4cb8-74f5-4283-add8-b6541963b476"
   },
   "outputs": [],
   "source": [
    "y_train_LSTM.shape"
   ]
  },
  {
   "cell_type": "code",
   "execution_count": null,
   "metadata": {
    "id": "fhnaCRjjjYOi"
   },
   "outputs": [],
   "source": [
    "X_valid_LSTM, y_valid_LSTM = [], []\n",
    "for i in range(y_valid.shape[0]):\n",
    "    X_valid_LSTM.append(X_valid.iloc[i:i+T].values)\n",
    "    y_valid_LSTM.append(y_valid.iloc[i])\n",
    "X_valid_LSTM, y_valid_LSTM = np.array(X_valid_LSTM), np.array(y_valid_LSTM) "
   ]
  },
  {
   "cell_type": "code",
   "execution_count": null,
   "metadata": {
    "id": "fKO8JtX2jYOj",
    "outputId": "f2704c02-f562-49c0-a42c-d636470bf257"
   },
   "outputs": [],
   "source": [
    "print(X_valid_LSTM.shape)\n",
    "print(y_valid_LSTM.shape)"
   ]
  },
  {
   "cell_type": "code",
   "execution_count": null,
   "metadata": {
    "id": "JNAonp3VjYOk"
   },
   "outputs": [],
   "source": [
    "X_test_LSTM = []\n",
    "for i in range(X_test.shape[0] - (T-1)):\n",
    "    X_test_LSTM.append(X_test.iloc[i:i+T].values)"
   ]
  },
  {
   "cell_type": "code",
   "execution_count": null,
   "metadata": {
    "id": "Fsy0H6ZUjYOl",
    "outputId": "99e00306-38ec-49b4-f4f4-dff1bc3de749",
    "scrolled": false
   },
   "outputs": [],
   "source": [
    "len(X_test_LSTM)"
   ]
  },
  {
   "cell_type": "code",
   "execution_count": null,
   "metadata": {
    "id": "HPYwX-1tjYOm"
   },
   "outputs": [],
   "source": [
    "X_test_LSTM = np.array(X_test_LSTM)"
   ]
  },
  {
   "cell_type": "code",
   "execution_count": null,
   "metadata": {
    "id": "_x9_brsqjYOn",
    "outputId": "6fef7d30-1597-40f7-f5b0-f2a4632da741"
   },
   "outputs": [],
   "source": [
    "X_test_LSTM.shape"
   ]
  },
  {
   "cell_type": "markdown",
   "metadata": {
    "id": "ske0A4hijYOn"
   },
   "source": [
    "LSTM Model - Batch Training and Predictiction"
   ]
  },
  {
   "cell_type": "code",
   "execution_count": null,
   "metadata": {
    "id": "JTr_fBlijYOo"
   },
   "outputs": [],
   "source": [
    "import tensorflow as tf\n",
    "from tensorflow import keras"
   ]
  },
  {
   "cell_type": "code",
   "execution_count": null,
   "metadata": {
    "id": "wMiuKfzIjYOp"
   },
   "outputs": [],
   "source": [
    "# Import Keras\n",
    "from keras.models import Sequential\n",
    "from keras.layers import Dense, LSTM, BatchNormalization\n",
    "#from keras.optimizers import Adam\n",
    "from keras.callbacks import ReduceLROnPlateau, EarlyStopping\n",
    "from keras.regularizers import l2\n",
    "from time import time"
   ]
  },
  {
   "cell_type": "code",
   "execution_count": null,
   "metadata": {
    "id": "xp69XP3EjYOq",
    "outputId": "e1cbb531-b193-4377-f13e-83e1670dc630"
   },
   "outputs": [],
   "source": [
    "# Let's make a list of CONSTANTS for modelling:\n",
    "LAYERS = [20, 20, 20, 1]                # number of units in hidden and output layers\n",
    "M_TRAIN = X_train_LSTM.shape[0]           # number of training examples (2D)\n",
    "M_TEST = X_test_LSTM.shape[0]             # number of test examples (2D),full=X_test.shape[0]\n",
    "N = X_train_LSTM.shape[2]                 # number of features\n",
    "BATCH = M_TRAIN                          # batch size\n",
    "EPOCH = 100                           # number of epochs\n",
    "LR = 5e-2                            # learning rate of the gradient descent\n",
    "LAMBD = 3e-2                         # lambda in L2 regularizaion\n",
    "DP = 0.0                             # dropout rate\n",
    "RDP = 0.0                            # recurrent dropout rate\n",
    "print(f'layers={LAYERS}, train_examples={M_TRAIN}, test_examples={M_TEST}')\n",
    "print(f'batch = {BATCH}, timesteps = {T}, features = {N}, epochs = {EPOCH}')\n",
    "print(f'lr = {LR}, lambda = {LAMBD}, dropout = {DP}, recurr_dropout = {RDP}')\n"
   ]
  },
  {
   "cell_type": "code",
   "execution_count": null,
   "metadata": {
    "id": "OxgW2-wPjYOs",
    "outputId": "65fd7733-d107-4681-ae7b-a5ffb3f0c9a4"
   },
   "outputs": [],
   "source": [
    "# Build the Model\n",
    "model = Sequential()\n",
    "model.add(LSTM(input_shape=(T, N), units=LAYERS[0],\n",
    "               activation='tanh', recurrent_activation='hard_sigmoid',\n",
    "               kernel_regularizer=l2(LAMBD), recurrent_regularizer=l2(LAMBD),\n",
    "               dropout=DP, recurrent_dropout=RDP,\n",
    "               return_sequences=True, return_state=False,\n",
    "               stateful=False, unroll=False\n",
    "              ))\n",
    "model.add(BatchNormalization())\n",
    "model.add(LSTM(units=LAYERS[1],\n",
    "               activation='tanh', recurrent_activation='hard_sigmoid',\n",
    "               kernel_regularizer=l2(LAMBD), recurrent_regularizer=l2(LAMBD),\n",
    "               dropout=DP, recurrent_dropout=RDP,\n",
    "               return_sequences=True, return_state=False,\n",
    "               stateful=False, unroll=False\n",
    "              ))\n",
    "model.add(BatchNormalization())\n",
    "model.add(LSTM(units=LAYERS[2],\n",
    "               activation='tanh', recurrent_activation='hard_sigmoid',\n",
    "               kernel_regularizer=l2(LAMBD), recurrent_regularizer=l2(LAMBD),\n",
    "               dropout=DP, recurrent_dropout=RDP,\n",
    "               return_sequences=False, return_state=False,\n",
    "               stateful=False, unroll=False\n",
    "              ))\n",
    "model.add(BatchNormalization())\n",
    "model.add(Dense(units=LAYERS[3], activation='sigmoid'))\n",
    "\n",
    "# Compile the model with Adam optimizer\n",
    "model.compile(loss='binary_crossentropy',\n",
    "              metrics=['accuracy'],\n",
    "              optimizer= 'adam')\n",
    "print(model.summary())"
   ]
  },
  {
   "cell_type": "code",
   "execution_count": null,
   "metadata": {
    "id": "F7Nd2VhEjYOu",
    "outputId": "e0df96ad-d9e3-4907-91e2-4e7939bf6141",
    "scrolled": true
   },
   "outputs": [],
   "source": [
    "# Define a learning rate decay method:\n",
    "lr_decay = ReduceLROnPlateau(monitor='loss', \n",
    "                             patience=1, verbose=0, \n",
    "                             factor=0.5, min_lr=1e-8)\n",
    "# Define Early Stopping:\n",
    "early_stop = EarlyStopping(monitor='val_accuracy', min_delta=0, \n",
    "                           patience=30, verbose=1, mode='auto',\n",
    "                           baseline=0, restore_best_weights=True)\n",
    "# Train the model. \n",
    "# The dataset is small for NN - let's use test_data for validation\n",
    "start = time()\n",
    "History = model.fit(X_train_LSTM, y_train_LSTM,\n",
    "                    epochs=EPOCH,\n",
    "                    batch_size=BATCH,\n",
    "                    validation_split=0.0,\n",
    "                    validation_data=(X_valid_LSTM, y_valid_LSTM),\n",
    "                    shuffle=True,verbose=0,\n",
    "                    callbacks=[lr_decay, early_stop])\n",
    "print('-'*65)\n",
    "print(f'Training was completed in {time() - start:.2f} secs')\n",
    "print('-'*65)\n"
   ]
  },
  {
   "cell_type": "code",
   "execution_count": null,
   "metadata": {
    "id": "a83KwP65jYOx",
    "outputId": "9ea4a678-3fd9-40ed-9c84-60f5b456de83"
   },
   "outputs": [],
   "source": [
    "# Evaluate the model:\n",
    "train_loss, train_acc = model.evaluate(X_train_LSTM, y_train_LSTM,\n",
    "                                       batch_size=M_TRAIN, verbose=0)\n",
    "# test_loss, test_acc = model.evaluate(X_test_LSTM, y_test_LSTM,\n",
    "#                                      batch_size=M_TEST, verbose=0)\n",
    "# print('-'*65)\n",
    "print(f'train accuracy = {round(train_acc * 100, 4)}%')\n",
    "# print(f'test accuracy = {round(test_acc * 100, 4)}%')\n",
    "# print(f'test error = {round((1 - test_acc) * M_TEST)} out of {M_TEST} examples')"
   ]
  },
  {
   "cell_type": "code",
   "execution_count": null,
   "metadata": {
    "id": "5TC_H8xEjYOy",
    "scrolled": true
   },
   "outputs": [],
   "source": [
    "yhat = np.argmax(model.predict(X_test_LSTM, verbose = 0), axis=-1)\n"
   ]
  },
  {
   "cell_type": "code",
   "execution_count": null,
   "metadata": {
    "id": "C6yhQMJqjYO1",
    "outputId": "f7f2b0ed-844f-47a1-82b6-88ed7288775c"
   },
   "outputs": [],
   "source": []
  },
  {
   "cell_type": "code",
   "execution_count": null,
   "metadata": {
    "id": "hMx-H-FOjYPG"
   },
   "outputs": [],
   "source": []
  },
  {
   "cell_type": "code",
   "execution_count": null,
   "metadata": {
    "id": "pB3ve6fujYPH"
   },
   "outputs": [],
   "source": []
  },
  {
   "cell_type": "code",
   "execution_count": null,
   "metadata": {
    "id": "Yve0Q-DkjYPJ"
   },
   "outputs": [],
   "source": []
  },
  {
   "cell_type": "code",
   "execution_count": null,
   "metadata": {
    "id": "HD_mkdecjYPS"
   },
   "outputs": [],
   "source": []
  },
  {
   "cell_type": "code",
   "execution_count": null,
   "metadata": {
    "id": "5mQoDiXYjYPT"
   },
   "outputs": [],
   "source": []
  },
  {
   "cell_type": "code",
   "execution_count": null,
   "metadata": {
    "id": "XdbNEUGDjYPU"
   },
   "outputs": [],
   "source": [
    "x_train.head()"
   ]
  },
  {
   "cell_type": "code",
   "execution_count": null,
   "metadata": {
    "id": "fYjGSTg-jYPU"
   },
   "outputs": [],
   "source": [
    "y_train.head()"
   ]
  },
  {
   "cell_type": "code",
   "execution_count": null,
   "metadata": {
    "id": "BdTskVNijYPV"
   },
   "outputs": [],
   "source": [
    "y_train['transformed'] = y_train.apply(lambda x: ''.join(x.astype(str)),axis = 1)"
   ]
  },
  {
   "cell_type": "code",
   "execution_count": null,
   "metadata": {
    "id": "fDKsRCkujYPV"
   },
   "outputs": [],
   "source": [
    "le_y = preprocessing.LabelEncoder()\n",
    "y_train['encoded'] = le_y.fit_transform(y_train['transformed'])"
   ]
  },
  {
   "cell_type": "code",
   "execution_count": null,
   "metadata": {
    "id": "1sY4JsLpjYPX"
   },
   "outputs": [],
   "source": [
    "y_train.head()"
   ]
  },
  {
   "cell_type": "code",
   "execution_count": null,
   "metadata": {
    "id": "A7bpjREzjYPY"
   },
   "outputs": [],
   "source": [
    "le = preprocessing.LabelEncoder()\n",
    "le.fit(x_train['dayofweek'])\n",
    "le.classes_"
   ]
  },
  {
   "cell_type": "code",
   "execution_count": null,
   "metadata": {
    "id": "qeExXXRdjYPZ"
   },
   "outputs": [],
   "source": [
    "scale_list = ['absdif', 'dif', 'entropy', 'hurst', 'load', 'max', 'nonlinear', 'var']\n",
    "scaler = preprocessing.StandardScaler().fit(x_train[scale_list])\n"
   ]
  },
  {
   "cell_type": "code",
   "execution_count": null,
   "metadata": {
    "id": "XzXKfIJAjYPZ"
   },
   "outputs": [],
   "source": [
    "x_train.head()"
   ]
  },
  {
   "cell_type": "code",
   "execution_count": null,
   "metadata": {
    "id": "ul0SZtNGjYPa"
   },
   "outputs": [],
   "source": [
    "x_train['dayofweek'] = le.transform(x_train['dayofweek'])\n",
    "x_train[scale_list] = scaler.transform(x_train[scale_list])"
   ]
  },
  {
   "cell_type": "code",
   "execution_count": null,
   "metadata": {
    "id": "muldN2kjjYPb"
   },
   "outputs": [],
   "source": [
    "x_train.head()"
   ]
  },
  {
   "cell_type": "code",
   "execution_count": null,
   "metadata": {
    "id": "5tifRenVjYPd"
   },
   "outputs": [],
   "source": [
    "x_train.describe()"
   ]
  },
  {
   "cell_type": "code",
   "execution_count": null,
   "metadata": {
    "id": "CfJrlyDWjYPe"
   },
   "outputs": [],
   "source": [
    "plt.style.use('fivethirtyeight')\n",
    "x_train.plot(subplots=True,\n",
    "        layout=(6, 3),\n",
    "        figsize=(22,22),\n",
    "        fontsize=10, \n",
    "        linewidth=2,\n",
    "        sharex=False,\n",
    "        title='Visualization of the original Time Series')\n",
    "plt.show()"
   ]
  },
  {
   "cell_type": "markdown",
   "metadata": {
    "id": "FamrP5vVjYPf"
   },
   "source": [
    "The raw data contain stochastic time series. Predicting/ making classification based on stochastic variable values may force the model to learn the 'persistence' mode (i.e. yhat(t+1) = y(t)), resulting in little predictive power. Defining the model to predict (make classification from) the difference in values between the time steps rather than value itself, is a stronger test of its predictive power."
   ]
  },
  {
   "cell_type": "code",
   "execution_count": null,
   "metadata": {
    "id": "F-KaxalPjYPg"
   },
   "outputs": [],
   "source": [
    "x_train = x_train.copy().pct_change(1)\n",
    "x_train.head()\n"
   ]
  },
  {
   "cell_type": "code",
   "execution_count": null,
   "metadata": {
    "id": "hZAjBpImjYPh"
   },
   "outputs": [],
   "source": [
    "x_train.fillna(method='bfill', inplace=True)\n",
    "x_train.head()\n"
   ]
  },
  {
   "cell_type": "code",
   "execution_count": null,
   "metadata": {
    "id": "vXPw4thTjYPi"
   },
   "outputs": [],
   "source": [
    "x_train.tail()\n"
   ]
  },
  {
   "cell_type": "code",
   "execution_count": null,
   "metadata": {
    "id": "Lb_1mS4njYPi"
   },
   "outputs": [],
   "source": [
    "X_train_final, X_valid, y_train_final, y_valid = train_test_split(x_train, y_train, test_size = 0.2, random_state = 42,shuffle=False)\n"
   ]
  },
  {
   "cell_type": "code",
   "execution_count": null,
   "metadata": {
    "id": "fAMhXLdUjYPj"
   },
   "outputs": [],
   "source": [
    "# I want to use a T-mins window of input data for predicting target_class\n",
    "# It means I need to prepend (T-1) last train records to the 1st test window\n",
    "T = 30  # my choice of the timesteps window\n",
    "\n",
    "prepend_features = X_train_final.iloc[-(T-1):]\n",
    "X_valid = pd.concat([prepend_features, X_valid], axis=0)"
   ]
  },
  {
   "cell_type": "code",
   "execution_count": null,
   "metadata": {
    "id": "M_b7aBTHjYPk"
   },
   "outputs": [],
   "source": [
    "X_valid.head()"
   ]
  },
  {
   "cell_type": "code",
   "execution_count": null,
   "metadata": {
    "id": "zRznP8zvjYPl"
   },
   "outputs": [],
   "source": [
    "X_train_final.head()"
   ]
  },
  {
   "cell_type": "code",
   "execution_count": null,
   "metadata": {
    "id": "kGhSwmK0jYPm"
   },
   "outputs": [],
   "source": [
    "X_train_final.tail()"
   ]
  },
  {
   "cell_type": "code",
   "execution_count": null,
   "metadata": {
    "id": "k8VmfvsjjYPm"
   },
   "outputs": [],
   "source": [
    "X_valid.head()"
   ]
  },
  {
   "cell_type": "code",
   "execution_count": null,
   "metadata": {
    "id": "TYqC1BlYjYP0"
   },
   "outputs": [],
   "source": [
    "X_train_final.shape, X_valid.shape, y_train_final.shape, y_valid.shape"
   ]
  },
  {
   "cell_type": "markdown",
   "metadata": {
    "id": "ERVMnvftjYP1"
   },
   "source": [
    "Input data for the Keras LSTM layer has 3 dimensions: (M, T, N), where\n",
    "\n",
    "- M - number of examples (2D: sequences of timesteps x features),\n",
    "- T - sequence length (timesteps) and\n",
    "- N - number of features (input_dim)"
   ]
  },
  {
   "cell_type": "code",
   "execution_count": null,
   "metadata": {
    "id": "RrZGvPY0jYP2"
   },
   "outputs": [],
   "source": [
    "X_train_final.shape[0]"
   ]
  },
  {
   "cell_type": "code",
   "execution_count": null,
   "metadata": {
    "id": "D1TdjIp6jYP2"
   },
   "outputs": [],
   "source": [
    "# Create sequences of T timesteps\n",
    "X_train_LSTM, y_train_LSTM = [], []\n",
    "for i in range(y_train_final.shape[0] - (T-1)):\n",
    "    X_train_LSTM.append(X_train_final.iloc[i:i+T].values)\n",
    "    y_train_LSTM.append(y_train_final.iloc[i + (T-1)])\n",
    "# X_train_LSTM, y_train_LSTM = np.array(X_train_LSTM), np.array(y_train_LSTM).reshape(-1,1)\n",
    "# print(f'Train data dimensions: {X_train_LSTM.shape}, {y_train_LSTM.shape}')\n",
    "\n",
    "# X_valid, y_test = [], []\n",
    "# for i in range(test_labels.shape[0]):\n",
    "#     X_test.append(scaled_test_features.iloc[i:i+T].values)\n",
    "#     y_test.append(test_labels.iloc[i])\n",
    "# X_test, y_test = np.array(X_test), np.array(y_test).reshape(-1,1)  \n",
    "\n",
    "# print(f'Test data dimensions: {X_test.shape}, {y_test.shape}')"
   ]
  },
  {
   "cell_type": "code",
   "execution_count": null,
   "metadata": {
    "id": "4Csrbo2CjYP3"
   },
   "outputs": [],
   "source": [
    "X_train_LSTM\n",
    "X_train_LSTM"
   ]
  },
  {
   "cell_type": "code",
   "execution_count": null,
   "metadata": {
    "id": "CeInIx2BjYP4"
   },
   "outputs": [],
   "source": []
  },
  {
   "cell_type": "code",
   "execution_count": null,
   "metadata": {
    "id": "3wmFsha9jYP4"
   },
   "outputs": [],
   "source": []
  },
  {
   "cell_type": "code",
   "execution_count": null,
   "metadata": {
    "id": "sniJu7zfjYP5"
   },
   "outputs": [],
   "source": []
  },
  {
   "cell_type": "code",
   "execution_count": null,
   "metadata": {
    "id": "_xKMWTn2jYP5"
   },
   "outputs": [],
   "source": [
    "\n",
    "\n",
    "# Split train and validation data\n",
    "train_features = x_train.loc['2012-01-02':'2016-12-31']\n",
    "train_labels = df.loc['2012-01-02':'2016-12-31', 'target_class']\n",
    "\n",
    "test_features = df_transform.loc['2017-01-02':'2018-06-19']\n",
    "test_labels = df.loc['2017-01-02':'2018-06-19', 'target_class']\n",
    "\n",
    "# I want to use a T-days window of input data for predicting target_class\n",
    "# It means I need to prepend (T-1) last train records to the 1st test window\n",
    "T = 45  # my choice of the timesteps window\n",
    "\n",
    "prepend_features = train_features.iloc[-(T-1):]\n",
    "test_features = pd.concat([prepend_features, test_features], axis=0)\n",
    "\n",
    "train_features.shape, train_labels.shape, test_features.shape, test_labels.shape"
   ]
  }
 ],
 "metadata": {
  "colab": {
   "name": "Thai Nguyen LSTM.ipynb",
   "provenance": []
  },
  "kernelspec": {
   "display_name": "Python 3",
   "language": "python",
   "name": "python3"
  },
  "language_info": {
   "codemirror_mode": {
    "name": "ipython",
    "version": 3
   },
   "file_extension": ".py",
   "mimetype": "text/x-python",
   "name": "python",
   "nbconvert_exporter": "python",
   "pygments_lexer": "ipython3",
   "version": "3.8.5"
  }
 },
 "nbformat": 4,
 "nbformat_minor": 1
}
