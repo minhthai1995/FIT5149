{
 "cells": [
  {
   "cell_type": "code",
   "execution_count": 1,
   "metadata": {},
   "outputs": [],
   "source": [
    "import pandas as pd\n",
    "import torch\n",
    "from sklearn import preprocessing\n",
    "from sklearn.model_selection import train_test_split\n",
    "import numpy as np\n",
    "from torch import nn\n",
    "from torch import optim\n",
    "from torch.nn import functional as F\n",
    "from torch.optim.lr_scheduler import _LRScheduler\n",
    "from torch.utils.data import TensorDataset, DataLoader\n",
    "import matplotlib.pyplot as plt\n",
    "from multiprocessing import cpu_count\n",
    "from pathlib import Path\n",
    "\n",
    "pd.set_option('display.max_rows', 10000)"
   ]
  },
  {
   "cell_type": "code",
   "execution_count": 2,
   "metadata": {},
   "outputs": [],
   "source": [
    "data = pd.read_csv('./FIT5149_A2_data/train_data_withlabels.csv')"
   ]
  },
  {
   "cell_type": "code",
   "execution_count": 3,
   "metadata": {
    "scrolled": true
   },
   "outputs": [
    {
     "data": {
      "text/html": [
       "<div>\n",
       "<style scoped>\n",
       "    .dataframe tbody tr th:only-of-type {\n",
       "        vertical-align: middle;\n",
       "    }\n",
       "\n",
       "    .dataframe tbody tr th {\n",
       "        vertical-align: top;\n",
       "    }\n",
       "\n",
       "    .dataframe thead th {\n",
       "        text-align: right;\n",
       "    }\n",
       "</style>\n",
       "<table border=\"1\" class=\"dataframe\">\n",
       "  <thead>\n",
       "    <tr style=\"text-align: right;\">\n",
       "      <th></th>\n",
       "      <th>Unnamed: 0</th>\n",
       "      <th>load</th>\n",
       "      <th>ac</th>\n",
       "      <th>ev</th>\n",
       "      <th>oven</th>\n",
       "      <th>wash</th>\n",
       "      <th>dryer</th>\n",
       "      <th>hourofday</th>\n",
       "      <th>dayofweek</th>\n",
       "      <th>dif</th>\n",
       "      <th>absdif</th>\n",
       "      <th>max</th>\n",
       "      <th>var</th>\n",
       "      <th>entropy</th>\n",
       "      <th>nonlinear</th>\n",
       "      <th>hurst</th>\n",
       "    </tr>\n",
       "  </thead>\n",
       "  <tbody>\n",
       "    <tr>\n",
       "      <th>0</th>\n",
       "      <td>105541</td>\n",
       "      <td>2.245</td>\n",
       "      <td>0</td>\n",
       "      <td>0</td>\n",
       "      <td>0</td>\n",
       "      <td>0</td>\n",
       "      <td>0</td>\n",
       "      <td>0</td>\n",
       "      <td>Sun</td>\n",
       "      <td>0.987</td>\n",
       "      <td>0.987</td>\n",
       "      <td>6.215</td>\n",
       "      <td>3.074549</td>\n",
       "      <td>0.678886</td>\n",
       "      <td>0.052903</td>\n",
       "      <td>0.994071</td>\n",
       "    </tr>\n",
       "    <tr>\n",
       "      <th>1</th>\n",
       "      <td>105542</td>\n",
       "      <td>2.259</td>\n",
       "      <td>0</td>\n",
       "      <td>0</td>\n",
       "      <td>0</td>\n",
       "      <td>0</td>\n",
       "      <td>0</td>\n",
       "      <td>0</td>\n",
       "      <td>Sun</td>\n",
       "      <td>0.014</td>\n",
       "      <td>0.014</td>\n",
       "      <td>6.215</td>\n",
       "      <td>3.172867</td>\n",
       "      <td>0.667450</td>\n",
       "      <td>0.054829</td>\n",
       "      <td>0.994154</td>\n",
       "    </tr>\n",
       "    <tr>\n",
       "      <th>2</th>\n",
       "      <td>105543</td>\n",
       "      <td>2.269</td>\n",
       "      <td>0</td>\n",
       "      <td>0</td>\n",
       "      <td>0</td>\n",
       "      <td>0</td>\n",
       "      <td>0</td>\n",
       "      <td>0</td>\n",
       "      <td>Sun</td>\n",
       "      <td>0.010</td>\n",
       "      <td>0.010</td>\n",
       "      <td>6.215</td>\n",
       "      <td>3.270112</td>\n",
       "      <td>0.647777</td>\n",
       "      <td>0.056991</td>\n",
       "      <td>0.994220</td>\n",
       "    </tr>\n",
       "    <tr>\n",
       "      <th>3</th>\n",
       "      <td>105544</td>\n",
       "      <td>2.268</td>\n",
       "      <td>0</td>\n",
       "      <td>0</td>\n",
       "      <td>0</td>\n",
       "      <td>0</td>\n",
       "      <td>0</td>\n",
       "      <td>0</td>\n",
       "      <td>Sun</td>\n",
       "      <td>-0.001</td>\n",
       "      <td>0.001</td>\n",
       "      <td>6.215</td>\n",
       "      <td>3.303763</td>\n",
       "      <td>0.629227</td>\n",
       "      <td>0.057606</td>\n",
       "      <td>0.994150</td>\n",
       "    </tr>\n",
       "    <tr>\n",
       "      <th>4</th>\n",
       "      <td>105545</td>\n",
       "      <td>2.270</td>\n",
       "      <td>0</td>\n",
       "      <td>0</td>\n",
       "      <td>0</td>\n",
       "      <td>0</td>\n",
       "      <td>0</td>\n",
       "      <td>0</td>\n",
       "      <td>Sun</td>\n",
       "      <td>0.002</td>\n",
       "      <td>0.002</td>\n",
       "      <td>6.215</td>\n",
       "      <td>3.302744</td>\n",
       "      <td>0.621295</td>\n",
       "      <td>0.082640</td>\n",
       "      <td>0.994041</td>\n",
       "    </tr>\n",
       "    <tr>\n",
       "      <th>...</th>\n",
       "      <td>...</td>\n",
       "      <td>...</td>\n",
       "      <td>...</td>\n",
       "      <td>...</td>\n",
       "      <td>...</td>\n",
       "      <td>...</td>\n",
       "      <td>...</td>\n",
       "      <td>...</td>\n",
       "      <td>...</td>\n",
       "      <td>...</td>\n",
       "      <td>...</td>\n",
       "      <td>...</td>\n",
       "      <td>...</td>\n",
       "      <td>...</td>\n",
       "      <td>...</td>\n",
       "      <td>...</td>\n",
       "    </tr>\n",
       "    <tr>\n",
       "      <th>417715</th>\n",
       "      <td>523256</td>\n",
       "      <td>2.543</td>\n",
       "      <td>0</td>\n",
       "      <td>0</td>\n",
       "      <td>0</td>\n",
       "      <td>0</td>\n",
       "      <td>0</td>\n",
       "      <td>21</td>\n",
       "      <td>Tue</td>\n",
       "      <td>-0.003</td>\n",
       "      <td>0.003</td>\n",
       "      <td>0.000</td>\n",
       "      <td>0.000000</td>\n",
       "      <td>0.000000</td>\n",
       "      <td>0.000000</td>\n",
       "      <td>0.000000</td>\n",
       "    </tr>\n",
       "    <tr>\n",
       "      <th>417716</th>\n",
       "      <td>523257</td>\n",
       "      <td>2.417</td>\n",
       "      <td>0</td>\n",
       "      <td>0</td>\n",
       "      <td>0</td>\n",
       "      <td>0</td>\n",
       "      <td>0</td>\n",
       "      <td>21</td>\n",
       "      <td>Tue</td>\n",
       "      <td>-0.126</td>\n",
       "      <td>0.126</td>\n",
       "      <td>0.000</td>\n",
       "      <td>0.000000</td>\n",
       "      <td>0.000000</td>\n",
       "      <td>0.000000</td>\n",
       "      <td>0.000000</td>\n",
       "    </tr>\n",
       "    <tr>\n",
       "      <th>417717</th>\n",
       "      <td>523258</td>\n",
       "      <td>0.999</td>\n",
       "      <td>0</td>\n",
       "      <td>0</td>\n",
       "      <td>0</td>\n",
       "      <td>0</td>\n",
       "      <td>0</td>\n",
       "      <td>21</td>\n",
       "      <td>Tue</td>\n",
       "      <td>-1.418</td>\n",
       "      <td>1.418</td>\n",
       "      <td>0.000</td>\n",
       "      <td>0.000000</td>\n",
       "      <td>0.000000</td>\n",
       "      <td>0.000000</td>\n",
       "      <td>0.000000</td>\n",
       "    </tr>\n",
       "    <tr>\n",
       "      <th>417718</th>\n",
       "      <td>523259</td>\n",
       "      <td>0.966</td>\n",
       "      <td>0</td>\n",
       "      <td>0</td>\n",
       "      <td>0</td>\n",
       "      <td>0</td>\n",
       "      <td>0</td>\n",
       "      <td>21</td>\n",
       "      <td>Tue</td>\n",
       "      <td>-0.033</td>\n",
       "      <td>0.033</td>\n",
       "      <td>0.000</td>\n",
       "      <td>0.000000</td>\n",
       "      <td>0.000000</td>\n",
       "      <td>0.000000</td>\n",
       "      <td>0.000000</td>\n",
       "    </tr>\n",
       "    <tr>\n",
       "      <th>417719</th>\n",
       "      <td>523260</td>\n",
       "      <td>0.964</td>\n",
       "      <td>0</td>\n",
       "      <td>0</td>\n",
       "      <td>0</td>\n",
       "      <td>0</td>\n",
       "      <td>0</td>\n",
       "      <td>21</td>\n",
       "      <td>Tue</td>\n",
       "      <td>-0.002</td>\n",
       "      <td>0.002</td>\n",
       "      <td>0.000</td>\n",
       "      <td>0.000000</td>\n",
       "      <td>0.000000</td>\n",
       "      <td>0.000000</td>\n",
       "      <td>0.000000</td>\n",
       "    </tr>\n",
       "  </tbody>\n",
       "</table>\n",
       "<p>417720 rows × 16 columns</p>\n",
       "</div>"
      ],
      "text/plain": [
       "        Unnamed: 0   load  ac  ev  oven  wash  dryer  hourofday dayofweek  \\\n",
       "0           105541  2.245   0   0     0     0      0          0       Sun   \n",
       "1           105542  2.259   0   0     0     0      0          0       Sun   \n",
       "2           105543  2.269   0   0     0     0      0          0       Sun   \n",
       "3           105544  2.268   0   0     0     0      0          0       Sun   \n",
       "4           105545  2.270   0   0     0     0      0          0       Sun   \n",
       "...            ...    ...  ..  ..   ...   ...    ...        ...       ...   \n",
       "417715      523256  2.543   0   0     0     0      0         21       Tue   \n",
       "417716      523257  2.417   0   0     0     0      0         21       Tue   \n",
       "417717      523258  0.999   0   0     0     0      0         21       Tue   \n",
       "417718      523259  0.966   0   0     0     0      0         21       Tue   \n",
       "417719      523260  0.964   0   0     0     0      0         21       Tue   \n",
       "\n",
       "          dif  absdif    max       var   entropy  nonlinear     hurst  \n",
       "0       0.987   0.987  6.215  3.074549  0.678886   0.052903  0.994071  \n",
       "1       0.014   0.014  6.215  3.172867  0.667450   0.054829  0.994154  \n",
       "2       0.010   0.010  6.215  3.270112  0.647777   0.056991  0.994220  \n",
       "3      -0.001   0.001  6.215  3.303763  0.629227   0.057606  0.994150  \n",
       "4       0.002   0.002  6.215  3.302744  0.621295   0.082640  0.994041  \n",
       "...       ...     ...    ...       ...       ...        ...       ...  \n",
       "417715 -0.003   0.003  0.000  0.000000  0.000000   0.000000  0.000000  \n",
       "417716 -0.126   0.126  0.000  0.000000  0.000000   0.000000  0.000000  \n",
       "417717 -1.418   1.418  0.000  0.000000  0.000000   0.000000  0.000000  \n",
       "417718 -0.033   0.033  0.000  0.000000  0.000000   0.000000  0.000000  \n",
       "417719 -0.002   0.002  0.000  0.000000  0.000000   0.000000  0.000000  \n",
       "\n",
       "[417720 rows x 16 columns]"
      ]
     },
     "execution_count": 3,
     "metadata": {},
     "output_type": "execute_result"
    }
   ],
   "source": [
    "data"
   ]
  },
  {
   "cell_type": "code",
   "execution_count": 4,
   "metadata": {
    "scrolled": true
   },
   "outputs": [
    {
     "data": {
      "text/plain": [
       "Index(['Unnamed: 0', 'load', 'ac', 'ev', 'oven', 'wash', 'dryer', 'hourofday',\n",
       "       'dayofweek', 'dif', 'absdif', 'max', 'var', 'entropy', 'nonlinear',\n",
       "       'hurst'],\n",
       "      dtype='object')"
      ]
     },
     "execution_count": 4,
     "metadata": {},
     "output_type": "execute_result"
    }
   ],
   "source": [
    "data.columns"
   ]
  },
  {
   "cell_type": "code",
   "execution_count": 5,
   "metadata": {
    "scrolled": true
   },
   "outputs": [],
   "source": [
    "x_train = data.loc[:,data.columns.difference(['ac', 'ev', 'oven', 'wash', 'dryer'])]\n",
    "x_train.drop('Unnamed: 0', axis = 1, inplace = True)\n",
    "y_train = data[['ac', 'ev', 'oven', 'wash', 'dryer']]"
   ]
  },
  {
   "cell_type": "code",
   "execution_count": 6,
   "metadata": {},
   "outputs": [
    {
     "data": {
      "text/html": [
       "<div>\n",
       "<style scoped>\n",
       "    .dataframe tbody tr th:only-of-type {\n",
       "        vertical-align: middle;\n",
       "    }\n",
       "\n",
       "    .dataframe tbody tr th {\n",
       "        vertical-align: top;\n",
       "    }\n",
       "\n",
       "    .dataframe thead th {\n",
       "        text-align: right;\n",
       "    }\n",
       "</style>\n",
       "<table border=\"1\" class=\"dataframe\">\n",
       "  <thead>\n",
       "    <tr style=\"text-align: right;\">\n",
       "      <th></th>\n",
       "      <th>absdif</th>\n",
       "      <th>dayofweek</th>\n",
       "      <th>dif</th>\n",
       "      <th>entropy</th>\n",
       "      <th>hourofday</th>\n",
       "      <th>hurst</th>\n",
       "      <th>load</th>\n",
       "      <th>max</th>\n",
       "      <th>nonlinear</th>\n",
       "      <th>var</th>\n",
       "    </tr>\n",
       "  </thead>\n",
       "  <tbody>\n",
       "    <tr>\n",
       "      <th>0</th>\n",
       "      <td>0.987</td>\n",
       "      <td>Sun</td>\n",
       "      <td>0.987</td>\n",
       "      <td>0.678886</td>\n",
       "      <td>0</td>\n",
       "      <td>0.994071</td>\n",
       "      <td>2.245</td>\n",
       "      <td>6.215</td>\n",
       "      <td>0.052903</td>\n",
       "      <td>3.074549</td>\n",
       "    </tr>\n",
       "    <tr>\n",
       "      <th>1</th>\n",
       "      <td>0.014</td>\n",
       "      <td>Sun</td>\n",
       "      <td>0.014</td>\n",
       "      <td>0.667450</td>\n",
       "      <td>0</td>\n",
       "      <td>0.994154</td>\n",
       "      <td>2.259</td>\n",
       "      <td>6.215</td>\n",
       "      <td>0.054829</td>\n",
       "      <td>3.172867</td>\n",
       "    </tr>\n",
       "    <tr>\n",
       "      <th>2</th>\n",
       "      <td>0.010</td>\n",
       "      <td>Sun</td>\n",
       "      <td>0.010</td>\n",
       "      <td>0.647777</td>\n",
       "      <td>0</td>\n",
       "      <td>0.994220</td>\n",
       "      <td>2.269</td>\n",
       "      <td>6.215</td>\n",
       "      <td>0.056991</td>\n",
       "      <td>3.270112</td>\n",
       "    </tr>\n",
       "    <tr>\n",
       "      <th>3</th>\n",
       "      <td>0.001</td>\n",
       "      <td>Sun</td>\n",
       "      <td>-0.001</td>\n",
       "      <td>0.629227</td>\n",
       "      <td>0</td>\n",
       "      <td>0.994150</td>\n",
       "      <td>2.268</td>\n",
       "      <td>6.215</td>\n",
       "      <td>0.057606</td>\n",
       "      <td>3.303763</td>\n",
       "    </tr>\n",
       "    <tr>\n",
       "      <th>4</th>\n",
       "      <td>0.002</td>\n",
       "      <td>Sun</td>\n",
       "      <td>0.002</td>\n",
       "      <td>0.621295</td>\n",
       "      <td>0</td>\n",
       "      <td>0.994041</td>\n",
       "      <td>2.270</td>\n",
       "      <td>6.215</td>\n",
       "      <td>0.082640</td>\n",
       "      <td>3.302744</td>\n",
       "    </tr>\n",
       "    <tr>\n",
       "      <th>...</th>\n",
       "      <td>...</td>\n",
       "      <td>...</td>\n",
       "      <td>...</td>\n",
       "      <td>...</td>\n",
       "      <td>...</td>\n",
       "      <td>...</td>\n",
       "      <td>...</td>\n",
       "      <td>...</td>\n",
       "      <td>...</td>\n",
       "      <td>...</td>\n",
       "    </tr>\n",
       "    <tr>\n",
       "      <th>417715</th>\n",
       "      <td>0.003</td>\n",
       "      <td>Tue</td>\n",
       "      <td>-0.003</td>\n",
       "      <td>0.000000</td>\n",
       "      <td>21</td>\n",
       "      <td>0.000000</td>\n",
       "      <td>2.543</td>\n",
       "      <td>0.000</td>\n",
       "      <td>0.000000</td>\n",
       "      <td>0.000000</td>\n",
       "    </tr>\n",
       "    <tr>\n",
       "      <th>417716</th>\n",
       "      <td>0.126</td>\n",
       "      <td>Tue</td>\n",
       "      <td>-0.126</td>\n",
       "      <td>0.000000</td>\n",
       "      <td>21</td>\n",
       "      <td>0.000000</td>\n",
       "      <td>2.417</td>\n",
       "      <td>0.000</td>\n",
       "      <td>0.000000</td>\n",
       "      <td>0.000000</td>\n",
       "    </tr>\n",
       "    <tr>\n",
       "      <th>417717</th>\n",
       "      <td>1.418</td>\n",
       "      <td>Tue</td>\n",
       "      <td>-1.418</td>\n",
       "      <td>0.000000</td>\n",
       "      <td>21</td>\n",
       "      <td>0.000000</td>\n",
       "      <td>0.999</td>\n",
       "      <td>0.000</td>\n",
       "      <td>0.000000</td>\n",
       "      <td>0.000000</td>\n",
       "    </tr>\n",
       "    <tr>\n",
       "      <th>417718</th>\n",
       "      <td>0.033</td>\n",
       "      <td>Tue</td>\n",
       "      <td>-0.033</td>\n",
       "      <td>0.000000</td>\n",
       "      <td>21</td>\n",
       "      <td>0.000000</td>\n",
       "      <td>0.966</td>\n",
       "      <td>0.000</td>\n",
       "      <td>0.000000</td>\n",
       "      <td>0.000000</td>\n",
       "    </tr>\n",
       "    <tr>\n",
       "      <th>417719</th>\n",
       "      <td>0.002</td>\n",
       "      <td>Tue</td>\n",
       "      <td>-0.002</td>\n",
       "      <td>0.000000</td>\n",
       "      <td>21</td>\n",
       "      <td>0.000000</td>\n",
       "      <td>0.964</td>\n",
       "      <td>0.000</td>\n",
       "      <td>0.000000</td>\n",
       "      <td>0.000000</td>\n",
       "    </tr>\n",
       "  </tbody>\n",
       "</table>\n",
       "<p>417720 rows × 10 columns</p>\n",
       "</div>"
      ],
      "text/plain": [
       "        absdif dayofweek    dif   entropy  hourofday     hurst   load    max  \\\n",
       "0        0.987       Sun  0.987  0.678886          0  0.994071  2.245  6.215   \n",
       "1        0.014       Sun  0.014  0.667450          0  0.994154  2.259  6.215   \n",
       "2        0.010       Sun  0.010  0.647777          0  0.994220  2.269  6.215   \n",
       "3        0.001       Sun -0.001  0.629227          0  0.994150  2.268  6.215   \n",
       "4        0.002       Sun  0.002  0.621295          0  0.994041  2.270  6.215   \n",
       "...        ...       ...    ...       ...        ...       ...    ...    ...   \n",
       "417715   0.003       Tue -0.003  0.000000         21  0.000000  2.543  0.000   \n",
       "417716   0.126       Tue -0.126  0.000000         21  0.000000  2.417  0.000   \n",
       "417717   1.418       Tue -1.418  0.000000         21  0.000000  0.999  0.000   \n",
       "417718   0.033       Tue -0.033  0.000000         21  0.000000  0.966  0.000   \n",
       "417719   0.002       Tue -0.002  0.000000         21  0.000000  0.964  0.000   \n",
       "\n",
       "        nonlinear       var  \n",
       "0        0.052903  3.074549  \n",
       "1        0.054829  3.172867  \n",
       "2        0.056991  3.270112  \n",
       "3        0.057606  3.303763  \n",
       "4        0.082640  3.302744  \n",
       "...           ...       ...  \n",
       "417715   0.000000  0.000000  \n",
       "417716   0.000000  0.000000  \n",
       "417717   0.000000  0.000000  \n",
       "417718   0.000000  0.000000  \n",
       "417719   0.000000  0.000000  \n",
       "\n",
       "[417720 rows x 10 columns]"
      ]
     },
     "execution_count": 6,
     "metadata": {},
     "output_type": "execute_result"
    }
   ],
   "source": [
    "x_train"
   ]
  },
  {
   "cell_type": "code",
   "execution_count": 7,
   "metadata": {
    "scrolled": false
   },
   "outputs": [
    {
     "name": "stderr",
     "output_type": "stream",
     "text": [
      "<ipython-input-7-10f1e9824297>:1: SettingWithCopyWarning: \n",
      "A value is trying to be set on a copy of a slice from a DataFrame.\n",
      "Try using .loc[row_indexer,col_indexer] = value instead\n",
      "\n",
      "See the caveats in the documentation: https://pandas.pydata.org/pandas-docs/stable/user_guide/indexing.html#returning-a-view-versus-a-copy\n",
      "  y_train['transformed'] = y_train.apply(lambda x: ''.join(x.astype(str)),axis = 1)\n"
     ]
    }
   ],
   "source": [
    "y_train['transformed'] = y_train.apply(lambda x: ''.join(x.astype(str)),axis = 1)"
   ]
  },
  {
   "cell_type": "code",
   "execution_count": 8,
   "metadata": {},
   "outputs": [
    {
     "name": "stderr",
     "output_type": "stream",
     "text": [
      "<ipython-input-8-ebe5fb3c1d65>:2: SettingWithCopyWarning: \n",
      "A value is trying to be set on a copy of a slice from a DataFrame.\n",
      "Try using .loc[row_indexer,col_indexer] = value instead\n",
      "\n",
      "See the caveats in the documentation: https://pandas.pydata.org/pandas-docs/stable/user_guide/indexing.html#returning-a-view-versus-a-copy\n",
      "  y_train['encoded'] = le_y.fit_transform(y_train['transformed'])\n"
     ]
    }
   ],
   "source": [
    "le_y = preprocessing.LabelEncoder()\n",
    "y_train['encoded'] = le_y.fit_transform(y_train['transformed'])"
   ]
  },
  {
   "cell_type": "code",
   "execution_count": 9,
   "metadata": {},
   "outputs": [
    {
     "data": {
      "text/html": [
       "<div>\n",
       "<style scoped>\n",
       "    .dataframe tbody tr th:only-of-type {\n",
       "        vertical-align: middle;\n",
       "    }\n",
       "\n",
       "    .dataframe tbody tr th {\n",
       "        vertical-align: top;\n",
       "    }\n",
       "\n",
       "    .dataframe thead th {\n",
       "        text-align: right;\n",
       "    }\n",
       "</style>\n",
       "<table border=\"1\" class=\"dataframe\">\n",
       "  <thead>\n",
       "    <tr style=\"text-align: right;\">\n",
       "      <th></th>\n",
       "      <th>absdif</th>\n",
       "      <th>dayofweek</th>\n",
       "      <th>dif</th>\n",
       "      <th>entropy</th>\n",
       "      <th>hourofday</th>\n",
       "      <th>hurst</th>\n",
       "      <th>load</th>\n",
       "      <th>max</th>\n",
       "      <th>nonlinear</th>\n",
       "      <th>var</th>\n",
       "    </tr>\n",
       "  </thead>\n",
       "  <tbody>\n",
       "    <tr>\n",
       "      <th>0</th>\n",
       "      <td>0.987</td>\n",
       "      <td>Sun</td>\n",
       "      <td>0.987</td>\n",
       "      <td>0.678886</td>\n",
       "      <td>0</td>\n",
       "      <td>0.994071</td>\n",
       "      <td>2.245</td>\n",
       "      <td>6.215</td>\n",
       "      <td>0.052903</td>\n",
       "      <td>3.074549</td>\n",
       "    </tr>\n",
       "    <tr>\n",
       "      <th>1</th>\n",
       "      <td>0.014</td>\n",
       "      <td>Sun</td>\n",
       "      <td>0.014</td>\n",
       "      <td>0.667450</td>\n",
       "      <td>0</td>\n",
       "      <td>0.994154</td>\n",
       "      <td>2.259</td>\n",
       "      <td>6.215</td>\n",
       "      <td>0.054829</td>\n",
       "      <td>3.172867</td>\n",
       "    </tr>\n",
       "    <tr>\n",
       "      <th>2</th>\n",
       "      <td>0.010</td>\n",
       "      <td>Sun</td>\n",
       "      <td>0.010</td>\n",
       "      <td>0.647777</td>\n",
       "      <td>0</td>\n",
       "      <td>0.994220</td>\n",
       "      <td>2.269</td>\n",
       "      <td>6.215</td>\n",
       "      <td>0.056991</td>\n",
       "      <td>3.270112</td>\n",
       "    </tr>\n",
       "    <tr>\n",
       "      <th>3</th>\n",
       "      <td>0.001</td>\n",
       "      <td>Sun</td>\n",
       "      <td>-0.001</td>\n",
       "      <td>0.629227</td>\n",
       "      <td>0</td>\n",
       "      <td>0.994150</td>\n",
       "      <td>2.268</td>\n",
       "      <td>6.215</td>\n",
       "      <td>0.057606</td>\n",
       "      <td>3.303763</td>\n",
       "    </tr>\n",
       "    <tr>\n",
       "      <th>4</th>\n",
       "      <td>0.002</td>\n",
       "      <td>Sun</td>\n",
       "      <td>0.002</td>\n",
       "      <td>0.621295</td>\n",
       "      <td>0</td>\n",
       "      <td>0.994041</td>\n",
       "      <td>2.270</td>\n",
       "      <td>6.215</td>\n",
       "      <td>0.082640</td>\n",
       "      <td>3.302744</td>\n",
       "    </tr>\n",
       "  </tbody>\n",
       "</table>\n",
       "</div>"
      ],
      "text/plain": [
       "   absdif dayofweek    dif   entropy  hourofday     hurst   load    max  \\\n",
       "0   0.987       Sun  0.987  0.678886          0  0.994071  2.245  6.215   \n",
       "1   0.014       Sun  0.014  0.667450          0  0.994154  2.259  6.215   \n",
       "2   0.010       Sun  0.010  0.647777          0  0.994220  2.269  6.215   \n",
       "3   0.001       Sun -0.001  0.629227          0  0.994150  2.268  6.215   \n",
       "4   0.002       Sun  0.002  0.621295          0  0.994041  2.270  6.215   \n",
       "\n",
       "   nonlinear       var  \n",
       "0   0.052903  3.074549  \n",
       "1   0.054829  3.172867  \n",
       "2   0.056991  3.270112  \n",
       "3   0.057606  3.303763  \n",
       "4   0.082640  3.302744  "
      ]
     },
     "execution_count": 9,
     "metadata": {},
     "output_type": "execute_result"
    }
   ],
   "source": [
    "x_train.head()"
   ]
  },
  {
   "cell_type": "code",
   "execution_count": 10,
   "metadata": {},
   "outputs": [
    {
     "data": {
      "text/plain": [
       "array(['Fri', 'Mon', 'Sat', 'Sun', 'Thu', 'Tue', 'Wed'], dtype=object)"
      ]
     },
     "execution_count": 10,
     "metadata": {},
     "output_type": "execute_result"
    }
   ],
   "source": [
    "le = preprocessing.LabelEncoder()\n",
    "le.fit(x_train['dayofweek'])\n",
    "le.classes_"
   ]
  },
  {
   "cell_type": "code",
   "execution_count": 11,
   "metadata": {},
   "outputs": [],
   "source": [
    "scale_list = ['absdif', 'dif', 'entropy', 'hurst', 'load', 'max', 'nonlinear', 'var']\n",
    "scaler = preprocessing.StandardScaler().fit(x_train[scale_list])\n"
   ]
  },
  {
   "cell_type": "code",
   "execution_count": 12,
   "metadata": {
    "scrolled": true
   },
   "outputs": [],
   "source": [
    "x_train['dayofweek'] = le.transform(x_train['dayofweek'])\n",
    "x_train[scale_list] = scaler.transform(x_train[scale_list])"
   ]
  },
  {
   "cell_type": "code",
   "execution_count": 13,
   "metadata": {
    "scrolled": true
   },
   "outputs": [
    {
     "data": {
      "text/html": [
       "<div>\n",
       "<style scoped>\n",
       "    .dataframe tbody tr th:only-of-type {\n",
       "        vertical-align: middle;\n",
       "    }\n",
       "\n",
       "    .dataframe tbody tr th {\n",
       "        vertical-align: top;\n",
       "    }\n",
       "\n",
       "    .dataframe thead th {\n",
       "        text-align: right;\n",
       "    }\n",
       "</style>\n",
       "<table border=\"1\" class=\"dataframe\">\n",
       "  <thead>\n",
       "    <tr style=\"text-align: right;\">\n",
       "      <th></th>\n",
       "      <th>absdif</th>\n",
       "      <th>dayofweek</th>\n",
       "      <th>dif</th>\n",
       "      <th>entropy</th>\n",
       "      <th>hourofday</th>\n",
       "      <th>hurst</th>\n",
       "      <th>load</th>\n",
       "      <th>max</th>\n",
       "      <th>nonlinear</th>\n",
       "      <th>var</th>\n",
       "    </tr>\n",
       "  </thead>\n",
       "  <tbody>\n",
       "    <tr>\n",
       "      <th>0</th>\n",
       "      <td>1.633999</td>\n",
       "      <td>3</td>\n",
       "      <td>1.859011</td>\n",
       "      <td>-0.306037</td>\n",
       "      <td>0</td>\n",
       "      <td>0.325913</td>\n",
       "      <td>0.031914</td>\n",
       "      <td>1.050126</td>\n",
       "      <td>-0.542338</td>\n",
       "      <td>0.673127</td>\n",
       "    </tr>\n",
       "    <tr>\n",
       "      <th>1</th>\n",
       "      <td>-0.287489</td>\n",
       "      <td>3</td>\n",
       "      <td>0.026370</td>\n",
       "      <td>-0.427219</td>\n",
       "      <td>0</td>\n",
       "      <td>0.327174</td>\n",
       "      <td>0.039319</td>\n",
       "      <td>1.050126</td>\n",
       "      <td>-0.541600</td>\n",
       "      <td>0.728126</td>\n",
       "    </tr>\n",
       "    <tr>\n",
       "      <th>2</th>\n",
       "      <td>-0.295388</td>\n",
       "      <td>3</td>\n",
       "      <td>0.018836</td>\n",
       "      <td>-0.635696</td>\n",
       "      <td>0</td>\n",
       "      <td>0.328183</td>\n",
       "      <td>0.044609</td>\n",
       "      <td>1.050126</td>\n",
       "      <td>-0.540772</td>\n",
       "      <td>0.782525</td>\n",
       "    </tr>\n",
       "    <tr>\n",
       "      <th>3</th>\n",
       "      <td>-0.313161</td>\n",
       "      <td>3</td>\n",
       "      <td>-0.001882</td>\n",
       "      <td>-0.832269</td>\n",
       "      <td>0</td>\n",
       "      <td>0.327108</td>\n",
       "      <td>0.044080</td>\n",
       "      <td>1.050126</td>\n",
       "      <td>-0.540536</td>\n",
       "      <td>0.801349</td>\n",
       "    </tr>\n",
       "    <tr>\n",
       "      <th>4</th>\n",
       "      <td>-0.311186</td>\n",
       "      <td>3</td>\n",
       "      <td>0.003768</td>\n",
       "      <td>-0.916324</td>\n",
       "      <td>0</td>\n",
       "      <td>0.325441</td>\n",
       "      <td>0.045138</td>\n",
       "      <td>1.050126</td>\n",
       "      <td>-0.530947</td>\n",
       "      <td>0.800779</td>\n",
       "    </tr>\n",
       "    <tr>\n",
       "      <th>...</th>\n",
       "      <td>...</td>\n",
       "      <td>...</td>\n",
       "      <td>...</td>\n",
       "      <td>...</td>\n",
       "      <td>...</td>\n",
       "      <td>...</td>\n",
       "      <td>...</td>\n",
       "      <td>...</td>\n",
       "      <td>...</td>\n",
       "      <td>...</td>\n",
       "    </tr>\n",
       "    <tr>\n",
       "      <th>417715</th>\n",
       "      <td>-0.309212</td>\n",
       "      <td>5</td>\n",
       "      <td>-0.005649</td>\n",
       "      <td>-7.500160</td>\n",
       "      <td>21</td>\n",
       "      <td>-14.864864</td>\n",
       "      <td>0.189539</td>\n",
       "      <td>-1.866220</td>\n",
       "      <td>-0.562601</td>\n",
       "      <td>-1.046775</td>\n",
       "    </tr>\n",
       "    <tr>\n",
       "      <th>417716</th>\n",
       "      <td>-0.066310</td>\n",
       "      <td>5</td>\n",
       "      <td>-0.237319</td>\n",
       "      <td>-7.500160</td>\n",
       "      <td>21</td>\n",
       "      <td>-14.864864</td>\n",
       "      <td>0.122892</td>\n",
       "      <td>-1.866220</td>\n",
       "      <td>-0.562601</td>\n",
       "      <td>-1.046775</td>\n",
       "    </tr>\n",
       "    <tr>\n",
       "      <th>417717</th>\n",
       "      <td>2.485141</td>\n",
       "      <td>5</td>\n",
       "      <td>-2.670795</td>\n",
       "      <td>-7.500160</td>\n",
       "      <td>21</td>\n",
       "      <td>-14.864864</td>\n",
       "      <td>-0.627149</td>\n",
       "      <td>-1.866220</td>\n",
       "      <td>-0.562601</td>\n",
       "      <td>-1.046775</td>\n",
       "    </tr>\n",
       "    <tr>\n",
       "      <th>417718</th>\n",
       "      <td>-0.249967</td>\n",
       "      <td>5</td>\n",
       "      <td>-0.062154</td>\n",
       "      <td>-7.500160</td>\n",
       "      <td>21</td>\n",
       "      <td>-14.864864</td>\n",
       "      <td>-0.644604</td>\n",
       "      <td>-1.866220</td>\n",
       "      <td>-0.562601</td>\n",
       "      <td>-1.046775</td>\n",
       "    </tr>\n",
       "    <tr>\n",
       "      <th>417719</th>\n",
       "      <td>-0.311186</td>\n",
       "      <td>5</td>\n",
       "      <td>-0.003766</td>\n",
       "      <td>-7.500160</td>\n",
       "      <td>21</td>\n",
       "      <td>-14.864864</td>\n",
       "      <td>-0.645662</td>\n",
       "      <td>-1.866220</td>\n",
       "      <td>-0.562601</td>\n",
       "      <td>-1.046775</td>\n",
       "    </tr>\n",
       "  </tbody>\n",
       "</table>\n",
       "<p>417720 rows × 10 columns</p>\n",
       "</div>"
      ],
      "text/plain": [
       "          absdif  dayofweek       dif   entropy  hourofday      hurst  \\\n",
       "0       1.633999          3  1.859011 -0.306037          0   0.325913   \n",
       "1      -0.287489          3  0.026370 -0.427219          0   0.327174   \n",
       "2      -0.295388          3  0.018836 -0.635696          0   0.328183   \n",
       "3      -0.313161          3 -0.001882 -0.832269          0   0.327108   \n",
       "4      -0.311186          3  0.003768 -0.916324          0   0.325441   \n",
       "...          ...        ...       ...       ...        ...        ...   \n",
       "417715 -0.309212          5 -0.005649 -7.500160         21 -14.864864   \n",
       "417716 -0.066310          5 -0.237319 -7.500160         21 -14.864864   \n",
       "417717  2.485141          5 -2.670795 -7.500160         21 -14.864864   \n",
       "417718 -0.249967          5 -0.062154 -7.500160         21 -14.864864   \n",
       "417719 -0.311186          5 -0.003766 -7.500160         21 -14.864864   \n",
       "\n",
       "            load       max  nonlinear       var  \n",
       "0       0.031914  1.050126  -0.542338  0.673127  \n",
       "1       0.039319  1.050126  -0.541600  0.728126  \n",
       "2       0.044609  1.050126  -0.540772  0.782525  \n",
       "3       0.044080  1.050126  -0.540536  0.801349  \n",
       "4       0.045138  1.050126  -0.530947  0.800779  \n",
       "...          ...       ...        ...       ...  \n",
       "417715  0.189539 -1.866220  -0.562601 -1.046775  \n",
       "417716  0.122892 -1.866220  -0.562601 -1.046775  \n",
       "417717 -0.627149 -1.866220  -0.562601 -1.046775  \n",
       "417718 -0.644604 -1.866220  -0.562601 -1.046775  \n",
       "417719 -0.645662 -1.866220  -0.562601 -1.046775  \n",
       "\n",
       "[417720 rows x 10 columns]"
      ]
     },
     "execution_count": 13,
     "metadata": {},
     "output_type": "execute_result"
    }
   ],
   "source": [
    "x_train"
   ]
  },
  {
   "cell_type": "code",
   "execution_count": 14,
   "metadata": {},
   "outputs": [],
   "source": [
    "y_train_transformed = np.array(y_train['encoded'])\n",
    "x_train = np.array(x_train)\n",
    "x_train = np.reshape(x_train, [int(x_train.shape[0]/60), 60, int(x_train.shape[1])])"
   ]
  },
  {
   "cell_type": "code",
   "execution_count": 15,
   "metadata": {},
   "outputs": [
    {
     "data": {
      "text/plain": [
       "array([0, 0, 0, ..., 0, 0, 0])"
      ]
     },
     "execution_count": 15,
     "metadata": {},
     "output_type": "execute_result"
    }
   ],
   "source": [
    "y_train_transformed"
   ]
  },
  {
   "cell_type": "code",
   "execution_count": 16,
   "metadata": {},
   "outputs": [
    {
     "data": {
      "text/plain": [
       "(6962, 60, 10)"
      ]
     },
     "execution_count": 16,
     "metadata": {},
     "output_type": "execute_result"
    }
   ],
   "source": [
    "x_train.shape"
   ]
  },
  {
   "cell_type": "code",
   "execution_count": 17,
   "metadata": {},
   "outputs": [
    {
     "data": {
      "text/plain": [
       "array([[[2.14526155e+00, 1.80000000e+02, 3.97337962e-01, ...,\n",
       "         6.29812556e+01, 2.47386844e+01, 5.37399459e+01],\n",
       "        [1.14728623e+01, 0.00000000e+00, 1.12302940e+01, ...,\n",
       "         2.62012504e-02, 1.67496668e+00, 7.13009750e+00],\n",
       "        [5.18061133e+00, 0.00000000e+00, 1.52644167e+01, ...,\n",
       "         2.59732077e-02, 2.02567732e+00, 3.24657838e+00],\n",
       "        ...,\n",
       "        [9.01025553e+00, 0.00000000e+00, 4.52030350e+00, ...,\n",
       "         1.11014072e-02, 2.02641483e-01, 1.56564667e-01],\n",
       "        [6.03629635e+00, 0.00000000e+00, 5.16428915e+00, ...,\n",
       "         1.12209322e-02, 7.73005139e-02, 1.07868265e-01],\n",
       "        [2.07354785e-01, 0.00000000e+00, 1.01765249e+01, ...,\n",
       "         1.12618350e-02, 5.45283650e-02, 8.37258762e-02]],\n",
       "\n",
       "       [[3.29138342e+00, 1.80000000e+02, 3.68745195e-03, ...,\n",
       "         2.55403466e+01, 1.37442010e+00, 1.12720418e+01],\n",
       "        [1.14678503e+01, 0.00000000e+00, 8.61928975e+00, ...,\n",
       "         2.22286948e+00, 2.57957561e+01, 1.64481371e+00],\n",
       "        [3.42991069e+00, 0.00000000e+00, 1.39284750e+01, ...,\n",
       "         2.19257390e+00, 2.49110481e+01, 2.71434512e+00],\n",
       "        ...,\n",
       "        [3.95369985e+00, 0.00000000e+00, 3.24101045e+00, ...,\n",
       "         4.17664275e-01, 6.49625135e+00, 4.95725460e-01],\n",
       "        [3.98784760e+00, 0.00000000e+00, 3.12942486e+00, ...,\n",
       "         4.19720768e-01, 6.36657995e+00, 5.17159584e-01],\n",
       "        [3.64944421e+00, 0.00000000e+00, 3.46939828e+00, ...,\n",
       "         4.20441841e-01, 6.18219689e+00, 5.28573224e-01]],\n",
       "\n",
       "       [[3.89962412e+00, 1.80000000e+02, 8.27942531e-02, ...,\n",
       "         2.13837910e+01, 9.45005848e+00, 6.74325018e+00],\n",
       "        [1.13613399e+01, 0.00000000e+00, 8.65657306e+00, ...,\n",
       "         3.85574375e-02, 1.96307228e+01, 2.91403404e+00],\n",
       "        [3.19977398e+00, 0.00000000e+00, 1.33529861e+01, ...,\n",
       "         3.60458686e-02, 1.89231145e+01, 2.81611843e+00],\n",
       "        ...,\n",
       "        [5.81658861e+00, 0.00000000e+00, 4.73207073e+00, ...,\n",
       "         4.20763709e-03, 1.29352346e+00, 2.69411943e-01],\n",
       "        [5.72975178e+00, 0.00000000e+00, 4.80071368e+00, ...,\n",
       "         5.26412868e-03, 1.00860476e+00, 2.63478337e-01],\n",
       "        [5.25298788e+00, 0.00000000e+00, 5.19091295e+00, ...,\n",
       "         5.63091752e-03, 8.90346975e-01, 2.60584192e-01]],\n",
       "\n",
       "       ...,\n",
       "\n",
       "       [[1.74250805e+01, 3.60000000e+02, 2.76953343e-01, ...,\n",
       "         8.46351240e+01, 1.51821916e+01, 6.25956791e+01],\n",
       "        [4.59645691e-01, 0.00000000e+00, 2.03100049e-01, ...,\n",
       "         4.77610277e+00, 1.22795875e+01, 8.42582594e-02],\n",
       "        [3.65031750e-02, 0.00000000e+00, 2.76248809e-01, ...,\n",
       "         2.66230728e+00, 3.76551274e+00, 4.89669628e-02],\n",
       "        ...,\n",
       "        [2.12934127e-01, 0.00000000e+00, 3.81970621e-01, ...,\n",
       "         2.55878142e-01, 6.61124592e-01, 4.69222433e-03],\n",
       "        [2.84176824e-01, 0.00000000e+00, 2.37915217e-01, ...,\n",
       "         2.73196216e-01, 6.09818949e-01, 4.75565413e-03],\n",
       "        [3.25843233e-01, 0.00000000e+00, 1.56330107e-01, ...,\n",
       "         3.28470188e-02, 1.19243296e+00, 6.61065591e-04]],\n",
       "\n",
       "       [[1.29363431e+01, 3.60000000e+02, 2.86370819e-01, ...,\n",
       "         6.58738453e+01, 1.13514715e+01, 6.14271722e+01],\n",
       "        [2.68207254e+00, 0.00000000e+00, 1.53850697e-01, ...,\n",
       "         5.70740463e+00, 1.02231268e+01, 7.30948733e-01],\n",
       "        [2.60267255e+00, 0.00000000e+00, 3.84933691e-01, ...,\n",
       "         2.73639778e+00, 6.43489857e+00, 3.32386068e-01],\n",
       "        ...,\n",
       "        [6.26253414e-01, 0.00000000e+00, 1.80458362e+00, ...,\n",
       "         1.95724751e-01, 1.86531942e+00, 2.77069977e-02],\n",
       "        [7.36682498e-01, 0.00000000e+00, 2.69323988e+00, ...,\n",
       "         1.74826069e-01, 1.68035576e+00, 2.78496571e-02],\n",
       "        [4.34457644e-02, 0.00000000e+00, 2.42217491e+00, ...,\n",
       "         1.51096287e-01, 1.39592498e+00, 2.19105648e-02]],\n",
       "\n",
       "       [[4.10302929e+00, 3.14000000e+02, 1.60176636e-01, ...,\n",
       "         8.07469755e+01, 2.62725819e+01, 6.10702034e+01],\n",
       "        [7.89559157e+00, 1.27852944e+01, 2.47105209e-01, ...,\n",
       "         1.95206275e+01, 4.92347542e+00, 1.04243879e+00],\n",
       "        [2.39697583e+00, 9.51436445e+00, 1.01058934e+00, ...,\n",
       "         1.31567420e+00, 8.62780507e-01, 1.47051157e-01],\n",
       "        ...,\n",
       "        [5.33614011e+00, 1.00000000e+00, 1.77659546e+00, ...,\n",
       "         1.53578754e-01, 7.06334999e-02, 9.22592798e-03],\n",
       "        [5.42949139e+00, 6.70048885e-01, 2.43288569e+00, ...,\n",
       "         1.17567802e+00, 2.16807438e-01, 6.96106964e-02],\n",
       "        [4.22806280e+00, 0.00000000e+00, 1.82887390e+00, ...,\n",
       "         2.05528489e-01, 7.24368519e-02, 1.16561352e-02]]])"
      ]
     },
     "execution_count": 17,
     "metadata": {},
     "output_type": "execute_result"
    }
   ],
   "source": [
    "def absfft(x):\n",
    "    return np.abs(np.fft.rfft(x))\n",
    "x_train_fft = np.copy(x_train)\n",
    "x_train_fft = np.apply_along_axis(absfft, 1, x_train_fft)\n",
    "x_train_fft"
   ]
  },
  {
   "cell_type": "code",
   "execution_count": 18,
   "metadata": {},
   "outputs": [
    {
     "data": {
      "text/plain": [
       "(6962, 31, 10)"
      ]
     },
     "execution_count": 18,
     "metadata": {},
     "output_type": "execute_result"
    }
   ],
   "source": [
    "x_train_fft.shape"
   ]
  },
  {
   "cell_type": "code",
   "execution_count": 19,
   "metadata": {},
   "outputs": [
    {
     "data": {
      "text/plain": [
       "(6962, 60, 10)"
      ]
     },
     "execution_count": 19,
     "metadata": {},
     "output_type": "execute_result"
    }
   ],
   "source": [
    "x_train.shape"
   ]
  },
  {
   "cell_type": "code",
   "execution_count": 20,
   "metadata": {},
   "outputs": [],
   "source": [
    "num_vars = x_train.shape[2]\n",
    "for i in range(num_vars):\n",
    "    mean_s = np.mean(x_train[:,:,i])\n",
    "    sd_s = np.std(x_train[:,:,i])\n",
    "    x_train[:,:,i] = (x_train[:,:,i]-mean_s)/sd_s\n",
    "\n",
    "num_vars_fft = x_train_fft.shape[2]\n",
    "for i in range(num_vars_fft):\n",
    "    mean_s = np.mean(x_train_fft[:,:,i])\n",
    "    sd_s = np.std(x_train_fft[:,:,i])\n",
    "    x_train_fft[:,:,i] = (x_train_fft[:,:,i]-mean_s)/sd_s"
   ]
  },
  {
   "cell_type": "code",
   "execution_count": 21,
   "metadata": {},
   "outputs": [],
   "source": [
    "\n",
    "x_train = x_train.transpose(0,2,1)\n",
    "x_train_fft = x_train_fft.transpose(0,2,1)"
   ]
  },
  {
   "cell_type": "code",
   "execution_count": 22,
   "metadata": {},
   "outputs": [
    {
     "data": {
      "text/plain": [
       "(6962, 10, 60)"
      ]
     },
     "execution_count": 22,
     "metadata": {},
     "output_type": "execute_result"
    }
   ],
   "source": [
    "x_train.shape"
   ]
  },
  {
   "cell_type": "code",
   "execution_count": 23,
   "metadata": {},
   "outputs": [
    {
     "data": {
      "text/plain": [
       "(6962, 10, 31)"
      ]
     },
     "execution_count": 23,
     "metadata": {},
     "output_type": "execute_result"
    }
   ],
   "source": [
    "x_train_fft.shape"
   ]
  },
  {
   "cell_type": "code",
   "execution_count": 24,
   "metadata": {},
   "outputs": [],
   "source": [
    "def build_datasets(data, target, train_size, valid_pct = 0.2, seed = None):\n",
    "    x, x_fft = data\n",
    "    idx = np.arange(train_size)\n",
    "    train_idx, val_idx = train_test_split(idx, test_size = valid_pct, random_state = seed)\n",
    "    train_ds = TensorDataset(torch.tensor(x[:train_size][train_idx]).float(),\n",
    "                            torch.tensor(x_fft[:train_size][train_idx]).float(),\n",
    "                            torch.tensor(target[:train_size][train_idx]).long())\n",
    "    val_ds = TensorDataset(torch.tensor(x[:train_size][val_idx]).float(),\n",
    "                            torch.tensor(x_fft[:train_size][val_idx]).float(),\n",
    "                            torch.tensor(target[:train_size][val_idx]).long())\n",
    "#     test_ds = TensorDataset(torch.tensor(x[train_size:]).float(),\n",
    "#                             torch.tensor(x_fft[train_size:]).float(),\n",
    "#                             torch.tensor(target[train_size:]).long())\n",
    "    return train_ds, val_ds #, test_ds"
   ]
  },
  {
   "cell_type": "code",
   "execution_count": 25,
   "metadata": {},
   "outputs": [],
   "source": [
    "def build_loaders(data, batch_size = 128, jobs = 8):\n",
    "#     train_ds, valid_ds, test_ds = data\n",
    "    train_ds, valid_ds = data\n",
    "    train_dl = DataLoader(train_ds, batch_size = batch_size, shuffle = False, num_workers = jobs)\n",
    "    valid_dl = DataLoader(valid_ds, batch_size = batch_size, shuffle = False, num_workers = jobs)\n",
    "#     test_dl = DataLoader(test_ds, batch_size = batch_size, shuffle = True, num_workers = jobs)\n",
    "    return train_dl, valid_dl #, test_dl"
   ]
  },
  {
   "cell_type": "code",
   "execution_count": 26,
   "metadata": {},
   "outputs": [],
   "source": [
    "class _SepConv1d(nn.Module):\n",
    "    \"\"\"A simple separable convolution implementation.\n",
    "    \n",
    "    The separable convlution is a method to reduce number of the parameters \n",
    "    in the deep learning network for slight decrease in predictions quality.\n",
    "    \"\"\"\n",
    "    def __init__(self, ni, no, kernel, stride, pad):\n",
    "        super().__init__()\n",
    "        self.depthwise = nn.Conv1d(ni, ni, kernel, stride, padding=pad, groups=ni)\n",
    "        self.pointwise = nn.Conv1d(ni, no, kernel_size=1)\n",
    "\n",
    "    def forward(self, x):\n",
    "        return self.pointwise(self.depthwise(x))"
   ]
  },
  {
   "cell_type": "code",
   "execution_count": 27,
   "metadata": {},
   "outputs": [],
   "source": [
    "class SepConv1d(nn.Module):\n",
    "    \"\"\"Implementes a 1-d convolution with 'batteries included'.\n",
    "    \n",
    "    The module adds (optionally) activation function and dropout layers right after\n",
    "    a separable convolution layer.\n",
    "    \"\"\"\n",
    "    def __init__(self, ni, no, kernel, stride, pad, drop=None,\n",
    "                 activ=lambda: nn.ReLU(inplace=True)):\n",
    "    \n",
    "        super().__init__()\n",
    "        assert drop is None or (0.0 < drop < 1.0)\n",
    "        layers = [_SepConv1d(ni, no, kernel, stride, pad)]\n",
    "        if activ:\n",
    "            layers.append(activ())\n",
    "        if drop is not None:\n",
    "            layers.append(nn.Dropout(drop))\n",
    "        self.layers = nn.Sequential(*layers)\n",
    "        \n",
    "    def forward(self, x): \n",
    "        return self.layers(x)"
   ]
  },
  {
   "cell_type": "code",
   "execution_count": 28,
   "metadata": {},
   "outputs": [],
   "source": [
    "class Flatten(nn.Module):\n",
    "    \"\"\"Converts N-dimensional tensor into 'flat' one.\"\"\"\n",
    "\n",
    "    def __init__(self, keep_batch_dim=True):\n",
    "        super().__init__()\n",
    "        self.keep_batch_dim = keep_batch_dim\n",
    "\n",
    "    def forward(self, x):\n",
    "        if self.keep_batch_dim:\n",
    "            return x.view(x.size(0), -1)\n",
    "        return x.view(-1)"
   ]
  },
  {
   "cell_type": "code",
   "execution_count": 29,
   "metadata": {},
   "outputs": [],
   "source": [
    "class PrintSize(nn.Module):\n",
    "    def __init__(self):\n",
    "        super(PrintSize, self).__init__()\n",
    "        \n",
    "    def forward(self, x):\n",
    "        print(x.shape)\n",
    "        return x"
   ]
  },
  {
   "cell_type": "code",
   "execution_count": 30,
   "metadata": {},
   "outputs": [],
   "source": [
    "class Classifier(nn.Module):\n",
    "    def __init__(self, raw_ni, fft_ni, no, drop=.5):\n",
    "        super().__init__()\n",
    "        #PKS [[3,8,2],[3,8,4],[3,8,2],[3,8,2]]\n",
    "        self.raw = nn.Sequential( #kernel, stride, pad\n",
    "            SepConv1d(raw_ni,  32, 8, 2, 3, drop=drop),\n",
    "            SepConv1d(    32,  64, 8, 4, 3, drop=drop),\n",
    "            SepConv1d(    64, 128, 8, 2, 3, drop=drop),\n",
    "            SepConv1d(   128, 256, 8, 2, 3),\n",
    "            Flatten(),\n",
    "#             PrintSize(),\n",
    "            nn.Dropout(drop), nn.Linear(512, 256), nn.ReLU(inplace=True),\n",
    "            nn.Dropout(drop), nn.Linear( 256, 64), nn.ReLU(inplace=True))\n",
    "        #PKS [[5,8,3],[4,8,2],[5,8,3],[5,8,3],[4,8,3]]\n",
    "        self.fft = nn.Sequential(\n",
    "            SepConv1d(fft_ni,  32, 8, 3, 5, drop=drop),\n",
    "            SepConv1d(    32,  64, 8, 2, 4, drop=drop),\n",
    "            SepConv1d(    64, 128, 8, 3, 5, drop=drop),\n",
    "            SepConv1d(   128, 128, 8, 3, 5, drop=drop),\n",
    "            SepConv1d(   128, 256, 8, 3, 4),\n",
    "            Flatten(),\n",
    "#             PrintSize(),\n",
    "            nn.Dropout(drop), nn.Linear(512, 256), nn.ReLU(inplace=True),\n",
    "            nn.Dropout(drop), nn.Linear( 256, 64), nn.ReLU(inplace=True))\n",
    "        \n",
    "        self.out = nn.Sequential(\n",
    "            nn.Linear(128, 64), nn.ReLU(inplace=True), nn.Linear(64, no))\n",
    "        \n",
    "    def forward(self, t_raw, t_fft):\n",
    "        raw_out = self.raw(t_raw)\n",
    "        fft_out = self.fft(t_fft)\n",
    "        t_in = torch.cat([raw_out, fft_out], dim=1)\n",
    "        out = self.out(t_in)\n",
    "        return out"
   ]
  },
  {
   "cell_type": "code",
   "execution_count": 31,
   "metadata": {},
   "outputs": [],
   "source": [
    "seed = 1\n",
    "train_size = len(x_train)\n",
    "datasets = build_datasets((x_train, x_train_fft), y_train_transformed, train_size,valid_pct = 0.2, seed=seed)"
   ]
  },
  {
   "cell_type": "code",
   "execution_count": 32,
   "metadata": {},
   "outputs": [],
   "source": [
    "device = torch.device('cuda:0' if torch.cuda.is_available() else 'cpu')\n",
    "# device = torch.device('cpu')"
   ]
  },
  {
   "cell_type": "code",
   "execution_count": null,
   "metadata": {},
   "outputs": [
    {
     "name": "stdout",
     "output_type": "stream",
     "text": [
      "Start model training\n",
      "Epoch:   1. Loss: 2.3569. Acc.: 66.33%\n",
      "Epoch 1 best model saved with accuracy: 66.33%\n",
      "Epoch:   2. Loss: 2.2437. Acc.: 66.33%\n",
      "Epoch:   4. Loss: 1.4613. Acc.: 66.33%\n",
      "Epoch:   8. Loss: 0.7375. Acc.: 31.51%\n",
      "Epoch:  16. Loss: 0.6028. Acc.: 66.33%\n",
      "Epoch:  32. Loss: 0.5885. Acc.: 66.33%\n",
      "Epoch:  64. Loss: 0.5828. Acc.: 66.33%\n",
      "Epoch: 128. Loss: 0.5793. Acc.: 66.33%\n",
      "Epoch: 256. Loss: 0.5733. Acc.: 66.33%\n",
      "Epoch: 512. Loss: 0.5598. Acc.: 65.97%\n",
      "Epoch 557 best model saved with accuracy: 66.40%\n",
      "Epoch 578 best model saved with accuracy: 66.55%\n",
      "Epoch 772 best model saved with accuracy: 66.69%\n",
      "Epoch: 1024. Loss: 0.5281. Acc.: 65.11%\n",
      "Epoch: 2048. Loss: 0.4855. Acc.: 63.96%\n"
     ]
    }
   ],
   "source": [
    "raw_feat = x_train.shape[1]\n",
    "fft_feat = x_train_fft.shape[1]\n",
    "# trn_dl, val_dl, tst_dl = build_loaders(datasets, batch_size=256)\n",
    "trn_dl, val_dl = build_loaders(datasets, batch_size=1024)\n",
    "\n",
    "lr = 0.0002\n",
    "n_epochs = 3000\n",
    "iterations_per_epoch = len(trn_dl)\n",
    "num_classes = 20\n",
    "best_acc = 0\n",
    "patience, trials = 3000, 0\n",
    "base = 1\n",
    "step = 2\n",
    "loss_history = []\n",
    "acc_history = []\n",
    "gstep = -1\n",
    "model = Classifier(raw_feat, fft_feat, num_classes,drop = .5).to(device)\n",
    "criterion = nn.CrossEntropyLoss(reduction='sum')\n",
    "opt = torch.optim.Adam(model.parameters(), lr=lr, weight_decay= 0.0001)\n",
    "lr_scheduler = torch.optim.lr_scheduler.OneCycleLR(opt, 0.004, steps_per_epoch = len(datasets[0]),epochs = n_epochs,\n",
    "                                                  pct_start = 0.4,base_momentum = 0.85, max_momentum=0.95,\n",
    "                                                  div_factor = 10.0, last_epoch = gstep)\n",
    "print('Start model training')\n",
    "\n",
    "for epoch in range(1, n_epochs + 1):\n",
    "    \n",
    "    model.train()\n",
    "    epoch_loss = 0\n",
    "    for i, batch in enumerate(trn_dl):\n",
    "        \n",
    "        x_raw, x_fft, y_batch = [t.to(device) for t in batch]\n",
    "        opt.zero_grad()\n",
    "        out = model(x_raw, x_fft)\n",
    "        loss = criterion(out, y_batch)\n",
    "        epoch_loss += loss.item()\n",
    "        loss.backward()\n",
    "        opt.step()\n",
    "        lr_scheduler.step()\n",
    "        \n",
    "    epoch_loss /= train_size\n",
    "    loss_history.append(epoch_loss)\n",
    "    \n",
    "    model.eval()\n",
    "    correct, total = 0, 0\n",
    "    for batch in val_dl:\n",
    "        x_raw, x_fft, y_batch = [t.to(device) for t in batch]\n",
    "        out = model(x_raw, x_fft)\n",
    "        preds = F.log_softmax(out, dim=1).argmax(dim=1)\n",
    "        total += y_batch.size(0)\n",
    "        correct += (preds == y_batch).sum().item()\n",
    "    \n",
    "    acc = correct / total\n",
    "    acc_history.append(acc)\n",
    "\n",
    "    if epoch % base == 0:\n",
    "        print(f'Epoch: {epoch:3d}. Loss: {epoch_loss:.4f}. Acc.: {acc:2.2%}')\n",
    "        base *= step\n",
    "\n",
    "    if acc > best_acc:\n",
    "        trials = 0\n",
    "        best_acc = acc\n",
    "        torch.save(model.state_dict(), 'best.pth')\n",
    "        print(f'Epoch {epoch} best model saved with accuracy: {best_acc:2.2%}')\n",
    "    else:\n",
    "        trials += 1\n",
    "        if trials >= patience:\n",
    "            print(f'Early stopping on epoch {epoch}')\n",
    "            break\n",
    "            \n",
    "print('Done!')"
   ]
  },
  {
   "cell_type": "code",
   "execution_count": null,
   "metadata": {},
   "outputs": [],
   "source": [
    "y_batch"
   ]
  },
  {
   "cell_type": "code",
   "execution_count": null,
   "metadata": {},
   "outputs": [],
   "source": []
  },
  {
   "cell_type": "code",
   "execution_count": null,
   "metadata": {},
   "outputs": [],
   "source": [
    "y_train.encoded.unique()"
   ]
  },
  {
   "cell_type": "code",
   "execution_count": null,
   "metadata": {},
   "outputs": [],
   "source": [
    "criterion(out, torch.tensor([1]))"
   ]
  },
  {
   "cell_type": "code",
   "execution_count": null,
   "metadata": {},
   "outputs": [],
   "source": []
  },
  {
   "cell_type": "code",
   "execution_count": null,
   "metadata": {},
   "outputs": [],
   "source": []
  },
  {
   "cell_type": "code",
   "execution_count": null,
   "metadata": {},
   "outputs": [],
   "source": [
    "l = 9\n",
    "pks = [[3,8,2],[2,8,4],[2,8,4],[2,8,4]]\n",
    "for i, layer in enumerate(pks):\n",
    "    p,k,s = layer\n",
    "    l = (l + 2*p - k)/s + 1\n",
    "    print(f\"length: {l}\")"
   ]
  },
  {
   "cell_type": "code",
   "execution_count": null,
   "metadata": {},
   "outputs": [],
   "source": [
    "l = 6\n",
    "pks = [[4,8,2],[4,8,2],[4,8,4],[4,8,4],[3,8,2]]\n",
    "for i, layer in enumerate(pks):\n",
    "    p,k,s = layer\n",
    "    l = (l + 2*p - k)/s + 1\n",
    "    print(f\"length: {l}\")"
   ]
  },
  {
   "cell_type": "code",
   "execution_count": null,
   "metadata": {},
   "outputs": [],
   "source": [
    "l = 60\n",
    "pks = [[3,8,2],[3,8,4],[3,8,2],[3,8,2]]\n",
    "for i, layer in enumerate(pks):\n",
    "    p,k,s = layer\n",
    "#     w = (w + 2*p - k)/s + 1\n",
    "#     h = (h + 2*p - k)/s + 1\n",
    "    l = (l + 2*p - k)/s + 1\n",
    "    print(f\"length: {l}\")"
   ]
  },
  {
   "cell_type": "code",
   "execution_count": null,
   "metadata": {},
   "outputs": [],
   "source": [
    "l = 31\n",
    "pks = [[5,8,3],[4,8,2],[5,8,3],[5,8,3],[4,8,3]]\n",
    "for i, layer in enumerate(pks):\n",
    "    p,k,s = layer\n",
    "#     w = (w + 2*p - k)/s + 1\n",
    "#     h = (h + 2*p - k)/s + 1\n",
    "    l = (l + 2*p - k)/s + 1\n",
    "    print(f\"length: {l}\")"
   ]
  },
  {
   "cell_type": "code",
   "execution_count": null,
   "metadata": {},
   "outputs": [],
   "source": []
  },
  {
   "cell_type": "code",
   "execution_count": null,
   "metadata": {},
   "outputs": [],
   "source": []
  },
  {
   "cell_type": "code",
   "execution_count": null,
   "metadata": {},
   "outputs": [],
   "source": []
  },
  {
   "cell_type": "code",
   "execution_count": null,
   "metadata": {},
   "outputs": [],
   "source": []
  },
  {
   "cell_type": "code",
   "execution_count": null,
   "metadata": {},
   "outputs": [],
   "source": []
  },
  {
   "cell_type": "code",
   "execution_count": null,
   "metadata": {},
   "outputs": [],
   "source": []
  },
  {
   "cell_type": "code",
   "execution_count": null,
   "metadata": {},
   "outputs": [],
   "source": []
  },
  {
   "cell_type": "code",
   "execution_count": null,
   "metadata": {},
   "outputs": [],
   "source": []
  },
  {
   "cell_type": "code",
   "execution_count": null,
   "metadata": {},
   "outputs": [],
   "source": []
  },
  {
   "cell_type": "code",
   "execution_count": null,
   "metadata": {},
   "outputs": [],
   "source": []
  },
  {
   "cell_type": "code",
   "execution_count": null,
   "metadata": {},
   "outputs": [],
   "source": []
  },
  {
   "cell_type": "code",
   "execution_count": null,
   "metadata": {
    "scrolled": false
   },
   "outputs": [],
   "source": [
    "count_hourly = x_train.loc[:,:].groupby([\"dayofweek\",'hourofday']).count()\n",
    "count_hourly.reset_index(inplace=True)"
   ]
  },
  {
   "cell_type": "code",
   "execution_count": null,
   "metadata": {
    "scrolled": false
   },
   "outputs": [],
   "source": [
    "count_hourly"
   ]
  },
  {
   "cell_type": "code",
   "execution_count": null,
   "metadata": {
    "scrolled": true
   },
   "outputs": [],
   "source": [
    "x_train.sort_values(by=[\"dayofweek\",'hourofday']).head(1000)"
   ]
  },
  {
   "cell_type": "code",
   "execution_count": null,
   "metadata": {},
   "outputs": [],
   "source": [
    "x_train = x_train.sort_values(by=[\"dayofweek\",'hourofday'])"
   ]
  },
  {
   "cell_type": "code",
   "execution_count": null,
   "metadata": {},
   "outputs": [],
   "source": [
    "x_train[(x_train.dayofweek == \"Fri\") & (x_train.hourofday == 11)].first_valid_index()"
   ]
  },
  {
   "cell_type": "code",
   "execution_count": null,
   "metadata": {
    "scrolled": true
   },
   "outputs": [],
   "source": [
    "min_hourly_obs = min(count_hourly['var'].values) \n",
    "drop_idx = []\n",
    "for _, row in count_hourly.iterrows():\n",
    "    drop_idx = [*drop_idx,*x_train[(x_train.dayofweek == row[0]) & (x_train.hourofday == row[1])].index.values[0:row[2] - min_hourly_obs]]\n",
    "drop_idx"
   ]
  },
  {
   "cell_type": "code",
   "execution_count": null,
   "metadata": {},
   "outputs": [],
   "source": [
    "x_train.drop(index = drop_idx, inplace = True)\n",
    "x_train.loc[:,:].groupby([\"dayofweek\",'hourofday']).count()"
   ]
  },
  {
   "cell_type": "code",
   "execution_count": null,
   "metadata": {},
   "outputs": [],
   "source": [
    "x_train"
   ]
  },
  {
   "cell_type": "code",
   "execution_count": null,
   "metadata": {},
   "outputs": [],
   "source": [
    "a = [123]\n",
    "b = list(range(1,4))\n",
    "a + b"
   ]
  },
  {
   "cell_type": "code",
   "execution_count": null,
   "metadata": {},
   "outputs": [],
   "source": [
    "min_hourly_obs"
   ]
  }
 ],
 "metadata": {
  "kernelspec": {
   "display_name": "Python 3",
   "language": "python",
   "name": "python3"
  },
  "language_info": {
   "codemirror_mode": {
    "name": "ipython",
    "version": 3
   },
   "file_extension": ".py",
   "mimetype": "text/x-python",
   "name": "python",
   "nbconvert_exporter": "python",
   "pygments_lexer": "ipython3",
   "version": "3.8.5"
  }
 },
 "nbformat": 4,
 "nbformat_minor": 5
}
